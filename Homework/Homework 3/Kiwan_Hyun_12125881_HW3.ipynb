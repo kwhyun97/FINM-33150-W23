{
 "cells": [
  {
   "cell_type": "markdown",
   "source": [
    "<left>FINM 33150 - Quantitative Trading Strategies</left>\n",
    "<left>Winter 2023</left>\n",
    "<br>\n",
    "<h1><center> Homework 3: Simple Spread Trading </center></h1>\n",
    "<center>Due - 23:00 [CST] January 26th, 2023</center>\n",
    "<br>\n",
    "<h3>Ki Hyun</h3>\n",
    "<h3>Student ID: 12125881</h3>"
   ],
   "metadata": {
    "collapsed": false
   }
  },
  {
   "cell_type": "markdown",
   "source": [
    "<h5> Imports </h5>"
   ],
   "metadata": {
    "collapsed": false
   }
  },
  {
   "cell_type": "code",
   "execution_count": 1,
   "outputs": [],
   "source": [
    "%matplotlib inline"
   ],
   "metadata": {
    "collapsed": false
   }
  },
  {
   "cell_type": "code",
   "execution_count": 2,
   "metadata": {
    "collapsed": true
   },
   "outputs": [],
   "source": [
    "import os\n",
    "from datetime import datetime, timedelta\n",
    "import quandl\n",
    "import functools\n",
    "\n",
    "import matplotlib.pyplot as plt\n",
    "import matplotlib.dates as mdates\n",
    "import pandas as pd\n",
    "import numpy as np\n",
    "import scipy as sp\n",
    "import seaborn as sns"
   ]
  },
  {
   "cell_type": "markdown",
   "source": [
    "<h5> Constants </h5>"
   ],
   "metadata": {
    "collapsed": false
   }
  },
  {
   "cell_type": "code",
   "execution_count": 226,
   "outputs": [],
   "source": [
    "Prices_table = 'QUOTEMEDIA/PRICES'\n",
    "FC_table = 'ZACKS/FC'\n",
    "FR_table = 'ZACKS/FR'\n",
    "MT_table = 'ZACKS/MT'\n",
    "MKTV_table = 'ZACKS/MKTV'\n",
    "SHRS_table = 'ZACKS/SHRS'\n",
    "HDM_table = 'ZACKS/HDM'\n",
    "start_date = '2015-01-01'\n",
    "end_date = '2022-01-31'\n",
    "banned_sectors = [5, 13]\n",
    "\n",
    "sample_size = 200\n",
    "seed = 81"
   ],
   "metadata": {
    "collapsed": false
   }
  },
  {
   "cell_type": "markdown",
   "source": [
    "<h5> Helper Functions </h5>"
   ],
   "metadata": {
    "collapsed": false
   }
  },
  {
   "cell_type": "code",
   "execution_count": 22,
   "outputs": [],
   "source": [
    "\"\"\"\n",
    "This code was given by Dr. Boonstra, B., Ph.D. for\n",
    "University of Chicago FINM 33150 Quandl Options Data Fetching guidelines\n",
    "\"\"\"\n",
    "def grab_quandl_table(\n",
    "    table_path,\n",
    "    avoid_download=False,\n",
    "    replace_existing=False,\n",
    "    date_override=None,\n",
    "    allow_old_file=False,\n",
    "    **kwargs,\n",
    "):\n",
    "    if os.environ['OS'][0:7] == \"Windows\":\n",
    "        root_data_dir = os.path.join(os.environ['HOMEPATH'], 'Quandl Data')\n",
    "    else:\n",
    "        root_data_dir = os.path.join(os.environ[\"HOME\"], 'Quandl Data')\n",
    "    data_symlink = os.path.join(root_data_dir, f\"{table_path}_latest.zip\")\n",
    "    if avoid_download and os.path.exists(data_symlink):\n",
    "        print(f\"Skipping any possible download of {table_path}\")\n",
    "        return data_symlink\n",
    "\n",
    "    table_dir = os.path.dirname(data_symlink)\n",
    "    if not os.path.isdir(table_dir):\n",
    "        print(f'Creating new data dir {table_dir}')\n",
    "        os.mkdir(table_dir)\n",
    "\n",
    "    if date_override is None:\n",
    "        my_date = datetime.now().strftime(\"%Y%m%d\")\n",
    "    else:\n",
    "        my_date = date_override\n",
    "    data_file = os.path.join(root_data_dir, f\"{table_path}_{my_date}.zip\")\n",
    "\n",
    "    if os.path.exists(data_file):\n",
    "        file_size = os.stat(data_file).st_size\n",
    "        if replace_existing or not file_size > 0:\n",
    "            print(f\"Removing old file {data_file} size {file_size}\")\n",
    "        else:\n",
    "            print(\n",
    "                f\"Data file {data_file} size {file_size} exists already, no need to download\"\n",
    "            )\n",
    "            return data_file\n",
    "\n",
    "    dl = quandl.export_table(\n",
    "        table_path, filename = data_file, api_key = 'JbMPn9bSpFPNS7Z7PcZy', **kwargs\n",
    "    )\n",
    "    file_size = os.stat(data_file).st_size\n",
    "    if os.path.exists(data_file) and file_size > 0:\n",
    "        print(f\"Download finished: {file_size} bytes\")\n",
    "        if not date_override:\n",
    "            try:\n",
    "                if os.path.exists(data_symlink):\n",
    "                    print(f\"Removing old symlink\")\n",
    "                    os.unlink(data_symlink)\n",
    "                print(f\"Creating symlink: {data_file} -> {data_symlink}\")\n",
    "                os.symlink(\n",
    "                    data_file, data_symlink,\n",
    "                )\n",
    "            except:\n",
    "                print(f\"Symlink Creation Permission Denied\")\n",
    "                data_symlink = data_file\n",
    "    else:\n",
    "        print(f\"Data file {data_file} failed download\")\n",
    "        return\n",
    "    return data_symlink if (date_override is None or allow_old_file) else \"NoFileAvailable\""
   ],
   "metadata": {
    "collapsed": false
   }
  },
  {
   "cell_type": "code",
   "execution_count": 19,
   "outputs": [],
   "source": [
    "\"\"\"\n",
    "This code was given by Dr. Boonstra, B., Ph.D. for\n",
    "University of Chicago FINM 33150 Quandl Options Data Fetching guidelines\n",
    "\"\"\"\n",
    "def fetch_quandl_table(table_path, avoid_download=True, **kwargs):\n",
    "    return pd.read_csv(\n",
    "        grab_quandl_table(table_path, avoid_download=avoid_download, **kwargs),\n",
    "        low_memory = False\n",
    "    )"
   ],
   "metadata": {
    "collapsed": false
   }
  },
  {
   "cell_type": "code",
   "execution_count": 306,
   "outputs": [],
   "source": [
    "def choose_tickers(Prices, FC, FR, MT, MKTV, SHRS,\n",
    "                   start_date, end_date, banned_sectors,\n",
    "                   sample_size, seed):\n",
    "    # filter for United States equities\n",
    "    filter1 = set(MT[MT['country_name'] == 'UNITED STATES']['ticker'].unique())\n",
    "    # filter for available adj end of day prices data\n",
    "    filter2 = set(Prices[(Prices['date'] > start_date) & (Prices['date'] < end_date)].dropna()['ticker'].unique())\n",
    "    # filter for debt/market_cap greater than 0.1 somewhere in the period\n",
    "    filter3 = set(FR[(FR['per_end_date'] > start_date) & (FR['per_end_date'] < end_date) &\n",
    "                 (FR['tot_debt_tot_equity'] > 0.1)]['ticker'].unique())\n",
    "    # filter for automotive and financial sectors\n",
    "    filter4 = set(FC[(FC['per_end_date'] > start_date) & (FC['per_end_date'] < end_date) &\n",
    "                 (FC['zacks_sector_code'].apply(lambda x: False if x in banned_sectors else True))]['ticker'].unique())\n",
    "    ## filtering for feasible calculation\n",
    "    # filtering for missing tot_debt_tot_equity and ret_invst\n",
    "    FR_temp = FR[(FR['per_end_date'] > start_date) & (FR['per_end_date'] < end_date)][['ticker',\n",
    "                                                                                   'tot_debt_tot_equity',\n",
    "                                                                                   'ret_invst']]\n",
    "    filter5_FR = set(FR_temp[FR_temp.isnull().any(axis = 1)]['ticker'].unique())\n",
    "    # filtering for missing mkt_val\n",
    "    MKTV_temp = MKTV[(MKTV['per_end_date'] > start_date) & (MKTV['per_end_date'] < end_date)][['ticker', 'mkt_val']]\n",
    "    filter5_MKTV = set(MKTV_temp[MKTV_temp.isnull().any(axis = 1)]['ticker'].unique())\n",
    "    # filtering for missing values on P/E calculation\n",
    "    # option 1: diluted EPS\n",
    "    EPS_Diluted_temp = FC[(FC['per_end_date'] > start_date) & (FC['per_end_date'] < end_date)][['ticker',\n",
    "                                                                                                'eps_diluted_net']]\n",
    "    filter5_EPS_Diluted = set(EPS_Diluted_temp[EPS_Diluted_temp.isnull().any(axis = 1)]['ticker'].unique())\n",
    "    # option 2: basic EPS\n",
    "    EPS_Basic_1_temp = FC[(FC['per_end_date'] > start_date) & (FC['per_end_date'] < end_date)][['ticker',\n",
    "                                                                                                'basic_net_eps']]\n",
    "    filter5_EPS_Basic_1 = set(EPS_Basic_1_temp[EPS_Basic_1_temp.isnull().any(axis = 1)]['ticker'].unique())\n",
    "    # filtering for 'shares_out' needed for shares out\n",
    "    EPS_Basic_2_temp = SHRS[(SHRS['per_end_date'] > start_date) & (SHRS['per_end_date'] < end_date)][['ticker',\n",
    "                                                                                                      'shares_out']]\n",
    "    filter5_EPS_Basic_2 = set(EPS_Basic_2_temp[EPS_Basic_2_temp.isnull().any(axis = 1)]['ticker'].unique())\n",
    "    # total filtering for option 2 of basic EPS\n",
    "    filter5_EPS_Basic = filter5_EPS_Basic_1.union(filter5_EPS_Basic_2, filter5_MKTV)\n",
    "    # filtering for both options in calculating EPS\n",
    "    filter5_EPS = filter5_EPS_Diluted.intersection(filter5_EPS_Basic)\n",
    "    # filtering together\n",
    "    filter5_inv = filter5_FR.union(filter5_MKTV, filter5_EPS)\n",
    "\n",
    "    filter = list(filter1.intersection(filter2, filter3, filter4) - filter5_inv)\n",
    "\n",
    "    np.random.seed(seed)\n",
    "    return np.random.choice(filter, sample_size, replace = False)"
   ],
   "metadata": {
    "collapsed": false
   }
  },
  {
   "cell_type": "code",
   "execution_count": 313,
   "outputs": [],
   "source": [
    "class Ratio_Quantile:\n",
    "    def __init__(self, ticker, start_date, end_date):\n",
    "        # inherited data\n",
    "        self.ticker = ticker\n",
    "        self.start_date = start_date\n",
    "        self.end_date = end_date\n",
    "        # computed data\n",
    "        ## Filing Data\n",
    "        self.Q_df = self.quarterly_data()\n",
    "        self.A_df = self.annual_data()\n",
    "        self.filing_df = self.sort_filing_data()\n",
    "        ## Price data\n",
    "        self.price_df = self.price_data()\n",
    "        ## Compiled Data\n",
    "        self.df = self.final_data()\n",
    "        ## Ratio Data\n",
    "        self.ratios = self.compute_ratios()\n",
    "\n",
    "    def quarterly_data(self):\n",
    "        global FC\n",
    "        global FR\n",
    "        global MKTV\n",
    "        global SHRS\n",
    "        start_date = (datetime.strptime(self.start_date, '%Y-%m-%d') + timedelta(days = -120)).strftime('%Y-%m-%d')\n",
    "        Q1 = FC[(FC['ticker'] == self.ticker) & (FC['per_type'] == 'Q')].set_index('per_end_date').sort_index()\\\n",
    "                    .loc[start_date:self.end_date][['filing_date', 'net_lterm_debt', 'tot_lterm_debt',\n",
    "                                                    'eps_diluted_net', 'basic_net_eps']]\n",
    "        Q1['net_lterm_debt'] = Q1['net_lterm_debt'].fillna(0.0)\n",
    "        Q1['tot_lterm_debt'] = Q1['tot_lterm_debt'].fillna(0.0)\n",
    "        Q1['eps_diluted_net'] = Q1['eps_diluted_net'].apply(lambda x: 0.001 if x < 0 else x)\n",
    "        Q1['basic_net_eps'] = Q1['basic_net_eps'].apply(lambda x: 0.001 if x < 0 else x)\n",
    "\n",
    "        Q2 = FR[(FR['ticker'] == self.ticker) & (FR['per_type'] == 'Q')].set_index('per_end_date').sort_index()\\\n",
    "                    .loc[start_date:self.end_date][['tot_debt_tot_equity', 'ret_invst']]\n",
    "\n",
    "        Q3 = MKTV[(MKTV['ticker'] == self.ticker) & (MKTV['per_type'] == 'Q')].set_index('per_end_date').sort_index()\\\n",
    "                    .loc[start_date:self.end_date][['mkt_val']]\n",
    "\n",
    "        Q4 = SHRS[(SHRS['ticker'] == self.ticker) & (SHRS['per_type'] == 'Q')].set_index('per_end_date').sort_index()\\\n",
    "                    .loc[start_date:self.end_date][['shares_out']]\n",
    "\n",
    "        Q_df = Q1.merge(Q2, how = 'outer', left_index = True, right_index = True)\n",
    "        Q_df = Q_df.merge(Q3, how = 'outer', left_index = True, right_index = True)\n",
    "        Q_df = Q_df.merge(Q4, how = 'outer', left_index = True, right_index = True)\n",
    "\n",
    "        return Q_df.reset_index().set_index('filing_date')\n",
    "\n",
    "    def annual_data(self):\n",
    "        global FC\n",
    "        global FR\n",
    "        global MKTV\n",
    "        global SHRS\n",
    "        start_date = (datetime.strptime(self.start_date, '%Y-%m-%d') + timedelta(days = -120)).strftime('%Y-%m-%d')\n",
    "        A1 = FC[(FC['ticker'] == self.ticker) & (FC['per_type'] == 'A')].set_index('per_end_date').sort_index()\\\n",
    "                    .loc[start_date:self.end_date][['filing_date', 'net_lterm_debt', 'tot_lterm_debt',\n",
    "                                                    'eps_diluted_net', 'basic_net_eps']]\n",
    "        A1['net_lterm_debt'] = A1['net_lterm_debt'].fillna(0.0)\n",
    "        A1['tot_lterm_debt'] = A1['tot_lterm_debt'].fillna(0.0)\n",
    "        A1['eps_diluted_net'] = A1['eps_diluted_net'].apply(lambda x: 0.001 if x < 0 else x)\n",
    "        A1['basic_net_eps'] = A1['basic_net_eps'].apply(lambda x: 0.001 if x < 0 else x)\n",
    "\n",
    "        A2 = FR[(FR['ticker'] == self.ticker) & (FR['per_type'] == 'A')].set_index('per_end_date').sort_index()\\\n",
    "                    .loc[start_date:self.end_date][['tot_debt_tot_equity', 'ret_invst']]\n",
    "\n",
    "        A3 = MKTV[(MKTV['ticker'] == self.ticker) & (MKTV['per_type'] == 'A')].set_index('per_end_date').sort_index()\\\n",
    "                    .loc[start_date:self.end_date][['mkt_val']]\n",
    "\n",
    "        A4 = SHRS[(SHRS['ticker'] == self.ticker) & (SHRS['per_type'] == 'A')].set_index('per_end_date').sort_index()\\\n",
    "                    .loc[start_date:self.end_date][['shares_out']]\n",
    "\n",
    "        A_df = A1.merge(A2, how = 'outer', left_index = True, right_index = True)\n",
    "        A_df = A_df.merge(A3, how = 'outer', left_index = True, right_index = True)\n",
    "        A_df = A_df.merge(A4, how = 'outer', left_index = True, right_index = True)\n",
    "\n",
    "        return A_df.reset_index().set_index('filing_date')\n",
    "\n",
    "    def sort_filing_data(self):\n",
    "        return self.Q_df\n",
    "\n",
    "    def price_data(self):\n",
    "        global Prices\n",
    "        start_date = self.filing_df['per_end_date'][0]\n",
    "        return Prices[Prices['ticker'] == self.ticker][['date', 'adj_close']].set_index('date').sort_index()\\\n",
    "                    .loc[start_date:self.end_date]\n",
    "\n",
    "    def final_data(self):\n",
    "        ret_df = self.price_df.merge(self.filing_df, how = 'outer', left_index = True, right_index = True)\\\n",
    "                    .fillna(method = 'ffill')\n",
    "\n",
    "        ret_df['per_end_date'] = ret_df['per_end_date'].fillna(method = 'bfill')\n",
    "\n",
    "        base_price = []\n",
    "        for date in ret_df['per_end_date']:\n",
    "            base_price.append(ret_df.loc[:date]['adj_close'][-1])\n",
    "\n",
    "        ret_df['base_price'] = pd.Series(base_price, index = ret_df.index)\n",
    "\n",
    "        return ret_df.loc[self.start_date:self.end_date]\n",
    "\n",
    "    def compute_ratios(self):\n",
    "        df = self.df.copy()\n",
    "        df['debt to market cap'] = df['tot_debt_tot_equity'] * df['base_price'] /df['adj_close']\n",
    "        df['M'] = df['mkt_val'] / df['base_price'] * df['adj_close']\n",
    "        df['return on investment'] = df['ret_invst'] / (df['lterm_debt'] + df['M'])\n",
    "        df['price to earnings'] = df['M'] / (df['eps'] * df['shares_out'])\n",
    "\n",
    "        return df[['debt to market cap', 'return on investment', 'price to earnings']]"
   ],
   "metadata": {
    "collapsed": false
   }
  },
  {
   "cell_type": "markdown",
   "source": [
    "<h2> 2. Data </h2>"
   ],
   "metadata": {
    "collapsed": false
   }
  },
  {
   "cell_type": "markdown",
   "source": [
    "<h3> 2-1. Raw Data </h3>"
   ],
   "metadata": {
    "collapsed": false
   }
  },
  {
   "cell_type": "code",
   "execution_count": 21,
   "outputs": [
    {
     "name": "stdout",
     "output_type": "stream",
     "text": [
      "Data file \\Users\\kwhyu\\Quandl Data\\QUOTEMEDIA/PRICES_20230124.zip size 1372443502 exists already, no need to download\n",
      "Data file \\Users\\kwhyu\\Quandl Data\\ZACKS/FC_20230124.zip size 175785898 exists already, no need to download\n",
      "Data file \\Users\\kwhyu\\Quandl Data\\ZACKS/FR_20230124.zip size 36375570 exists already, no need to download\n",
      "Data file \\Users\\kwhyu\\Quandl Data\\ZACKS/MT_20230124.zip size 992725 exists already, no need to download\n",
      "Data file \\Users\\kwhyu\\Quandl Data\\ZACKS/MKTV_20230124.zip size 6693234 exists already, no need to download\n",
      "Download finished: 5100081 bytes\n",
      "Creating symlink: \\Users\\kwhyu\\Quandl Data\\ZACKS/SHRS_20230124.zip -> \\Users\\kwhyu\\Quandl Data\\ZACKS/SHRS_latest.zip\n",
      "Symlink Creation Permission Denied\n",
      "Download finished: 1099253 bytes\n",
      "Creating symlink: \\Users\\kwhyu\\Quandl Data\\ZACKS/HDM_20230124.zip -> \\Users\\kwhyu\\Quandl Data\\ZACKS/HDM_latest.zip\n",
      "Symlink Creation Permission Denied\n"
     ]
    }
   ],
   "source": [
    "Prices = fetch_quandl_table(Prices_table, avoid_download = False)\n",
    "FC = fetch_quandl_table(FC_table, avoid_download = False)\n",
    "FR = fetch_quandl_table(FR_table, avoid_download = False)\n",
    "MT = fetch_quandl_table(MT_table, avoid_download = False)\n",
    "MKTV = fetch_quandl_table(MKTV_table, avoid_download = False)\n",
    "SHRS = fetch_quandl_table(SHRS_table, avoid_download = False)\n",
    "HDM = fetch_quandl_table(HDM_table, avoid_download = False)"
   ],
   "metadata": {
    "collapsed": false
   }
  },
  {
   "cell_type": "markdown",
   "source": [],
   "metadata": {
    "collapsed": false
   }
  },
  {
   "cell_type": "markdown",
   "source": [
    "<h3> 2-2. Data Processing </h3>"
   ],
   "metadata": {
    "collapsed": false
   }
  },
  {
   "cell_type": "code",
   "execution_count": 307,
   "outputs": [],
   "source": [
    "tickers = choose_tickers(Prices, FC, FR, MT, MKTV, SHRS,\n",
    "                         start_date, end_date, banned_sectors,\n",
    "                         sample_size, seed)"
   ],
   "metadata": {
    "collapsed": false
   }
  },
  {
   "cell_type": "code",
   "execution_count": 314,
   "outputs": [],
   "source": [
    "test1 = Ratio_Quantile(tickers[0], start_date, end_date)"
   ],
   "metadata": {
    "collapsed": false
   }
  },
  {
   "cell_type": "code",
   "execution_count": 315,
   "outputs": [
    {
     "data": {
      "text/plain": "            debt to market cap  return on investment  price to earnings\n2015-01-02            1.437949              0.000055          50.101142\n2015-01-05            1.477526              0.000056          48.759147\n2015-01-06            1.469820              0.000056          49.014765\n2015-01-07            1.457657              0.000056          49.423754\n2015-01-08            1.444583              0.000055          49.871085\n...                        ...                   ...                ...\n2022-01-25            2.708404              0.000057          49.098980\n2022-01-26            2.718932              0.000058          48.908859\n2022-01-27            2.712342              0.000057          49.027685\n2022-01-28            2.680509              0.000057          49.609933\n2022-01-31            2.667094              0.000057          49.859468\n\n[1783 rows x 3 columns]",
      "text/html": "<div>\n<style scoped>\n    .dataframe tbody tr th:only-of-type {\n        vertical-align: middle;\n    }\n\n    .dataframe tbody tr th {\n        vertical-align: top;\n    }\n\n    .dataframe thead th {\n        text-align: right;\n    }\n</style>\n<table border=\"1\" class=\"dataframe\">\n  <thead>\n    <tr style=\"text-align: right;\">\n      <th></th>\n      <th>debt to market cap</th>\n      <th>return on investment</th>\n      <th>price to earnings</th>\n    </tr>\n  </thead>\n  <tbody>\n    <tr>\n      <th>2015-01-02</th>\n      <td>1.437949</td>\n      <td>0.000055</td>\n      <td>50.101142</td>\n    </tr>\n    <tr>\n      <th>2015-01-05</th>\n      <td>1.477526</td>\n      <td>0.000056</td>\n      <td>48.759147</td>\n    </tr>\n    <tr>\n      <th>2015-01-06</th>\n      <td>1.469820</td>\n      <td>0.000056</td>\n      <td>49.014765</td>\n    </tr>\n    <tr>\n      <th>2015-01-07</th>\n      <td>1.457657</td>\n      <td>0.000056</td>\n      <td>49.423754</td>\n    </tr>\n    <tr>\n      <th>2015-01-08</th>\n      <td>1.444583</td>\n      <td>0.000055</td>\n      <td>49.871085</td>\n    </tr>\n    <tr>\n      <th>...</th>\n      <td>...</td>\n      <td>...</td>\n      <td>...</td>\n    </tr>\n    <tr>\n      <th>2022-01-25</th>\n      <td>2.708404</td>\n      <td>0.000057</td>\n      <td>49.098980</td>\n    </tr>\n    <tr>\n      <th>2022-01-26</th>\n      <td>2.718932</td>\n      <td>0.000058</td>\n      <td>48.908859</td>\n    </tr>\n    <tr>\n      <th>2022-01-27</th>\n      <td>2.712342</td>\n      <td>0.000057</td>\n      <td>49.027685</td>\n    </tr>\n    <tr>\n      <th>2022-01-28</th>\n      <td>2.680509</td>\n      <td>0.000057</td>\n      <td>49.609933</td>\n    </tr>\n    <tr>\n      <th>2022-01-31</th>\n      <td>2.667094</td>\n      <td>0.000057</td>\n      <td>49.859468</td>\n    </tr>\n  </tbody>\n</table>\n<p>1783 rows × 3 columns</p>\n</div>"
     },
     "execution_count": 315,
     "metadata": {},
     "output_type": "execute_result"
    }
   ],
   "source": [
    "test1.ratios"
   ],
   "metadata": {
    "collapsed": false
   }
  },
  {
   "cell_type": "markdown",
   "source": [
    "<h3> 2-3. Data Description </h3>"
   ],
   "metadata": {
    "collapsed": false
   }
  },
  {
   "cell_type": "code",
   "execution_count": null,
   "outputs": [],
   "source": [],
   "metadata": {
    "collapsed": false
   }
  },
  {
   "cell_type": "markdown",
   "source": [],
   "metadata": {
    "collapsed": false
   }
  },
  {
   "cell_type": "markdown",
   "source": [
    "<h2> 3. Analysis </h2>"
   ],
   "metadata": {
    "collapsed": false
   }
  },
  {
   "cell_type": "code",
   "execution_count": null,
   "outputs": [],
   "source": [],
   "metadata": {
    "collapsed": false
   }
  },
  {
   "cell_type": "markdown",
   "source": [],
   "metadata": {
    "collapsed": false
   }
  }
 ],
 "metadata": {
  "kernelspec": {
   "display_name": "Python 3",
   "language": "python",
   "name": "python3"
  },
  "language_info": {
   "codemirror_mode": {
    "name": "ipython",
    "version": 2
   },
   "file_extension": ".py",
   "mimetype": "text/x-python",
   "name": "python",
   "nbconvert_exporter": "python",
   "pygments_lexer": "ipython2",
   "version": "2.7.6"
  }
 },
 "nbformat": 4,
 "nbformat_minor": 0
}
