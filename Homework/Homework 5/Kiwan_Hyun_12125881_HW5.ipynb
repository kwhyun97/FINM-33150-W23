{
 "cells": [
  {
   "cell_type": "markdown",
   "source": [
    "<left>FINM 33150 - Quantitative Trading Strategies</left>\n",
    "<left>Winter 2023</left>\n",
    "<br>\n",
    "<h1><center> Homework 5: FX Carry Strategy </center></h1>\n",
    "<center>Due - 23:00 [CST] February 11th, 2023</center>\n",
    "<br>\n",
    "<h3>Ki Hyun</h3>\n",
    "<h3>Student ID: 12125881</h3>"
   ],
   "metadata": {
    "collapsed": false
   }
  },
  {
   "cell_type": "markdown",
   "source": [
    "<h5> Imports </h5>"
   ],
   "metadata": {
    "collapsed": false
   }
  },
  {
   "cell_type": "code",
   "execution_count": 1,
   "outputs": [],
   "source": [
    "%matplotlib inline"
   ],
   "metadata": {
    "collapsed": false
   }
  },
  {
   "cell_type": "code",
   "execution_count": 2,
   "outputs": [],
   "source": [
    "import pandas as pd\n",
    "import numpy as np\n",
    "from datetime import datetime, timedelta\n",
    "import matplotlib.pyplot as plt\n",
    "import quandl"
   ],
   "metadata": {
    "collapsed": false
   }
  },
  {
   "cell_type": "markdown",
   "source": [
    "<h5> Constants </h5>"
   ],
   "metadata": {
    "collapsed": false
   }
  },
  {
   "cell_type": "code",
   "execution_count": 3,
   "outputs": [],
   "source": [
    "end_date = datetime.now().date().strftime('%Y-%m-%d')\n",
    "quarterly_coupon = 0.25\n",
    "weekly_interval = 1/52\n",
    "float_years = 5\n",
    "weekly_investment_USD = 10**7"
   ],
   "metadata": {
    "collapsed": false
   }
  },
  {
   "cell_type": "markdown",
   "source": [
    "<h5> Helper Functions </h5>"
   ],
   "metadata": {
    "collapsed": false
   }
  },
  {
   "cell_type": "code",
   "execution_count": 4,
   "outputs": [],
   "source": [
    "\"\"\"\n",
    "This code was given by Dr. Boonstra, B., Ph.D. for\n",
    "University of Chicago FINM 33150 Quandl Options Data Fetching guidelines\n",
    "\"\"\"\n",
    "def grab_quandl_table(table_path,start_date = None,end_date = None):\n",
    "    data = quandl.get(table_path, start_date=start_date, end_date=end_date, returns=\"pandas\",\n",
    "                      api_key='JbMPn9bSpFPNS7Z7PcZy')\n",
    "    return data"
   ],
   "metadata": {
    "collapsed": false
   }
  },
  {
   "cell_type": "code",
   "execution_count": 5,
   "outputs": [],
   "source": [
    "def sort_tags(x):\n",
    "    temp_l = x.split('-')\n",
    "    if temp_l[1] == 'Year':\n",
    "        return int(temp_l[0])\n",
    "    elif temp_l[1] == 'Month':\n",
    "        return int(temp_l[0])/12\n",
    "    elif temp_l[1] == 'Week':\n",
    "        return int(temp_l[0])/52\n",
    "    else:\n",
    "        raise Exception(\"Unknown Tenure\")"
   ],
   "metadata": {
    "collapsed": false
   }
  },
  {
   "cell_type": "code",
   "execution_count": 6,
   "outputs": [],
   "source": [
    "\"\"\"\n",
    "This code was given by Dr. Boonstra, B., Ph.D. for\n",
    "University of Chicago FINM 33150 Quandl Options Data Fetching guidelines\n",
    "\"\"\"\n",
    "def compute_zcb_curve(spot_rates, coupon_frequency):\n",
    "    zcb_curve = spot_rates.copy()\n",
    "    tenors = zcb_curve.columns.map(sort_tags).values\n",
    "    for tenor_tag in zcb_curve.columns:\n",
    "        tenor = sort_tags(tenor_tag)\n",
    "        spot_rates = zcb_curve[tenor_tag]\n",
    "        coupon = spot_rates * coupon_frequency\n",
    "        times = np.arange(tenor - coupon_frequency, 0, step = -coupon_frequency)[::-1]\n",
    "        # Linear interpolation\n",
    "        preceding_coupons_val = zcb_curve.apply(lambda x: np.exp(-np.interp(times, tenors, x.values)*times).sum(),\n",
    "                                                axis = 1)\n",
    "        preceding_coupons_val = preceding_coupons_val * coupon\n",
    "        zcb_curve[tenor_tag] = -np.log((1 - preceding_coupons_val)/(1+coupon))/tenor\n",
    "    return zcb_curve"
   ],
   "metadata": {
    "collapsed": false
   }
  },
  {
   "cell_type": "code",
   "execution_count": 7,
   "outputs": [],
   "source": [
    "\"\"\"\n",
    "This code was given by Dr. Boonstra, B., Ph.D. for\n",
    "University of Chicago FINM 33150 Quandl Options Data Fetching guidelines\n",
    "\"\"\"\n",
    "def zcb_bond_price(zcb_curve, coupon_rates, tenure, coupon_frequency, offset = 0):\n",
    "    df = zcb_curve.copy()\n",
    "    times = np.arange(tenure, 0, step=-coupon_frequency)[::-1]\n",
    "    times = times - offset # offset if time to maturity is not exactly the tenor of the bond\n",
    "    tenures = df.columns.map(lambda x: int(x.split('-')[0])).values\n",
    "    if times.shape[0]==0:\n",
    "        prices = pd.DataFrame(index=zcb_curve.index, columns=['data']).fillna(1.0)\n",
    "    else:\n",
    "        # Linear interpolation\n",
    "        coupons = df.apply(lambda x: np.exp(-np.interp(times, tenures, x.values)*times).sum(), axis = 1)\n",
    "        r_T = df.apply(lambda x: np.interp(times[-1], tenures, x.values), axis = 1)\n",
    "        prices = np.exp(-tenure*r_T) + coupon_frequency * coupon_rates * coupons\n",
    "    return prices"
   ],
   "metadata": {
    "collapsed": false
   }
  },
  {
   "cell_type": "code",
   "execution_count": 8,
   "outputs": [],
   "source": [
    "def FX_Fixed_Carry(OIS, FX, cap):\n",
    "    df = FX.merge(OIS, how = 'inner', left_index = True, right_index = True).copy().dropna()\n",
    "    df = df[df.index.map(lambda x: x.weekday()) == 2] # Wednesday-fy\n",
    "    f, ir = df.columns\n",
    "    # initial FX\n",
    "    df[('Entry ' + f + ' FX')] = df[f]\n",
    "    # terminal FX\n",
    "    df[('Exit ' + f + ' FX')] = df[f].shift(-1)\n",
    "    # initial IR\n",
    "    df[('Fixed IR (' + f + ')')] = df[ir]\n",
    "    # initial borrow (5x leverage)\n",
    "    ret_series = -(cap*4/5)*df[f]\n",
    "    df[('Entry Borrow (' + f + ')')] = ret_series\n",
    "    # 1-week interest in borrowed currency (OIS + 50 b.p.)\n",
    "    ret_series = ret_series * np.exp((df[ir] + 50*10**(-4))/360 * 7)\n",
    "    df[('Exit Borrow (' + f + ')')] = ret_series\n",
    "    # back to funding-currency\n",
    "    ret_series = ret_series / df[f].shift(-1) #convert back to USD\n",
    "    df['Fixed 1-week Interest (USD)'] =  ret_series + (cap*4/5)\n",
    "    return df.iloc[:, 2:]"
   ],
   "metadata": {
    "collapsed": false
   }
  },
  {
   "cell_type": "code",
   "execution_count": 9,
   "outputs": [],
   "source": [
    "def FX_Float_Carry(YC, FX, cap, tenure, coupon_frequency, interval):\n",
    "    df = FX.merge(YC, how = 'inner', left_index = True, right_index = True).copy().dropna()\n",
    "    df = df[df.index.map(lambda x: x.weekday()) == 2] # Wednesday-fy\n",
    "    f = df.columns[0] #column name\n",
    "    tenure_tag = str(tenure) + '-Year'\n",
    "    # computing zcb curve\n",
    "    zcb_df = compute_zcb_curve(df.iloc[:, 1:], coupon_frequency)\n",
    "    # computing entry and exit bond prices\n",
    "    entry_bond = zcb_bond_price(zcb_df, df[tenure_tag], tenure, coupon_frequency)\n",
    "    exit_bond = zcb_bond_price(zcb_df, df[tenure_tag], tenure, coupon_frequency, offset = interval)\n",
    "    # initial FX\n",
    "    df[('Entry ' + f + ' FX')] = df[f]\n",
    "    # terminal FX\n",
    "    df[('Exit ' + f + ' FX')] = df[f].shift(-1)\n",
    "    # initial IR\n",
    "    df[('Entry IR (' + f + ')')] = df[tenure_tag]\n",
    "    # terminal IR\n",
    "    df[('Exit IR (' + f + ')')] = df[tenure_tag].shift(-1)\n",
    "    # simulating trade\n",
    "    ret_series = cap * df[f] # exchange to home currency\n",
    "    ret_series = ret_series / entry_bond # buy long-term bonds\n",
    "    df[('Entry Lend (' + f + ')')] = ret_series\n",
    "    ret_series = ret_series * exit_bond.shift(-1) # sell long-term bonds\n",
    "    df[('Exit Lend (' + f + ')')] = ret_series\n",
    "    ret_series = ret_series/df[f].shift(-1) # convert back to USD\n",
    "    df['Float 1-week Interest (USD)'] = ret_series - cap\n",
    "    # reorganizing columns\n",
    "    cols = df.columns.tolist()[-7:]\n",
    "    return df[cols]"
   ],
   "metadata": {
    "collapsed": false
   }
  },
  {
   "cell_type": "code",
   "execution_count": 10,
   "outputs": [],
   "source": [
    "def FX_Fixed_Float_Carry(OIS, FX_fixed, YC, FX_float, cap, tenure, coupon_frequency, interval):\n",
    "    # computing FX Fixed Carry\n",
    "    fixed_df = FX_Fixed_Carry(OIS, FX_fixed, cap)\n",
    "    # computing FX Float Carry\n",
    "    float_df = FX_Float_Carry(YC, FX_float, cap, tenure, coupon_frequency, interval)\n",
    "    # merging data\n",
    "    df = fixed_df.merge(float_df, how = 'inner', left_index = True, right_index = True)\n",
    "    # setting entry date as columns\n",
    "    df.reset_index(inplace = True)\n",
    "    df.rename(columns={'index':'Entry Date'}, inplace = True)\n",
    "    # creating exit date\n",
    "    df['Exit Date'] = df['Entry Date'].shift(-1)\n",
    "    # reorganizing columns\n",
    "    cols = df.columns.tolist()\n",
    "    cols = cols[:1] + cols[-1:] + cols[1:-1]\n",
    "    df = df[cols]\n",
    "    # identifying entry points (OIS + 50 b.p. < 5Y swap rate)\n",
    "    df = df[df.iloc[:,3] + 50*10**(-4) < df.iloc[:,8]]\n",
    "    # computing weekly P&L of the fixed float carry\n",
    "    df['Weekly P&L (USD)'] = df['Fixed 1-week Interest (USD)'] + df['Float 1-week Interest (USD)']\n",
    "    # double checking interval\n",
    "    df = df[df['Entry Date'] + timedelta(timedelta(days=365*interval).days) == df['Exit Date']]\n",
    "    return df.dropna()"
   ],
   "metadata": {
    "collapsed": false
   }
  },
  {
   "cell_type": "markdown",
   "source": [
    "<h2> 2. Data </h2>"
   ],
   "metadata": {
    "collapsed": false
   }
  },
  {
   "cell_type": "code",
   "execution_count": 11,
   "outputs": [],
   "source": [
    "UK_OIS_1 = grab_quandl_table('YC/GBR_ISSC')['0.08Y']\n",
    "UK_OIS_2 = grab_quandl_table('YC/GBR_ISSS', end_date = end_date)['0.08Y']\n",
    "UK_OIS = pd.concat([UK_OIS_1,UK_OIS_2])/100"
   ],
   "metadata": {
    "collapsed": false
   }
  },
  {
   "cell_type": "markdown",
   "source": [],
   "metadata": {
    "collapsed": false
   }
  },
  {
   "cell_type": "code",
   "execution_count": 12,
   "outputs": [],
   "source": [
    "GBP_FX = grab_quandl_table('CUR/GBP', end_date = end_date).rename(columns={'RATE':\"GBP\"})"
   ],
   "metadata": {
    "collapsed": false
   }
  },
  {
   "cell_type": "markdown",
   "source": [],
   "metadata": {
    "collapsed": false
   }
  },
  {
   "cell_type": "code",
   "execution_count": 13,
   "outputs": [],
   "source": [
    "VNM_YC = grab_quandl_table('YC/VNM', end_date = end_date)/100\n",
    "THA_YC = grab_quandl_table('YC/THA', end_date = end_date)/100\n",
    "PAK_YC = grab_quandl_table('YC/PAK', end_date = end_date)/100\n",
    "PHL_YC = grab_quandl_table('YC/PHL', end_date = end_date)/100"
   ],
   "metadata": {
    "collapsed": false
   }
  },
  {
   "cell_type": "markdown",
   "source": [],
   "metadata": {
    "collapsed": false
   }
  },
  {
   "cell_type": "code",
   "execution_count": 14,
   "outputs": [],
   "source": [
    "VND_FX = grab_quandl_table('CUR/VND', end_date = end_date).rename(columns={'RATE':\"VND\"})\n",
    "THB_FX = grab_quandl_table('CUR/THB', end_date = end_date).rename(columns={'RATE':\"THB\"})\n",
    "PKR_FX = grab_quandl_table('CUR/PKR', end_date = end_date).rename(columns={'RATE':\"PKR\"})\n",
    "PHP_FX = grab_quandl_table('CUR/PHP', end_date = end_date).rename(columns={'RATE':\"PHP\"})"
   ],
   "metadata": {
    "collapsed": false
   }
  },
  {
   "cell_type": "markdown",
   "source": [],
   "metadata": {
    "collapsed": false
   }
  },
  {
   "cell_type": "markdown",
   "source": [
    "<h2> 3. Fixed-Float Carry </h2>"
   ],
   "metadata": {
    "collapsed": false
   }
  },
  {
   "cell_type": "code",
   "execution_count": 15,
   "outputs": [],
   "source": [
    "GBP_VND = FX_Fixed_Float_Carry(UK_OIS, GBP_FX, VNM_YC, VND_FX,\n",
    "                               cap = weekly_investment_USD, interval = weekly_interval,\n",
    "                               tenure = float_years, coupon_frequency = quarterly_coupon)"
   ],
   "metadata": {
    "collapsed": false
   }
  },
  {
   "cell_type": "code",
   "execution_count": 16,
   "outputs": [],
   "source": [
    "GBP_THB = FX_Fixed_Float_Carry(UK_OIS, GBP_FX, THA_YC, THB_FX,\n",
    "                               cap = weekly_investment_USD, interval = weekly_interval,\n",
    "                               tenure = float_years, coupon_frequency = quarterly_coupon)"
   ],
   "metadata": {
    "collapsed": false
   }
  },
  {
   "cell_type": "code",
   "execution_count": 17,
   "outputs": [],
   "source": [
    "GBP_PKR = FX_Fixed_Float_Carry(UK_OIS, GBP_FX, PAK_YC, PKR_FX,\n",
    "                               cap = weekly_investment_USD, interval = weekly_interval,\n",
    "                               tenure = float_years, coupon_frequency = quarterly_coupon)"
   ],
   "metadata": {
    "collapsed": false
   }
  },
  {
   "cell_type": "code",
   "execution_count": 18,
   "outputs": [],
   "source": [
    "GBP_PHP = FX_Fixed_Float_Carry(UK_OIS, GBP_FX, PHL_YC, PHP_FX,\n",
    "                               cap = weekly_investment_USD, interval = weekly_interval,\n",
    "                               tenure = float_years, coupon_frequency = quarterly_coupon)"
   ],
   "metadata": {
    "collapsed": false
   }
  },
  {
   "cell_type": "markdown",
   "source": [],
   "metadata": {
    "collapsed": false
   }
  },
  {
   "cell_type": "markdown",
   "source": [
    "<h2> 4. Analysis </h2>"
   ],
   "metadata": {
    "collapsed": false
   }
  },
  {
   "cell_type": "code",
   "execution_count": 18,
   "outputs": [],
   "source": [],
   "metadata": {
    "collapsed": false
   }
  },
  {
   "cell_type": "markdown",
   "source": [],
   "metadata": {
    "collapsed": false
   }
  }
 ],
 "metadata": {
  "kernelspec": {
   "display_name": "Python 3",
   "language": "python",
   "name": "python3"
  },
  "language_info": {
   "codemirror_mode": {
    "name": "ipython",
    "version": 2
   },
   "file_extension": ".py",
   "mimetype": "text/x-python",
   "name": "python",
   "nbconvert_exporter": "python",
   "pygments_lexer": "ipython2",
   "version": "2.7.6"
  }
 },
 "nbformat": 4,
 "nbformat_minor": 0
}
