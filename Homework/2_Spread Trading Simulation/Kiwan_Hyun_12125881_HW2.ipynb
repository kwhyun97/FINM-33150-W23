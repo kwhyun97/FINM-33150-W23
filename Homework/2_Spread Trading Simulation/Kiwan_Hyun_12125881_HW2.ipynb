{
 "cells": [
  {
   "cell_type": "markdown",
   "source": [
    "<left>FINM 33150 - Quantitative Trading Strategies</left>\n",
    "<left>Winter 2023</left>\n",
    "<br>\n",
    "<h1><center> Homework 2: Simple Spread Trading </center></h1>\n",
    "<center>Due - 23:00 [CST] January 19th, 2023</center>\n",
    "<br>\n",
    "<h3>Ki Hyun</h3>\n",
    "<h3>Student ID: 12125881</h3>"
   ],
   "metadata": {
    "collapsed": false
   }
  },
  {
   "cell_type": "markdown",
   "source": [
    "<h5> Imports </h5>"
   ],
   "metadata": {
    "collapsed": false
   }
  },
  {
   "cell_type": "code",
   "execution_count": 1,
   "outputs": [],
   "source": [
    "%matplotlib inline"
   ],
   "metadata": {
    "collapsed": false
   }
  },
  {
   "cell_type": "code",
   "execution_count": 2,
   "metadata": {
    "collapsed": true
   },
   "outputs": [],
   "source": [
    "import os\n",
    "import datetime\n",
    "import quandl\n",
    "import functools\n",
    "\n",
    "import matplotlib.pyplot as plt\n",
    "import pandas as pd\n",
    "import numpy as np\n",
    "import scipy as sp\n",
    "import seaborn as sns"
   ]
  },
  {
   "cell_type": "markdown",
   "source": [
    "<h5> Constants </h5>"
   ],
   "metadata": {
    "collapsed": false
   }
  },
  {
   "cell_type": "code",
   "execution_count": 3,
   "outputs": [],
   "source": [
    "EOD_Prices_Header = 'QUOTEMEDIA/PRICES'\n",
    "X_pair = 'RYE'\n",
    "Y_pair = 'XOP'\n",
    "start_date = '2020-12-02'\n",
    "end_date = '2022-11-15'"
   ],
   "metadata": {
    "collapsed": false
   }
  },
  {
   "cell_type": "markdown",
   "source": [
    "<h5> Helper Functions </h5>"
   ],
   "metadata": {
    "collapsed": false
   }
  },
  {
   "cell_type": "code",
   "execution_count": 4,
   "outputs": [],
   "source": [
    "\"\"\"\n",
    "This code was given by Dr. Boonstra, B., Ph.D. for\n",
    "University of Chicago FINM 33150 Quandl Options Data Fetching guidelines\n",
    "\"\"\"\n",
    "def grab_quandl_table(\n",
    "    table_path,\n",
    "    avoid_download=False,\n",
    "    replace_existing=False,\n",
    "    date_override=None,\n",
    "    allow_old_file=False,\n",
    "    **kwargs,\n",
    "):\n",
    "    root_data_dir = r'C:\\Users\\kwhyu\\OneDrive - The University of Chicago\\2023-1 Winter\\FINM 33150\\FINM-33150-W23\\Data'\n",
    "    data_symlink = os.path.join(root_data_dir, f\"{table_path}_latest.zip\")\n",
    "    if avoid_download and os.path.exists(data_symlink):\n",
    "        print(f\"Skipping any possible download of {table_path}\")\n",
    "        return data_symlink\n",
    "\n",
    "    table_dir = os.path.dirname(data_symlink)\n",
    "    if not os.path.isdir(table_dir):\n",
    "        print(f'Creating new data dir {table_dir}')\n",
    "        os.mkdir(table_dir)\n",
    "\n",
    "    if date_override is None:\n",
    "        my_date = datetime.datetime.now().strftime(\"%Y%m%d\")\n",
    "    else:\n",
    "        my_date = date_override\n",
    "    data_file = os.path.join(root_data_dir, f\"{table_path}_{my_date}.zip\")\n",
    "\n",
    "    if os.path.exists(data_file):\n",
    "        file_size = os.stat(data_file).st_size\n",
    "        if replace_existing or not file_size > 0:\n",
    "            print(f\"Removing old file {data_file} size {file_size}\")\n",
    "        else:\n",
    "            print(\n",
    "                f\"Data file {data_file} size {file_size} exists already, no need to download\"\n",
    "            )\n",
    "            return data_file\n",
    "\n",
    "    dl = quandl.export_table(\n",
    "        table_path, filename=data_file, api_key='JbMPn9bSpFPNS7Z7PcZy', **kwargs\n",
    "    )\n",
    "    file_size = os.stat(data_file).st_size\n",
    "    if os.path.exists(data_file) and file_size > 0:\n",
    "        print(f\"Download finished: {file_size} bytes\")\n",
    "        if not date_override:\n",
    "            if os.path.exists(data_symlink):\n",
    "                print(f\"Removing old symlink\")\n",
    "                os.unlink(data_symlink)\n",
    "            print(f\"Creating symlink: {data_file} -> {data_symlink}\")\n",
    "            os.symlink(\n",
    "                data_file, data_symlink,\n",
    "            )\n",
    "    else:\n",
    "        print(f\"Data file {data_file} failed download\")\n",
    "        return\n",
    "    return data_symlink if (date_override is None or allow_old_file) else \"NoFileAvailable\""
   ],
   "metadata": {
    "collapsed": false
   }
  },
  {
   "cell_type": "code",
   "execution_count": 5,
   "outputs": [],
   "source": [
    "\"\"\"\n",
    "This code was given by Dr. Boonstra, B., Ph.D. for\n",
    "University of Chicago FINM 33150 Quandl Options Data Fetching guidelines\n",
    "\"\"\"\n",
    "def fetch_quandl_table(table_path, avoid_download=True, **kwargs):\n",
    "    return pd.read_csv(\n",
    "        grab_quandl_table(table_path, avoid_download=avoid_download, **kwargs)\n",
    "    )"
   ],
   "metadata": {
    "collapsed": false
   }
  },
  {
   "cell_type": "markdown",
   "source": [
    "<h2> 1. Introduction </h2>"
   ],
   "metadata": {
    "collapsed": false
   }
  },
  {
   "cell_type": "markdown",
   "source": [],
   "metadata": {
    "collapsed": false
   }
  },
  {
   "cell_type": "markdown",
   "source": [
    "<h2> 2. Data </h2>"
   ],
   "metadata": {
    "collapsed": false
   }
  },
  {
   "cell_type": "markdown",
   "source": [
    "<h3> 2-1. Raw Data </h3>"
   ],
   "metadata": {
    "collapsed": false
   }
  },
  {
   "cell_type": "code",
   "execution_count": 6,
   "outputs": [
    {
     "name": "stdout",
     "output_type": "stream",
     "text": [
      "Creating new data dir C:\\Users\\kwhyu\\OneDrive - The University of Chicago\\2023-1 Winter\\FINM 33150\\FINM-33150-W23\\Data\\QUOTEMEDIA\n"
     ]
    },
    {
     "ename": "KeyboardInterrupt",
     "evalue": "",
     "output_type": "error",
     "traceback": [
      "\u001B[1;31m---------------------------------------------------------------------------\u001B[0m",
      "\u001B[1;31mKeyboardInterrupt\u001B[0m                         Traceback (most recent call last)",
      "Cell \u001B[1;32mIn[6], line 1\u001B[0m\n\u001B[1;32m----> 1\u001B[0m prices_df \u001B[38;5;241m=\u001B[39m \u001B[43mfetch_quandl_table\u001B[49m\u001B[43m(\u001B[49m\u001B[43mEOD_Prices_Header\u001B[49m\u001B[43m,\u001B[49m\u001B[43m \u001B[49m\u001B[43mavoid_download\u001B[49m\u001B[43m \u001B[49m\u001B[38;5;241;43m=\u001B[39;49m\u001B[43m \u001B[49m\u001B[38;5;28;43;01mFalse\u001B[39;49;00m\u001B[43m)\u001B[49m\n",
      "Cell \u001B[1;32mIn[5], line 7\u001B[0m, in \u001B[0;36mfetch_quandl_table\u001B[1;34m(table_path, avoid_download, **kwargs)\u001B[0m\n\u001B[0;32m      5\u001B[0m \u001B[38;5;28;01mdef\u001B[39;00m \u001B[38;5;21mfetch_quandl_table\u001B[39m(table_path, avoid_download\u001B[38;5;241m=\u001B[39m\u001B[38;5;28;01mTrue\u001B[39;00m, \u001B[38;5;241m*\u001B[39m\u001B[38;5;241m*\u001B[39mkwargs):\n\u001B[0;32m      6\u001B[0m     \u001B[38;5;28;01mreturn\u001B[39;00m pd\u001B[38;5;241m.\u001B[39mread_csv(\n\u001B[1;32m----> 7\u001B[0m         \u001B[43mgrab_quandl_table\u001B[49m\u001B[43m(\u001B[49m\u001B[43mtable_path\u001B[49m\u001B[43m,\u001B[49m\u001B[43m \u001B[49m\u001B[43mavoid_download\u001B[49m\u001B[38;5;241;43m=\u001B[39;49m\u001B[43mavoid_download\u001B[49m\u001B[43m,\u001B[49m\u001B[43m \u001B[49m\u001B[38;5;241;43m*\u001B[39;49m\u001B[38;5;241;43m*\u001B[39;49m\u001B[43mkwargs\u001B[49m\u001B[43m)\u001B[49m\n\u001B[0;32m      8\u001B[0m     )\n",
      "Cell \u001B[1;32mIn[4], line 40\u001B[0m, in \u001B[0;36mgrab_quandl_table\u001B[1;34m(table_path, avoid_download, replace_existing, date_override, allow_old_file, **kwargs)\u001B[0m\n\u001B[0;32m     35\u001B[0m         \u001B[38;5;28mprint\u001B[39m(\n\u001B[0;32m     36\u001B[0m             \u001B[38;5;124mf\u001B[39m\u001B[38;5;124m\"\u001B[39m\u001B[38;5;124mData file \u001B[39m\u001B[38;5;132;01m{\u001B[39;00mdata_file\u001B[38;5;132;01m}\u001B[39;00m\u001B[38;5;124m size \u001B[39m\u001B[38;5;132;01m{\u001B[39;00mfile_size\u001B[38;5;132;01m}\u001B[39;00m\u001B[38;5;124m exists already, no need to download\u001B[39m\u001B[38;5;124m\"\u001B[39m\n\u001B[0;32m     37\u001B[0m         )\n\u001B[0;32m     38\u001B[0m         \u001B[38;5;28;01mreturn\u001B[39;00m data_file\n\u001B[1;32m---> 40\u001B[0m dl \u001B[38;5;241m=\u001B[39m \u001B[43mquandl\u001B[49m\u001B[38;5;241;43m.\u001B[39;49m\u001B[43mexport_table\u001B[49m\u001B[43m(\u001B[49m\n\u001B[0;32m     41\u001B[0m \u001B[43m    \u001B[49m\u001B[43mtable_path\u001B[49m\u001B[43m,\u001B[49m\u001B[43m \u001B[49m\u001B[43mfilename\u001B[49m\u001B[38;5;241;43m=\u001B[39;49m\u001B[43mdata_file\u001B[49m\u001B[43m,\u001B[49m\u001B[43m \u001B[49m\u001B[43mapi_key\u001B[49m\u001B[38;5;241;43m=\u001B[39;49m\u001B[38;5;124;43m'\u001B[39;49m\u001B[38;5;124;43mJbMPn9bSpFPNS7Z7PcZy\u001B[39;49m\u001B[38;5;124;43m'\u001B[39;49m\u001B[43m,\u001B[49m\u001B[43m \u001B[49m\u001B[38;5;241;43m*\u001B[39;49m\u001B[38;5;241;43m*\u001B[39;49m\u001B[43mkwargs\u001B[49m\n\u001B[0;32m     42\u001B[0m \u001B[43m\u001B[49m\u001B[43m)\u001B[49m\n\u001B[0;32m     43\u001B[0m file_size \u001B[38;5;241m=\u001B[39m os\u001B[38;5;241m.\u001B[39mstat(data_file)\u001B[38;5;241m.\u001B[39mst_size\n\u001B[0;32m     44\u001B[0m \u001B[38;5;28;01mif\u001B[39;00m os\u001B[38;5;241m.\u001B[39mpath\u001B[38;5;241m.\u001B[39mexists(data_file) \u001B[38;5;129;01mand\u001B[39;00m file_size \u001B[38;5;241m>\u001B[39m \u001B[38;5;241m0\u001B[39m:\n",
      "File \u001B[1;32m~\\.virtualenvs\\FINM-33150-W23-p0ffiBII\\Lib\\site-packages\\quandl\\export_table.py:22\u001B[0m, in \u001B[0;36mexport_table\u001B[1;34m(datatable_code, **kwargs)\u001B[0m\n\u001B[0;32m     19\u001B[0m ApiKeyUtil\u001B[38;5;241m.\u001B[39minit_api_key_from_args(kwargs)\n\u001B[0;32m     21\u001B[0m filename \u001B[38;5;241m=\u001B[39m kwargs\u001B[38;5;241m.\u001B[39mpop(\u001B[38;5;124m'\u001B[39m\u001B[38;5;124mfilename\u001B[39m\u001B[38;5;124m'\u001B[39m, \u001B[38;5;124m'\u001B[39m\u001B[38;5;124m.\u001B[39m\u001B[38;5;124m'\u001B[39m)\n\u001B[1;32m---> 22\u001B[0m \u001B[38;5;28;01mreturn\u001B[39;00m \u001B[43mDatatable\u001B[49m\u001B[43m(\u001B[49m\u001B[43mdatatable_code\u001B[49m\u001B[43m)\u001B[49m\u001B[38;5;241;43m.\u001B[39;49m\u001B[43mdownload_file\u001B[49m\u001B[43m(\u001B[49m\u001B[43mfilename\u001B[49m\u001B[43m,\u001B[49m\u001B[43m \u001B[49m\u001B[38;5;241;43m*\u001B[39;49m\u001B[38;5;241;43m*\u001B[39;49m\u001B[43mkwargs\u001B[49m\u001B[43m)\u001B[49m\n",
      "File \u001B[1;32m~\\.virtualenvs\\FINM-33150-W23-p0ffiBII\\Lib\\site-packages\\quandl\\model\\datatable.py:43\u001B[0m, in \u001B[0;36mDatatable.download_file\u001B[1;34m(self, file_or_folder_path, **options)\u001B[0m\n\u001B[0;32m     41\u001B[0m \u001B[38;5;28;01mif\u001B[39;00m \u001B[38;5;129;01mnot\u001B[39;00m file_is_ready:\n\u001B[0;32m     42\u001B[0m     log\u001B[38;5;241m.\u001B[39mdebug(Message\u001B[38;5;241m.\u001B[39mLONG_GENERATION_TIME)\n\u001B[1;32m---> 43\u001B[0m     \u001B[43msleep\u001B[49m\u001B[43m(\u001B[49m\u001B[38;5;28;43mself\u001B[39;49m\u001B[38;5;241;43m.\u001B[39;49m\u001B[43mWAIT_GENERATION_INTERVAL\u001B[49m\u001B[43m)\u001B[49m\n",
      "\u001B[1;31mKeyboardInterrupt\u001B[0m: "
     ]
    }
   ],
   "source": [
    "prices_df = fetch_quandl_table(EOD_Prices_Header, avoid_download = False)"
   ],
   "metadata": {
    "collapsed": false
   }
  },
  {
   "cell_type": "markdown",
   "source": [],
   "metadata": {
    "collapsed": false
   }
  },
  {
   "cell_type": "markdown",
   "source": [
    "<h3> 2-2. Data Processing </h3>"
   ],
   "metadata": {
    "collapsed": false
   }
  },
  {
   "cell_type": "code",
   "execution_count": null,
   "outputs": [],
   "source": [],
   "metadata": {
    "collapsed": false
   }
  },
  {
   "cell_type": "markdown",
   "source": [],
   "metadata": {
    "collapsed": false
   }
  },
  {
   "cell_type": "markdown",
   "source": [
    "<h3> 2-3. Data Description </h3>"
   ],
   "metadata": {
    "collapsed": false
   }
  },
  {
   "cell_type": "code",
   "execution_count": null,
   "outputs": [],
   "source": [],
   "metadata": {
    "collapsed": false
   }
  },
  {
   "cell_type": "markdown",
   "source": [],
   "metadata": {
    "collapsed": false
   }
  },
  {
   "cell_type": "markdown",
   "source": [
    "<h2> 3. Methodology </h2>"
   ],
   "metadata": {
    "collapsed": false
   }
  },
  {
   "cell_type": "code",
   "execution_count": null,
   "outputs": [],
   "source": [],
   "metadata": {
    "collapsed": false
   }
  },
  {
   "cell_type": "markdown",
   "source": [],
   "metadata": {
    "collapsed": false
   }
  },
  {
   "cell_type": "markdown",
   "source": [
    "<h2> 4. Analysis </h2>"
   ],
   "metadata": {
    "collapsed": false
   }
  },
  {
   "cell_type": "code",
   "execution_count": null,
   "outputs": [],
   "source": [],
   "metadata": {
    "collapsed": false
   }
  },
  {
   "cell_type": "markdown",
   "source": [],
   "metadata": {
    "collapsed": false
   }
  },
  {
   "cell_type": "markdown",
   "source": [
    "<h2> 5. Evaluation </h2>"
   ],
   "metadata": {
    "collapsed": false
   }
  },
  {
   "cell_type": "markdown",
   "source": [
    "<h3> 5 - 1. Conclusion </h3>"
   ],
   "metadata": {
    "collapsed": false
   }
  },
  {
   "cell_type": "code",
   "execution_count": null,
   "outputs": [],
   "source": [],
   "metadata": {
    "collapsed": false
   }
  },
  {
   "cell_type": "markdown",
   "source": [],
   "metadata": {
    "collapsed": false
   }
  },
  {
   "cell_type": "markdown",
   "source": [
    "<h3> 5 - 2. Strength and Limitations </h3>"
   ],
   "metadata": {
    "collapsed": false
   }
  },
  {
   "cell_type": "code",
   "execution_count": null,
   "outputs": [],
   "source": [],
   "metadata": {
    "collapsed": false
   }
  },
  {
   "cell_type": "markdown",
   "source": [],
   "metadata": {
    "collapsed": false
   }
  },
  {
   "cell_type": "markdown",
   "source": [
    "<h3> 5 - 3. Future Steps </h3>"
   ],
   "metadata": {
    "collapsed": false
   }
  },
  {
   "cell_type": "code",
   "execution_count": null,
   "outputs": [],
   "source": [],
   "metadata": {
    "collapsed": false
   }
  },
  {
   "cell_type": "markdown",
   "source": [],
   "metadata": {
    "collapsed": false
   }
  }
 ],
 "metadata": {
  "kernelspec": {
   "display_name": "Python 3",
   "language": "python",
   "name": "python3"
  },
  "language_info": {
   "codemirror_mode": {
    "name": "ipython",
    "version": 2
   },
   "file_extension": ".py",
   "mimetype": "text/x-python",
   "name": "python",
   "nbconvert_exporter": "python",
   "pygments_lexer": "ipython2",
   "version": "2.7.6"
  }
 },
 "nbformat": 4,
 "nbformat_minor": 0
}
