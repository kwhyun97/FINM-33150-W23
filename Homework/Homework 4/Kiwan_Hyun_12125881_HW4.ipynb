{
 "cells": [
  {
   "cell_type": "markdown",
   "source": [
    "<left>FINM 33150 - Quantitative Trading Strategies</left>\n",
    "<left>Winter 2023</left>\n",
    "<br>\n",
    "<h1><center> Homework 4: Accumulation Opportunity </center></h1>\n",
    "<center>Due - 23:00 [CST] February 2nd, 2023</center>\n",
    "<br>\n",
    "<h3>Ki Hyun</h3>\n",
    "<h3>Student ID: 12125881</h3>"
   ],
   "metadata": {
    "collapsed": false
   }
  },
  {
   "cell_type": "markdown",
   "source": [
    "<h5> Imports </h5>"
   ],
   "metadata": {
    "collapsed": false
   }
  },
  {
   "cell_type": "code",
   "execution_count": 1,
   "outputs": [],
   "source": [
    "%matplotlib inline"
   ],
   "metadata": {
    "collapsed": false
   }
  },
  {
   "cell_type": "code",
   "execution_count": 2,
   "metadata": {
    "collapsed": true
   },
   "outputs": [],
   "source": [
    "import os\n",
    "import datetime\n",
    "import pickle\n",
    "import matplotlib.pyplot as plt\n",
    "import matplotlib.dates as mdates\n",
    "import pandas as pd\n",
    "import numpy as np\n",
    "import scipy as sp\n",
    "import seaborn as sns\n",
    "from enum import Enum"
   ]
  },
  {
   "cell_type": "markdown",
   "source": [
    "<h5> Constants </h5>"
   ],
   "metadata": {
    "collapsed": false
   }
  },
  {
   "cell_type": "code",
   "execution_count": 3,
   "outputs": [],
   "source": [
    "# constants needed for grabbing and cleaning data\n",
    "data_home_dir = \"C:\\\\Users\\\\kwhyu\\\\OneDrive - The University of Chicago\\\\2023-1 Winter\\\\FINM \" \\\n",
    "                \"33150\\\\FINM-33150-W23\\\\Data\\\\Crypto\\\\\"\n",
    "pairs = ['BTC-USD', 'ETH-USD', 'ETH-BTC']\n",
    "years = ['2021', '2022', '2023']\n",
    "# constants needed for trading simulation\n",
    "reaction_time = int(0.1 * (10 ** 9)) # in nano seconds\n",
    "currency_crypto_cost = 50 * (10 ** (-4))\n",
    "crypto_crypto_cost = 10 * (10 ** (-4))\n",
    "p = 0.05 # 5% participation rate"
   ],
   "metadata": {
    "collapsed": false
   }
  },
  {
   "cell_type": "markdown",
   "source": [
    "<h5> Helper Functions </h5>"
   ],
   "metadata": {
    "collapsed": false
   }
  },
  {
   "cell_type": "code",
   "execution_count": 4,
   "outputs": [],
   "source": [
    "class Order(Enum):\n",
    "    Sell = -1\n",
    "    Buy = 1"
   ],
   "metadata": {
    "collapsed": false
   }
  },
  {
   "cell_type": "code",
   "execution_count": 5,
   "outputs": [],
   "source": [
    "def read_data(pair, year):\n",
    "    global data_home_dir\n",
    "    # creating directory for the pair and year\n",
    "    book_dir = f'book_narrow_{pair}_{year}.delim.gz'\n",
    "    trades_dir = f'trades_narrow_{pair}_{year}.delim.gz'\n",
    "    # retrieving book data:\n",
    "    print(\">>> Retrieving Book data for \", pair, \" for the year \", year, \"...\")\n",
    "    try:\n",
    "        book = pd.read_table(os.path.join(data_home_dir, book_dir))\n",
    "        print(\">>> Success!\")\n",
    "    except:\n",
    "        print(\">>> Book data for \", pair, \" for the year \", year, \" does not exist\")\n",
    "        book = None\n",
    "    # retrieving trades data:\n",
    "    print(\">>> Retrieving Trades data for \", pair, \" for the year \", year, \"...\")\n",
    "    try:\n",
    "        trades = pd.read_table(os.path.join(data_home_dir, trades_dir))\n",
    "        print(\">>> Success!\")\n",
    "    except:\n",
    "        print(\">>> Trades data for \", pair, \" for the year \", year, \" does not exist\")\n",
    "        return book, None, pair, year, None\n",
    "    # indexing trades data by Time and Nano second\n",
    "    trades['Time'] = (trades['timestamp_utc_nanoseconds'] / 10**9).apply(int)\\\n",
    "        .apply(lambda x: datetime.datetime.fromtimestamp(x))\n",
    "    trades['Nano second'] = trades['timestamp_utc_nanoseconds'] % 10**9\n",
    "    trades = trades.set_index(['Time', 'Nano second']).sort_index().drop(columns = {'received_utc_nanoseconds'})\n",
    "    # sorting into buy and sell data\n",
    "    sell = trades[trades['Side'] < 0]\n",
    "    buy = trades[trades['Side'] > 0]\n",
    "\n",
    "    return book, buy, pair, year, sell"
   ],
   "metadata": {
    "collapsed": false
   }
  },
  {
   "cell_type": "code",
   "execution_count": 6,
   "outputs": [],
   "source": [
    "def clean_trading_data(raw_df, side, reaction_time):\n",
    "    df = raw_df[side.value].copy()\n",
    "    pair = raw_df[2]\n",
    "    year = raw_df[3]\n",
    "    if side == Order.Buy:\n",
    "        detail = \"Buy\"\n",
    "    else:\n",
    "        detail = \"Sell\"\n",
    "    print(\">>> Cleaning\", pair, \"for the year\", year, detail, \"Trades data for VWAP Algorithm based on reaction time\",\n",
    "          reaction_time/(10**9), \" seconds...\")\n",
    "    df['hold_time_nanoseconds'] = (df['timestamp_utc_nanoseconds'].shift(-1).fillna(method = 'ffill') -\n",
    "                                   df['timestamp_utc_nanoseconds']).apply(int)\n",
    "    df = df.drop(columns = {'timestamp_utc_nanoseconds', 'Side'})\n",
    "    df = df[df['hold_time_nanoseconds'] > 0]\n",
    "\n",
    "    temp_l = []\n",
    "    interval = int(0)\n",
    "    for trade in df.index:\n",
    "        interval += df.loc[trade, 'hold_time_nanoseconds']\n",
    "        if interval >= reaction_time:\n",
    "            temp_l.append(True)\n",
    "            interval = int(0)\n",
    "        else:\n",
    "            temp_l.append(False)\n",
    "    df['qualify'] = temp_l\n",
    "    print(\">>> Success!\")\n",
    "    return df"
   ],
   "metadata": {
    "collapsed": false
   }
  },
  {
   "cell_type": "code",
   "execution_count": 7,
   "outputs": [],
   "source": [
    "def data_factory(pairs, years, avoid_file_load = False):\n",
    "    if not avoid_file_load:\n",
    "        dir = r'./data/full_data.pkl'\n",
    "        with open(dir, 'rb') as f:\n",
    "            try:\n",
    "                ret_dict = pickle.load(f)\n",
    "                print(\">>> Found data...\")\n",
    "                return ret_dict\n",
    "            except:\n",
    "                print(\">>> No data found\")\n",
    "                print(\">>> Proceeding to compute the data...\")\n",
    "\n",
    "    global reaction_time\n",
    "    ret_dict = {}\n",
    "    for pair in pairs:\n",
    "        for year in years:\n",
    "            raw_df = read_data(pair, year)\n",
    "            if raw_df[1] is None:\n",
    "                buy = None\n",
    "                sell = None\n",
    "            else:\n",
    "                buy = clean_trading_data(raw_df, Order.Buy, reaction_time)\n",
    "                sell = clean_trading_data(raw_df, Order.Sell, reaction_time)\n",
    "\n",
    "            ret_dict[(pair, year)] = [raw_df[0], buy, sell]\n",
    "\n",
    "    if not avoid_file_load:\n",
    "        dir = r'./data/full_data.pkl'\n",
    "        with open(dir, 'wb') as f:\n",
    "            pickle.dump(ret_dict, f)\n",
    "\n",
    "    return ret_dict"
   ],
   "metadata": {
    "collapsed": false
   }
  },
  {
   "cell_type": "code",
   "execution_count": 8,
   "outputs": [],
   "source": [
    "def VWAP_participation(df_cleaned, Q, p, start_time,\n",
    "                       side, transaction_cost):\n",
    "    df = df_cleaned.loc[start_time:].copy()\n",
    "\n",
    "    if side == Order.Buy:\n",
    "        f = False\n",
    "    else:\n",
    "        f = True\n",
    "\n",
    "    accumulated = 0\n",
    "    indexes = df[df['qualify']].index\n",
    "    i = 0\n",
    "    ret_df = {'datetime': [],\n",
    "              'Nano seconds': [],\n",
    "              'PriceMillionths': [],\n",
    "              'SizeBillionths': []}\n",
    "\n",
    "    while(accumulated < Q and i < len(indexes)):\n",
    "        if i == 0:\n",
    "            temp = df.loc[:indexes[i]].sort_values(by = ['PriceMillionths'], ascending = f).iloc[0]\n",
    "        else:\n",
    "            temp = df.loc[indexes[i-1]:indexes[i]].iloc[1:].sort_values(by = ['PriceMillionths'], ascending = f).iloc[0]\n",
    "\n",
    "        ret_df['datetime'].append(temp.name[0])\n",
    "        ret_df['Nano seconds'].append(temp.name[1])\n",
    "        ret_df['PriceMillionths'].append(temp['PriceMillionths'])\n",
    "        ret_df['SizeBillionths'].append(temp['SizeBillionths'] * p)\n",
    "\n",
    "        accumulated += temp['SizeBillionths'] * p\n",
    "        i += 1\n",
    "\n",
    "    ret_df = pd.DataFrame(ret_df).set_index(['datetime', 'Nano seconds'])\n",
    "    ret_df['NotionalMillionths'] = ret_df['PriceMillionths'] * ret_df['SizeBillionths'] / (10**9)\n",
    "    ret_df['TradingCostsMillionths'] = ret_df['NotionalMillionths'] * transaction_cost\n",
    "    ret_df['VWAPMillionths'] = (ret_df['NotionalMillionths'].cumsum() / ret_df['SizeBillionths'].cumsum() * (10**9))\\\n",
    "        .apply(int)\n",
    "\n",
    "    return ret_df"
   ],
   "metadata": {
    "collapsed": false
   }
  },
  {
   "cell_type": "code",
   "execution_count": 9,
   "outputs": [],
   "source": [
    "def total_participation_opportunities(full_dict, p,\n",
    "                                      currency_crypto_cost, crypto_crypto_cost):\n",
    "\n",
    "    for pair, year in full_dict.keys():\n",
    "        if pair == 'ETH-BTC':\n",
    "            transaction_cost = crypto_crypto_cost\n",
    "        else:\n",
    "            transaction_cost = currency_crypto_cost\n",
    "        df_Buy = full_dict[(pair, year)][Order.Buy.value]\n",
    "        dir = r'./data/' + pair + '_' + year + '_total_buy_opportunities.csv'\n",
    "        if os.path.exists(dir):\n",
    "            print(dir, 'in data file')\n",
    "        else:\n",
    "            VWAP_participation(df_Buy, np.infty, p, df_Buy.index[0][0], Order.Buy, transaction_cost).to_csv(dir)\n",
    "        df_Sell = full_dict[(pair, year)][Order.Sell.value]\n",
    "        dir = r'./data/' + pair + '_' + year + '_total_sell_opportunities.csv'\n",
    "        if os.path.exists(dir):\n",
    "            print(dir, 'in data file')\n",
    "        else:\n",
    "            VWAP_participation(df_Sell, np.infty, p, df_Sell.index[0][0], Order.Sell, transaction_cost).to_csv(dir)"
   ],
   "metadata": {
    "collapsed": false
   }
  },
  {
   "cell_type": "code",
   "execution_count": 20,
   "outputs": [],
   "source": [
    "def accumulation_analytics(dfs, Q):\n",
    "    ret_df = {'Start Time': [], 'Start Nano': [], 'End Time': [], 'End Nano': [], 'Accumulated Billionth': [],\n",
    "              'Notional Millionth': [], 'Duration Nano': [], 'Transaction Cost Millionth': []}\n",
    "    df = dfs.copy()\n",
    "    df_cumulative = df.cumsum()\n",
    "    for time in df.index:\n",
    "        # don't record the last time for duration != 0\n",
    "        if time == df.index[-1]:\n",
    "            break\n",
    "        # finding end point\n",
    "        arrival_point = df_cumulative.shift().fillna(0.0).loc[time]\n",
    "        already = arrival_point['SizeBillionths']\n",
    "        end_point = df_cumulative[df_cumulative['SizeBillionths'] >= already + Q].head(1)\n",
    "        if len(end_point) == 0:\n",
    "            #end_point = df_cumulative.iloc[-1]\n",
    "            break\n",
    "        else:\n",
    "            end_point = end_point.iloc[0]\n",
    "        # recording the start time\n",
    "        T_start, Nano_start = time\n",
    "        ret_df['Start Time'].append(T_start)\n",
    "        ret_df['Start Nano'].append(Nano_start)\n",
    "        # recording end time\n",
    "        T_end, Nano_end = end_point.name\n",
    "        ret_df['End Time'].append(T_end)\n",
    "        ret_df['End Nano'].append(Nano_end)\n",
    "        # recording accumulated\n",
    "        accumulated = end_point['SizeBillionths'] - already\n",
    "        ret_df['Accumulated Billionth'].append(accumulated)\n",
    "        # recording Notional\n",
    "        notional = end_point['NotionalMillionths'] - arrival_point['NotionalMillionths']\n",
    "        ret_df['Notional Millionth'].append(notional)\n",
    "        # recording duration time\n",
    "        duration = int(T_start.timestamp()) * (10**9) + Nano_start - \\\n",
    "                   (int(T_end.timestamp()) * (10**9) + Nano_end)\n",
    "        ret_df['Duration Nano'].append(duration)\n",
    "        # recording Transaction Cost\n",
    "        transaction_cost = end_point['TradingCostsMillionths'] - arrival_point['TradingCostsMillionths']\n",
    "        ret_df['Transaction Cost Millionth'].append(transaction_cost)\n",
    "\n",
    "    return pd.DataFrame(ret_df)"
   ],
   "metadata": {
    "collapsed": false
   }
  },
  {
   "cell_type": "code",
   "execution_count": 11,
   "outputs": [],
   "source": [
    "def read_pair_data(pair, year):\n",
    "    # buy data\n",
    "    dir_buy = r'./data/' + pair + '_' + year + '_total_buy_opportunities.csv'\n",
    "    buy_df = pd.read_csv(dir_buy)\n",
    "    buy_df.datetime = pd.to_datetime(buy_df.datetime)\n",
    "    buy_df = buy_df.set_index(['datetime', 'Nano seconds'])\n",
    "    # sell data\n",
    "    dir_sell = r'./data/' + pair + '_' + year + '_total_sell_opportunities.csv'\n",
    "    sell_df = pd.read_csv(dir_sell)\n",
    "    sell_df.datetime = pd.to_datetime(sell_df.datetime)\n",
    "    sell_df = sell_df.set_index(['datetime', 'Nano seconds'])\n",
    "    return buy_df, sell_df"
   ],
   "metadata": {
    "collapsed": false
   }
  },
  {
   "cell_type": "markdown",
   "source": [
    "<h2> 2. Data </h2>"
   ],
   "metadata": {
    "collapsed": false
   }
  },
  {
   "cell_type": "markdown",
   "source": [
    "<h3> 2-1. Raw Data </h3>"
   ],
   "metadata": {
    "collapsed": false
   }
  },
  {
   "cell_type": "markdown",
   "source": [],
   "metadata": {
    "collapsed": false
   }
  },
  {
   "cell_type": "markdown",
   "source": [
    "<h3> 2-2. Data Processing </h3>"
   ],
   "metadata": {
    "collapsed": false
   }
  },
  {
   "cell_type": "code",
   "execution_count": 12,
   "outputs": [
    {
     "name": "stdout",
     "output_type": "stream",
     "text": [
      ">>> Found data...\n"
     ]
    }
   ],
   "source": [
    "data_dict = data_factory(pairs, years)"
   ],
   "metadata": {
    "collapsed": false
   }
  },
  {
   "cell_type": "code",
   "execution_count": 13,
   "outputs": [
    {
     "name": "stdout",
     "output_type": "stream",
     "text": [
      "./data/BTC-USD_2021_total_buy_opportunities.csv in data file\n",
      "./data/BTC-USD_2021_total_sell_opportunities.csv in data file\n",
      "./data/BTC-USD_2022_total_buy_opportunities.csv in data file\n",
      "./data/BTC-USD_2022_total_sell_opportunities.csv in data file\n",
      "./data/BTC-USD_2023_total_buy_opportunities.csv in data file\n",
      "./data/BTC-USD_2023_total_sell_opportunities.csv in data file\n",
      "./data/ETH-USD_2021_total_buy_opportunities.csv in data file\n",
      "./data/ETH-USD_2021_total_sell_opportunities.csv in data file\n",
      "./data/ETH-USD_2022_total_buy_opportunities.csv in data file\n",
      "./data/ETH-USD_2022_total_sell_opportunities.csv in data file\n",
      "./data/ETH-USD_2023_total_buy_opportunities.csv in data file\n",
      "./data/ETH-USD_2023_total_sell_opportunities.csv in data file\n",
      "./data/ETH-BTC_2021_total_buy_opportunities.csv in data file\n",
      "./data/ETH-BTC_2021_total_sell_opportunities.csv in data file\n",
      "./data/ETH-BTC_2022_total_buy_opportunities.csv in data file\n",
      "./data/ETH-BTC_2022_total_sell_opportunities.csv in data file\n",
      "./data/ETH-BTC_2023_total_buy_opportunities.csv in data file\n",
      "./data/ETH-BTC_2023_total_sell_opportunities.csv in data file\n"
     ]
    }
   ],
   "source": [
    "total_participation_opportunities(data_dict, p, currency_crypto_cost, crypto_crypto_cost)"
   ],
   "metadata": {
    "collapsed": false
   }
  },
  {
   "cell_type": "code",
   "execution_count": 14,
   "outputs": [],
   "source": [
    "BTC_USD_2021 = read_pair_data('BTC-USD', '2021')\n",
    "BTC_USD_2022 = read_pair_data('BTC-USD', '2022')\n",
    "BTC_USD_2023 = read_pair_data('BTC-USD', '2023')"
   ],
   "metadata": {
    "collapsed": false
   }
  },
  {
   "cell_type": "markdown",
   "source": [],
   "metadata": {
    "collapsed": false
   }
  },
  {
   "cell_type": "markdown",
   "source": [
    "<h3> 2-3. Data Description </h3>"
   ],
   "metadata": {
    "collapsed": false
   }
  },
  {
   "cell_type": "code",
   "execution_count": 21,
   "outputs": [
    {
     "data": {
      "text/plain": "                                  PriceMillionths  SizeBillionths  \\\ndatetime            Nano seconds                                    \n2021-04-10 16:28:53 470961000         59122080000        189904.5   \n                    596148000         59119960000        126228.5   \n2021-04-10 16:28:54 64537000          59119960000         27776.5   \n                    835128000         59123810000        984083.5   \n2021-04-10 16:28:55 30223000          59123810000         11798.0   \n                    577343000         59123810000       3785645.0   \n2021-04-10 16:29:00 30069000          59123580000      16450622.0   \n2021-04-10 16:29:02 519128000         59121540000         81632.0   \n                    810133000         59117620000          5060.5   \n2021-04-10 16:29:03 5146000           59117620000         81630.0   \n\n                                  NotionalMillionths  TradingCostsMillionths  \\\ndatetime            Nano seconds                                               \n2021-04-10 16:28:53 470961000           1.122755e+07            5.613775e+04   \n                    596148000           7.462624e+06            3.731312e+04   \n2021-04-10 16:28:54 64537000            1.642146e+06            8.210728e+03   \n                    835128000           5.818277e+07            2.909138e+05   \n2021-04-10 16:28:55 30223000            6.975427e+05            3.487714e+03   \n                    577343000           2.238218e+08            1.119109e+06   \n2021-04-10 16:29:00 30069000            9.726197e+08            4.863098e+06   \n2021-04-10 16:29:02 519128000           4.826210e+06            2.413105e+04   \n                    810133000           2.991647e+05            1.495824e+03   \n2021-04-10 16:29:03 5146000             4.825771e+06            2.412886e+04   \n\n                                  VWAPMillionths  \ndatetime            Nano seconds                  \n2021-04-10 16:28:53 470961000        59122080000  \n                    596148000        59121233506  \n2021-04-10 16:28:54 64537000         59121130649  \n                    835128000        59123116130  \n2021-04-10 16:28:55 30223000         59123122240  \n                    577343000        59123630219  \n2021-04-10 16:29:00 30069000         59123591929  \n2021-04-10 16:29:02 519128000        59123584195  \n                    810133000        59123582802  \n2021-04-10 16:29:03 5146000          59123560417  ",
      "text/html": "<div>\n<style scoped>\n    .dataframe tbody tr th:only-of-type {\n        vertical-align: middle;\n    }\n\n    .dataframe tbody tr th {\n        vertical-align: top;\n    }\n\n    .dataframe thead th {\n        text-align: right;\n    }\n</style>\n<table border=\"1\" class=\"dataframe\">\n  <thead>\n    <tr style=\"text-align: right;\">\n      <th></th>\n      <th></th>\n      <th>PriceMillionths</th>\n      <th>SizeBillionths</th>\n      <th>NotionalMillionths</th>\n      <th>TradingCostsMillionths</th>\n      <th>VWAPMillionths</th>\n    </tr>\n    <tr>\n      <th>datetime</th>\n      <th>Nano seconds</th>\n      <th></th>\n      <th></th>\n      <th></th>\n      <th></th>\n      <th></th>\n    </tr>\n  </thead>\n  <tbody>\n    <tr>\n      <th rowspan=\"2\" valign=\"top\">2021-04-10 16:28:53</th>\n      <th>470961000</th>\n      <td>59122080000</td>\n      <td>189904.5</td>\n      <td>1.122755e+07</td>\n      <td>5.613775e+04</td>\n      <td>59122080000</td>\n    </tr>\n    <tr>\n      <th>596148000</th>\n      <td>59119960000</td>\n      <td>126228.5</td>\n      <td>7.462624e+06</td>\n      <td>3.731312e+04</td>\n      <td>59121233506</td>\n    </tr>\n    <tr>\n      <th rowspan=\"2\" valign=\"top\">2021-04-10 16:28:54</th>\n      <th>64537000</th>\n      <td>59119960000</td>\n      <td>27776.5</td>\n      <td>1.642146e+06</td>\n      <td>8.210728e+03</td>\n      <td>59121130649</td>\n    </tr>\n    <tr>\n      <th>835128000</th>\n      <td>59123810000</td>\n      <td>984083.5</td>\n      <td>5.818277e+07</td>\n      <td>2.909138e+05</td>\n      <td>59123116130</td>\n    </tr>\n    <tr>\n      <th rowspan=\"2\" valign=\"top\">2021-04-10 16:28:55</th>\n      <th>30223000</th>\n      <td>59123810000</td>\n      <td>11798.0</td>\n      <td>6.975427e+05</td>\n      <td>3.487714e+03</td>\n      <td>59123122240</td>\n    </tr>\n    <tr>\n      <th>577343000</th>\n      <td>59123810000</td>\n      <td>3785645.0</td>\n      <td>2.238218e+08</td>\n      <td>1.119109e+06</td>\n      <td>59123630219</td>\n    </tr>\n    <tr>\n      <th>2021-04-10 16:29:00</th>\n      <th>30069000</th>\n      <td>59123580000</td>\n      <td>16450622.0</td>\n      <td>9.726197e+08</td>\n      <td>4.863098e+06</td>\n      <td>59123591929</td>\n    </tr>\n    <tr>\n      <th rowspan=\"2\" valign=\"top\">2021-04-10 16:29:02</th>\n      <th>519128000</th>\n      <td>59121540000</td>\n      <td>81632.0</td>\n      <td>4.826210e+06</td>\n      <td>2.413105e+04</td>\n      <td>59123584195</td>\n    </tr>\n    <tr>\n      <th>810133000</th>\n      <td>59117620000</td>\n      <td>5060.5</td>\n      <td>2.991647e+05</td>\n      <td>1.495824e+03</td>\n      <td>59123582802</td>\n    </tr>\n    <tr>\n      <th>2021-04-10 16:29:03</th>\n      <th>5146000</th>\n      <td>59117620000</td>\n      <td>81630.0</td>\n      <td>4.825771e+06</td>\n      <td>2.412886e+04</td>\n      <td>59123560417</td>\n    </tr>\n  </tbody>\n</table>\n</div>"
     },
     "execution_count": 21,
     "metadata": {},
     "output_type": "execute_result"
    }
   ],
   "source": [
    "BTC_USD_2021[0].head(10)"
   ],
   "metadata": {
    "collapsed": false
   }
  },
  {
   "cell_type": "code",
   "execution_count": 22,
   "outputs": [
    {
     "data": {
      "text/plain": "                                  PriceMillionths  SizeBillionths  \\\ndatetime            Nano seconds                                    \n2021-04-10 16:28:52 515484000         59125070000        406122.5   \n2021-04-10 16:28:53 74765000          59119950000        849794.5   \n                    613354000         59119950000        656146.5   \n2021-04-10 16:28:54 195667000         59119950000        891207.0   \n                    716996000         59119950000       1250000.0   \n2021-04-10 16:28:55 71608000          59119950000        132392.0   \n                    358280000         59119950000        891184.5   \n                    987817000         59121860000        891028.5   \n2021-04-10 16:28:56 830404000         59121860000        352749.0   \n2021-04-10 16:28:57 426911000         59119960000          9283.0   \n\n                                  NotionalMillionths  TradingCostsMillionths  \\\ndatetime            Nano seconds                                               \n2021-04-10 16:28:52 515484000           2.401202e+07           120060.106205   \n2021-04-10 16:28:53 74765000            5.023981e+07           251199.041751   \n                    613354000           3.879135e+07           193956.741363   \n2021-04-10 16:28:54 195667000           5.268811e+07           263440.566398   \n                    716996000           7.389994e+07           369499.687500   \n2021-04-10 16:28:55 71608000            7.827008e+06            39135.042102   \n                    358280000           5.268678e+07           263433.915404   \n                    987817000           5.267926e+07           263396.311165   \n2021-04-10 16:28:56 830404000           2.085518e+07           104275.884966   \n2021-04-10 16:28:57 426911000           5.488106e+05             2744.052943   \n\n                                  VWAPMillionths  \ndatetime            Nano seconds                  \n2021-04-10 16:28:52 515484000        59125070000  \n2021-04-10 16:28:53 74765000         59121605640  \n                    613354000        59121037488  \n2021-04-10 16:28:54 195667000        59120691757  \n                    716996000        59120463004  \n2021-04-10 16:28:55 71608000         59120446778  \n                    358280000        59120359574  \n                    987817000        59120583594  \n2021-04-10 16:28:56 830404000        59120654829  \n2021-04-10 16:28:57 426911000        59120653810  ",
      "text/html": "<div>\n<style scoped>\n    .dataframe tbody tr th:only-of-type {\n        vertical-align: middle;\n    }\n\n    .dataframe tbody tr th {\n        vertical-align: top;\n    }\n\n    .dataframe thead th {\n        text-align: right;\n    }\n</style>\n<table border=\"1\" class=\"dataframe\">\n  <thead>\n    <tr style=\"text-align: right;\">\n      <th></th>\n      <th></th>\n      <th>PriceMillionths</th>\n      <th>SizeBillionths</th>\n      <th>NotionalMillionths</th>\n      <th>TradingCostsMillionths</th>\n      <th>VWAPMillionths</th>\n    </tr>\n    <tr>\n      <th>datetime</th>\n      <th>Nano seconds</th>\n      <th></th>\n      <th></th>\n      <th></th>\n      <th></th>\n      <th></th>\n    </tr>\n  </thead>\n  <tbody>\n    <tr>\n      <th>2021-04-10 16:28:52</th>\n      <th>515484000</th>\n      <td>59125070000</td>\n      <td>406122.5</td>\n      <td>2.401202e+07</td>\n      <td>120060.106205</td>\n      <td>59125070000</td>\n    </tr>\n    <tr>\n      <th rowspan=\"2\" valign=\"top\">2021-04-10 16:28:53</th>\n      <th>74765000</th>\n      <td>59119950000</td>\n      <td>849794.5</td>\n      <td>5.023981e+07</td>\n      <td>251199.041751</td>\n      <td>59121605640</td>\n    </tr>\n    <tr>\n      <th>613354000</th>\n      <td>59119950000</td>\n      <td>656146.5</td>\n      <td>3.879135e+07</td>\n      <td>193956.741363</td>\n      <td>59121037488</td>\n    </tr>\n    <tr>\n      <th rowspan=\"2\" valign=\"top\">2021-04-10 16:28:54</th>\n      <th>195667000</th>\n      <td>59119950000</td>\n      <td>891207.0</td>\n      <td>5.268811e+07</td>\n      <td>263440.566398</td>\n      <td>59120691757</td>\n    </tr>\n    <tr>\n      <th>716996000</th>\n      <td>59119950000</td>\n      <td>1250000.0</td>\n      <td>7.389994e+07</td>\n      <td>369499.687500</td>\n      <td>59120463004</td>\n    </tr>\n    <tr>\n      <th rowspan=\"3\" valign=\"top\">2021-04-10 16:28:55</th>\n      <th>71608000</th>\n      <td>59119950000</td>\n      <td>132392.0</td>\n      <td>7.827008e+06</td>\n      <td>39135.042102</td>\n      <td>59120446778</td>\n    </tr>\n    <tr>\n      <th>358280000</th>\n      <td>59119950000</td>\n      <td>891184.5</td>\n      <td>5.268678e+07</td>\n      <td>263433.915404</td>\n      <td>59120359574</td>\n    </tr>\n    <tr>\n      <th>987817000</th>\n      <td>59121860000</td>\n      <td>891028.5</td>\n      <td>5.267926e+07</td>\n      <td>263396.311165</td>\n      <td>59120583594</td>\n    </tr>\n    <tr>\n      <th>2021-04-10 16:28:56</th>\n      <th>830404000</th>\n      <td>59121860000</td>\n      <td>352749.0</td>\n      <td>2.085518e+07</td>\n      <td>104275.884966</td>\n      <td>59120654829</td>\n    </tr>\n    <tr>\n      <th>2021-04-10 16:28:57</th>\n      <th>426911000</th>\n      <td>59119960000</td>\n      <td>9283.0</td>\n      <td>5.488106e+05</td>\n      <td>2744.052943</td>\n      <td>59120653810</td>\n    </tr>\n  </tbody>\n</table>\n</div>"
     },
     "execution_count": 22,
     "metadata": {},
     "output_type": "execute_result"
    }
   ],
   "source": [
    "BTC_USD_2021[1].head(10)"
   ],
   "metadata": {
    "collapsed": false
   }
  },
  {
   "cell_type": "markdown",
   "source": [],
   "metadata": {
    "collapsed": false
   }
  },
  {
   "cell_type": "code",
   "execution_count": 23,
   "outputs": [
    {
     "ename": "KeyboardInterrupt",
     "evalue": "",
     "output_type": "error",
     "traceback": [
      "\u001B[1;31m---------------------------------------------------------------------------\u001B[0m",
      "\u001B[1;31mLossySetitemError\u001B[0m                         Traceback (most recent call last)",
      "File \u001B[1;32m~\\.virtualenvs\\FINM-33150-W23-p0ffiBII\\Lib\\site-packages\\pandas\\core\\internals\\blocks.py:1298\u001B[0m, in \u001B[0;36mBlock.shift\u001B[1;34m(self, periods, axis, fill_value)\u001B[0m\n\u001B[0;32m   1295\u001B[0m \u001B[38;5;28;01mtry\u001B[39;00m:\n\u001B[0;32m   1296\u001B[0m     \u001B[38;5;66;03m# error: Argument 1 to \"np_can_hold_element\" has incompatible type\u001B[39;00m\n\u001B[0;32m   1297\u001B[0m     \u001B[38;5;66;03m# \"Union[dtype[Any], ExtensionDtype]\"; expected \"dtype[Any]\"\u001B[39;00m\n\u001B[1;32m-> 1298\u001B[0m     casted \u001B[38;5;241m=\u001B[39m \u001B[43mnp_can_hold_element\u001B[49m\u001B[43m(\u001B[49m\n\u001B[0;32m   1299\u001B[0m \u001B[43m        \u001B[49m\u001B[38;5;28;43mself\u001B[39;49m\u001B[38;5;241;43m.\u001B[39;49m\u001B[43mdtype\u001B[49m\u001B[43m,\u001B[49m\u001B[43m \u001B[49m\u001B[43mfill_value\u001B[49m\u001B[43m  \u001B[49m\u001B[38;5;66;43;03m# type: ignore[arg-type]\u001B[39;49;00m\n\u001B[0;32m   1300\u001B[0m \u001B[43m    \u001B[49m\u001B[43m)\u001B[49m\n\u001B[0;32m   1301\u001B[0m \u001B[38;5;28;01mexcept\u001B[39;00m LossySetitemError:\n",
      "File \u001B[1;32m~\\.virtualenvs\\FINM-33150-W23-p0ffiBII\\Lib\\site-packages\\pandas\\core\\dtypes\\cast.py:2009\u001B[0m, in \u001B[0;36mnp_can_hold_element\u001B[1;34m(dtype, element)\u001B[0m\n\u001B[0;32m   2007\u001B[0m         \u001B[38;5;28;01mreturn\u001B[39;00m element\n\u001B[1;32m-> 2009\u001B[0m     \u001B[38;5;28;01mraise\u001B[39;00m LossySetitemError\n\u001B[0;32m   2011\u001B[0m \u001B[38;5;28;01melif\u001B[39;00m dtype\u001B[38;5;241m.\u001B[39mkind \u001B[38;5;241m==\u001B[39m \u001B[38;5;124m\"\u001B[39m\u001B[38;5;124mf\u001B[39m\u001B[38;5;124m\"\u001B[39m:\n",
      "\u001B[1;31mLossySetitemError\u001B[0m: ",
      "\nDuring handling of the above exception, another exception occurred:\n",
      "\u001B[1;31mKeyboardInterrupt\u001B[0m                         Traceback (most recent call last)",
      "Cell \u001B[1;32mIn[23], line 1\u001B[0m\n\u001B[1;32m----> 1\u001B[0m \u001B[43maccumulation_analytics\u001B[49m\u001B[43m(\u001B[49m\u001B[43mBTC_USD_2021\u001B[49m\u001B[43m[\u001B[49m\u001B[38;5;241;43m0\u001B[39;49m\u001B[43m]\u001B[49m\u001B[43m,\u001B[49m\u001B[43m \u001B[49m\u001B[38;5;241;43m10000000000\u001B[39;49m\u001B[43m)\u001B[49m\n",
      "Cell \u001B[1;32mIn[20], line 11\u001B[0m, in \u001B[0;36maccumulation_analytics\u001B[1;34m(dfs, Q)\u001B[0m\n\u001B[0;32m      9\u001B[0m     \u001B[38;5;28;01mbreak\u001B[39;00m\n\u001B[0;32m     10\u001B[0m \u001B[38;5;66;03m# finding end point\u001B[39;00m\n\u001B[1;32m---> 11\u001B[0m arrival_point \u001B[38;5;241m=\u001B[39m \u001B[43mdf_cumulative\u001B[49m\u001B[38;5;241;43m.\u001B[39;49m\u001B[43mshift\u001B[49m\u001B[43m(\u001B[49m\u001B[43m)\u001B[49m\u001B[38;5;241m.\u001B[39mfillna(\u001B[38;5;241m0.0\u001B[39m)\u001B[38;5;241m.\u001B[39mloc[time]\n\u001B[0;32m     12\u001B[0m already \u001B[38;5;241m=\u001B[39m arrival_point[\u001B[38;5;124m'\u001B[39m\u001B[38;5;124mSizeBillionths\u001B[39m\u001B[38;5;124m'\u001B[39m]\n\u001B[0;32m     13\u001B[0m end_point \u001B[38;5;241m=\u001B[39m df_cumulative[df_cumulative[\u001B[38;5;124m'\u001B[39m\u001B[38;5;124mSizeBillionths\u001B[39m\u001B[38;5;124m'\u001B[39m] \u001B[38;5;241m>\u001B[39m\u001B[38;5;241m=\u001B[39m already \u001B[38;5;241m+\u001B[39m Q]\u001B[38;5;241m.\u001B[39mhead(\u001B[38;5;241m1\u001B[39m)\n",
      "File \u001B[1;32m~\\.virtualenvs\\FINM-33150-W23-p0ffiBII\\Lib\\site-packages\\pandas\\core\\frame.py:5852\u001B[0m, in \u001B[0;36mDataFrame.shift\u001B[1;34m(self, periods, freq, axis, fill_value)\u001B[0m\n\u001B[0;32m   5849\u001B[0m         res_df \u001B[38;5;241m=\u001B[39m \u001B[38;5;28mself\u001B[39m\u001B[38;5;241m.\u001B[39m_constructor(mgr)\n\u001B[0;32m   5850\u001B[0m         \u001B[38;5;28;01mreturn\u001B[39;00m res_df\u001B[38;5;241m.\u001B[39m__finalize__(\u001B[38;5;28mself\u001B[39m, method\u001B[38;5;241m=\u001B[39m\u001B[38;5;124m\"\u001B[39m\u001B[38;5;124mshift\u001B[39m\u001B[38;5;124m\"\u001B[39m)\n\u001B[1;32m-> 5852\u001B[0m \u001B[38;5;28;01mreturn\u001B[39;00m \u001B[38;5;28;43msuper\u001B[39;49m\u001B[43m(\u001B[49m\u001B[43m)\u001B[49m\u001B[38;5;241;43m.\u001B[39;49m\u001B[43mshift\u001B[49m\u001B[43m(\u001B[49m\n\u001B[0;32m   5853\u001B[0m \u001B[43m    \u001B[49m\u001B[43mperiods\u001B[49m\u001B[38;5;241;43m=\u001B[39;49m\u001B[43mperiods\u001B[49m\u001B[43m,\u001B[49m\u001B[43m \u001B[49m\u001B[43mfreq\u001B[49m\u001B[38;5;241;43m=\u001B[39;49m\u001B[43mfreq\u001B[49m\u001B[43m,\u001B[49m\u001B[43m \u001B[49m\u001B[43maxis\u001B[49m\u001B[38;5;241;43m=\u001B[39;49m\u001B[43maxis\u001B[49m\u001B[43m,\u001B[49m\u001B[43m \u001B[49m\u001B[43mfill_value\u001B[49m\u001B[38;5;241;43m=\u001B[39;49m\u001B[43mfill_value\u001B[49m\n\u001B[0;32m   5854\u001B[0m \u001B[43m\u001B[49m\u001B[43m)\u001B[49m\n",
      "File \u001B[1;32m~\\.virtualenvs\\FINM-33150-W23-p0ffiBII\\Lib\\site-packages\\pandas\\core\\generic.py:10172\u001B[0m, in \u001B[0;36mNDFrame.shift\u001B[1;34m(self, periods, freq, axis, fill_value)\u001B[0m\n\u001B[0;32m  10169\u001B[0m \u001B[38;5;28;01mif\u001B[39;00m freq \u001B[38;5;129;01mis\u001B[39;00m \u001B[38;5;28;01mNone\u001B[39;00m:\n\u001B[0;32m  10170\u001B[0m     \u001B[38;5;66;03m# when freq is None, data is shifted, index is not\u001B[39;00m\n\u001B[0;32m  10171\u001B[0m     axis \u001B[38;5;241m=\u001B[39m \u001B[38;5;28mself\u001B[39m\u001B[38;5;241m.\u001B[39m_get_axis_number(axis)\n\u001B[1;32m> 10172\u001B[0m     new_data \u001B[38;5;241m=\u001B[39m \u001B[38;5;28;43mself\u001B[39;49m\u001B[38;5;241;43m.\u001B[39;49m\u001B[43m_mgr\u001B[49m\u001B[38;5;241;43m.\u001B[39;49m\u001B[43mshift\u001B[49m\u001B[43m(\u001B[49m\n\u001B[0;32m  10173\u001B[0m \u001B[43m        \u001B[49m\u001B[43mperiods\u001B[49m\u001B[38;5;241;43m=\u001B[39;49m\u001B[43mperiods\u001B[49m\u001B[43m,\u001B[49m\u001B[43m \u001B[49m\u001B[43maxis\u001B[49m\u001B[38;5;241;43m=\u001B[39;49m\u001B[43maxis\u001B[49m\u001B[43m,\u001B[49m\u001B[43m \u001B[49m\u001B[43mfill_value\u001B[49m\u001B[38;5;241;43m=\u001B[39;49m\u001B[43mfill_value\u001B[49m\n\u001B[0;32m  10174\u001B[0m \u001B[43m    \u001B[49m\u001B[43m)\u001B[49m\n\u001B[0;32m  10175\u001B[0m     \u001B[38;5;28;01mreturn\u001B[39;00m \u001B[38;5;28mself\u001B[39m\u001B[38;5;241m.\u001B[39m_constructor(new_data)\u001B[38;5;241m.\u001B[39m__finalize__(\u001B[38;5;28mself\u001B[39m, method\u001B[38;5;241m=\u001B[39m\u001B[38;5;124m\"\u001B[39m\u001B[38;5;124mshift\u001B[39m\u001B[38;5;124m\"\u001B[39m)\n\u001B[0;32m  10177\u001B[0m \u001B[38;5;66;03m# when freq is given, index is shifted, data is not\u001B[39;00m\n",
      "File \u001B[1;32m~\\.virtualenvs\\FINM-33150-W23-p0ffiBII\\Lib\\site-packages\\pandas\\core\\internals\\managers.py:431\u001B[0m, in \u001B[0;36mBaseBlockManager.shift\u001B[1;34m(self, periods, axis, fill_value)\u001B[0m\n\u001B[0;32m    428\u001B[0m \u001B[38;5;28;01mif\u001B[39;00m fill_value \u001B[38;5;129;01mis\u001B[39;00m lib\u001B[38;5;241m.\u001B[39mno_default:\n\u001B[0;32m    429\u001B[0m     fill_value \u001B[38;5;241m=\u001B[39m \u001B[38;5;28;01mNone\u001B[39;00m\n\u001B[1;32m--> 431\u001B[0m \u001B[38;5;28;01mreturn\u001B[39;00m \u001B[38;5;28;43mself\u001B[39;49m\u001B[38;5;241;43m.\u001B[39;49m\u001B[43mapply\u001B[49m\u001B[43m(\u001B[49m\u001B[38;5;124;43m\"\u001B[39;49m\u001B[38;5;124;43mshift\u001B[39;49m\u001B[38;5;124;43m\"\u001B[39;49m\u001B[43m,\u001B[49m\u001B[43m \u001B[49m\u001B[43mperiods\u001B[49m\u001B[38;5;241;43m=\u001B[39;49m\u001B[43mperiods\u001B[49m\u001B[43m,\u001B[49m\u001B[43m \u001B[49m\u001B[43maxis\u001B[49m\u001B[38;5;241;43m=\u001B[39;49m\u001B[43maxis\u001B[49m\u001B[43m,\u001B[49m\u001B[43m \u001B[49m\u001B[43mfill_value\u001B[49m\u001B[38;5;241;43m=\u001B[39;49m\u001B[43mfill_value\u001B[49m\u001B[43m)\u001B[49m\n",
      "File \u001B[1;32m~\\.virtualenvs\\FINM-33150-W23-p0ffiBII\\Lib\\site-packages\\pandas\\core\\internals\\managers.py:352\u001B[0m, in \u001B[0;36mBaseBlockManager.apply\u001B[1;34m(self, f, align_keys, ignore_failures, **kwargs)\u001B[0m\n\u001B[0;32m    350\u001B[0m         applied \u001B[38;5;241m=\u001B[39m b\u001B[38;5;241m.\u001B[39mapply(f, \u001B[38;5;241m*\u001B[39m\u001B[38;5;241m*\u001B[39mkwargs)\n\u001B[0;32m    351\u001B[0m     \u001B[38;5;28;01melse\u001B[39;00m:\n\u001B[1;32m--> 352\u001B[0m         applied \u001B[38;5;241m=\u001B[39m \u001B[38;5;28;43mgetattr\u001B[39;49m\u001B[43m(\u001B[49m\u001B[43mb\u001B[49m\u001B[43m,\u001B[49m\u001B[43m \u001B[49m\u001B[43mf\u001B[49m\u001B[43m)\u001B[49m\u001B[43m(\u001B[49m\u001B[38;5;241;43m*\u001B[39;49m\u001B[38;5;241;43m*\u001B[39;49m\u001B[43mkwargs\u001B[49m\u001B[43m)\u001B[49m\n\u001B[0;32m    353\u001B[0m \u001B[38;5;28;01mexcept\u001B[39;00m (\u001B[38;5;167;01mTypeError\u001B[39;00m, \u001B[38;5;167;01mNotImplementedError\u001B[39;00m):\n\u001B[0;32m    354\u001B[0m     \u001B[38;5;28;01mif\u001B[39;00m \u001B[38;5;129;01mnot\u001B[39;00m ignore_failures:\n",
      "File \u001B[1;32m~\\.virtualenvs\\FINM-33150-W23-p0ffiBII\\Lib\\site-packages\\pandas\\core\\internals\\blocks.py:1302\u001B[0m, in \u001B[0;36mBlock.shift\u001B[1;34m(self, periods, axis, fill_value)\u001B[0m\n\u001B[0;32m   1298\u001B[0m     casted \u001B[38;5;241m=\u001B[39m np_can_hold_element(\n\u001B[0;32m   1299\u001B[0m         \u001B[38;5;28mself\u001B[39m\u001B[38;5;241m.\u001B[39mdtype, fill_value  \u001B[38;5;66;03m# type: ignore[arg-type]\u001B[39;00m\n\u001B[0;32m   1300\u001B[0m     )\n\u001B[0;32m   1301\u001B[0m \u001B[38;5;28;01mexcept\u001B[39;00m LossySetitemError:\n\u001B[1;32m-> 1302\u001B[0m     nb \u001B[38;5;241m=\u001B[39m \u001B[38;5;28;43mself\u001B[39;49m\u001B[38;5;241;43m.\u001B[39;49m\u001B[43mcoerce_to_target_dtype\u001B[49m\u001B[43m(\u001B[49m\u001B[43mfill_value\u001B[49m\u001B[43m)\u001B[49m\n\u001B[0;32m   1303\u001B[0m     \u001B[38;5;28;01mreturn\u001B[39;00m nb\u001B[38;5;241m.\u001B[39mshift(periods, axis\u001B[38;5;241m=\u001B[39maxis, fill_value\u001B[38;5;241m=\u001B[39mfill_value)\n\u001B[0;32m   1305\u001B[0m \u001B[38;5;28;01melse\u001B[39;00m:\n",
      "File \u001B[1;32m~\\.virtualenvs\\FINM-33150-W23-p0ffiBII\\Lib\\site-packages\\pandas\\core\\internals\\blocks.py:450\u001B[0m, in \u001B[0;36mBlock.coerce_to_target_dtype\u001B[1;34m(self, other)\u001B[0m\n\u001B[0;32m    441\u001B[0m \u001B[38;5;250m\u001B[39m\u001B[38;5;124;03m\"\"\"\u001B[39;00m\n\u001B[0;32m    442\u001B[0m \u001B[38;5;124;03mcoerce the current block to a dtype compat for other\u001B[39;00m\n\u001B[0;32m    443\u001B[0m \u001B[38;5;124;03mwe will return a block, possibly object, and not raise\u001B[39;00m\n\u001B[1;32m   (...)\u001B[0m\n\u001B[0;32m    446\u001B[0m \u001B[38;5;124;03mand will receive the same block\u001B[39;00m\n\u001B[0;32m    447\u001B[0m \u001B[38;5;124;03m\"\"\"\u001B[39;00m\n\u001B[0;32m    448\u001B[0m new_dtype \u001B[38;5;241m=\u001B[39m find_result_type(\u001B[38;5;28mself\u001B[39m\u001B[38;5;241m.\u001B[39mvalues, other)\n\u001B[1;32m--> 450\u001B[0m \u001B[38;5;28;01mreturn\u001B[39;00m \u001B[38;5;28;43mself\u001B[39;49m\u001B[38;5;241;43m.\u001B[39;49m\u001B[43mastype\u001B[49m\u001B[43m(\u001B[49m\u001B[43mnew_dtype\u001B[49m\u001B[43m,\u001B[49m\u001B[43m \u001B[49m\u001B[43mcopy\u001B[49m\u001B[38;5;241;43m=\u001B[39;49m\u001B[38;5;28;43;01mFalse\u001B[39;49;00m\u001B[43m)\u001B[49m\n",
      "File \u001B[1;32m~\\.virtualenvs\\FINM-33150-W23-p0ffiBII\\Lib\\site-packages\\pandas\\core\\internals\\blocks.py:526\u001B[0m, in \u001B[0;36mBlock.astype\u001B[1;34m(self, dtype, copy, errors)\u001B[0m\n\u001B[0;32m    508\u001B[0m \u001B[38;5;250m\u001B[39m\u001B[38;5;124;03m\"\"\"\u001B[39;00m\n\u001B[0;32m    509\u001B[0m \u001B[38;5;124;03mCoerce to the new dtype.\u001B[39;00m\n\u001B[0;32m    510\u001B[0m \n\u001B[1;32m   (...)\u001B[0m\n\u001B[0;32m    522\u001B[0m \u001B[38;5;124;03mBlock\u001B[39;00m\n\u001B[0;32m    523\u001B[0m \u001B[38;5;124;03m\"\"\"\u001B[39;00m\n\u001B[0;32m    524\u001B[0m values \u001B[38;5;241m=\u001B[39m \u001B[38;5;28mself\u001B[39m\u001B[38;5;241m.\u001B[39mvalues\n\u001B[1;32m--> 526\u001B[0m new_values \u001B[38;5;241m=\u001B[39m \u001B[43mastype_array_safe\u001B[49m\u001B[43m(\u001B[49m\u001B[43mvalues\u001B[49m\u001B[43m,\u001B[49m\u001B[43m \u001B[49m\u001B[43mdtype\u001B[49m\u001B[43m,\u001B[49m\u001B[43m \u001B[49m\u001B[43mcopy\u001B[49m\u001B[38;5;241;43m=\u001B[39;49m\u001B[43mcopy\u001B[49m\u001B[43m,\u001B[49m\u001B[43m \u001B[49m\u001B[43merrors\u001B[49m\u001B[38;5;241;43m=\u001B[39;49m\u001B[43merrors\u001B[49m\u001B[43m)\u001B[49m\n\u001B[0;32m    528\u001B[0m new_values \u001B[38;5;241m=\u001B[39m maybe_coerce_values(new_values)\n\u001B[0;32m    529\u001B[0m newb \u001B[38;5;241m=\u001B[39m \u001B[38;5;28mself\u001B[39m\u001B[38;5;241m.\u001B[39mmake_block(new_values)\n",
      "File \u001B[1;32m~\\.virtualenvs\\FINM-33150-W23-p0ffiBII\\Lib\\site-packages\\pandas\\core\\dtypes\\astype.py:299\u001B[0m, in \u001B[0;36mastype_array_safe\u001B[1;34m(values, dtype, copy, errors)\u001B[0m\n\u001B[0;32m    296\u001B[0m     \u001B[38;5;28;01mreturn\u001B[39;00m values\u001B[38;5;241m.\u001B[39mcopy()\n\u001B[0;32m    298\u001B[0m \u001B[38;5;28;01mtry\u001B[39;00m:\n\u001B[1;32m--> 299\u001B[0m     new_values \u001B[38;5;241m=\u001B[39m \u001B[43mastype_array\u001B[49m\u001B[43m(\u001B[49m\u001B[43mvalues\u001B[49m\u001B[43m,\u001B[49m\u001B[43m \u001B[49m\u001B[43mdtype\u001B[49m\u001B[43m,\u001B[49m\u001B[43m \u001B[49m\u001B[43mcopy\u001B[49m\u001B[38;5;241;43m=\u001B[39;49m\u001B[43mcopy\u001B[49m\u001B[43m)\u001B[49m\n\u001B[0;32m    300\u001B[0m \u001B[38;5;28;01mexcept\u001B[39;00m (\u001B[38;5;167;01mValueError\u001B[39;00m, \u001B[38;5;167;01mTypeError\u001B[39;00m):\n\u001B[0;32m    301\u001B[0m     \u001B[38;5;66;03m# e.g. astype_nansafe can fail on object-dtype of strings\u001B[39;00m\n\u001B[0;32m    302\u001B[0m     \u001B[38;5;66;03m#  trying to convert to float\u001B[39;00m\n\u001B[0;32m    303\u001B[0m     \u001B[38;5;28;01mif\u001B[39;00m errors \u001B[38;5;241m==\u001B[39m \u001B[38;5;124m\"\u001B[39m\u001B[38;5;124mignore\u001B[39m\u001B[38;5;124m\"\u001B[39m:\n",
      "File \u001B[1;32m~\\.virtualenvs\\FINM-33150-W23-p0ffiBII\\Lib\\site-packages\\pandas\\core\\dtypes\\astype.py:230\u001B[0m, in \u001B[0;36mastype_array\u001B[1;34m(values, dtype, copy)\u001B[0m\n\u001B[0;32m    227\u001B[0m     values \u001B[38;5;241m=\u001B[39m values\u001B[38;5;241m.\u001B[39mastype(dtype, copy\u001B[38;5;241m=\u001B[39mcopy)\n\u001B[0;32m    229\u001B[0m \u001B[38;5;28;01melse\u001B[39;00m:\n\u001B[1;32m--> 230\u001B[0m     values \u001B[38;5;241m=\u001B[39m \u001B[43mastype_nansafe\u001B[49m\u001B[43m(\u001B[49m\u001B[43mvalues\u001B[49m\u001B[43m,\u001B[49m\u001B[43m \u001B[49m\u001B[43mdtype\u001B[49m\u001B[43m,\u001B[49m\u001B[43m \u001B[49m\u001B[43mcopy\u001B[49m\u001B[38;5;241;43m=\u001B[39;49m\u001B[43mcopy\u001B[49m\u001B[43m)\u001B[49m\n\u001B[0;32m    232\u001B[0m \u001B[38;5;66;03m# in pandas we don't store numpy str dtypes, so convert to object\u001B[39;00m\n\u001B[0;32m    233\u001B[0m \u001B[38;5;28;01mif\u001B[39;00m \u001B[38;5;28misinstance\u001B[39m(dtype, np\u001B[38;5;241m.\u001B[39mdtype) \u001B[38;5;129;01mand\u001B[39;00m \u001B[38;5;28missubclass\u001B[39m(values\u001B[38;5;241m.\u001B[39mdtype\u001B[38;5;241m.\u001B[39mtype, \u001B[38;5;28mstr\u001B[39m):\n",
      "File \u001B[1;32m~\\.virtualenvs\\FINM-33150-W23-p0ffiBII\\Lib\\site-packages\\pandas\\core\\dtypes\\astype.py:172\u001B[0m, in \u001B[0;36mastype_nansafe\u001B[1;34m(arr, dtype, copy, skipna)\u001B[0m\n\u001B[0;32m    168\u001B[0m \u001B[38;5;28;01mif\u001B[39;00m copy \u001B[38;5;129;01mor\u001B[39;00m is_object_dtype(arr\u001B[38;5;241m.\u001B[39mdtype) \u001B[38;5;129;01mor\u001B[39;00m is_object_dtype(dtype):\n\u001B[0;32m    169\u001B[0m     \u001B[38;5;66;03m# Explicit copy, or required since NumPy can't view from / to object.\u001B[39;00m\n\u001B[0;32m    170\u001B[0m     \u001B[38;5;28;01mreturn\u001B[39;00m arr\u001B[38;5;241m.\u001B[39mastype(dtype, copy\u001B[38;5;241m=\u001B[39m\u001B[38;5;28;01mTrue\u001B[39;00m)\n\u001B[1;32m--> 172\u001B[0m \u001B[38;5;28;01mreturn\u001B[39;00m \u001B[43marr\u001B[49m\u001B[38;5;241;43m.\u001B[39;49m\u001B[43mastype\u001B[49m\u001B[43m(\u001B[49m\u001B[43mdtype\u001B[49m\u001B[43m,\u001B[49m\u001B[43m \u001B[49m\u001B[43mcopy\u001B[49m\u001B[38;5;241;43m=\u001B[39;49m\u001B[43mcopy\u001B[49m\u001B[43m)\u001B[49m\n",
      "\u001B[1;31mKeyboardInterrupt\u001B[0m: "
     ]
    }
   ],
   "source": [
    "accumulation_analytics(BTC_USD_2021[0], 10000000000)"
   ],
   "metadata": {
    "collapsed": false
   }
  },
  {
   "cell_type": "markdown",
   "source": [
    "<h2> 3. Analysis </h2>"
   ],
   "metadata": {
    "collapsed": false
   }
  },
  {
   "cell_type": "code",
   "execution_count": null,
   "outputs": [],
   "source": [],
   "metadata": {
    "collapsed": false
   }
  },
  {
   "cell_type": "markdown",
   "source": [],
   "metadata": {
    "collapsed": false
   }
  }
 ],
 "metadata": {
  "kernelspec": {
   "display_name": "Python 3",
   "language": "python",
   "name": "python3"
  },
  "language_info": {
   "codemirror_mode": {
    "name": "ipython",
    "version": 2
   },
   "file_extension": ".py",
   "mimetype": "text/x-python",
   "name": "python",
   "nbconvert_exporter": "python",
   "pygments_lexer": "ipython2",
   "version": "2.7.6"
  }
 },
 "nbformat": 4,
 "nbformat_minor": 0
}
