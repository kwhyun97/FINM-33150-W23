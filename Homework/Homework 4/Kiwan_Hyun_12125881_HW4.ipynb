{
 "cells": [
  {
   "cell_type": "markdown",
   "source": [
    "<left>FINM 33150 - Quantitative Trading Strategies</left>\n",
    "<left>Winter 2023</left>\n",
    "<br>\n",
    "<h1><center> Homework 4: Accumulation Opportunity </center></h1>\n",
    "<center>Due - 23:00 [CST] February 2nd, 2023</center>\n",
    "<br>\n",
    "<h3>Ki Hyun</h3>\n",
    "<h3>Student ID: 12125881</h3>"
   ],
   "metadata": {
    "collapsed": false
   }
  },
  {
   "cell_type": "markdown",
   "source": [
    "<h5> Imports </h5>"
   ],
   "metadata": {
    "collapsed": false
   }
  },
  {
   "cell_type": "code",
   "execution_count": 1,
   "outputs": [],
   "source": [
    "%matplotlib inline"
   ],
   "metadata": {
    "collapsed": false
   }
  },
  {
   "cell_type": "code",
   "execution_count": 2,
   "metadata": {
    "collapsed": true
   },
   "outputs": [],
   "source": [
    "import os\n",
    "import datetime\n",
    "import pickle\n",
    "import matplotlib.pyplot as plt\n",
    "import matplotlib.dates as mdates\n",
    "import pandas as pd\n",
    "import numpy as np\n",
    "import scipy as sp\n",
    "import seaborn as sns\n",
    "from enum import Enum"
   ]
  },
  {
   "cell_type": "markdown",
   "source": [
    "<h5> Constants </h5>"
   ],
   "metadata": {
    "collapsed": false
   }
  },
  {
   "cell_type": "code",
   "execution_count": 3,
   "outputs": [],
   "source": [
    "# constants needed for grabbing and cleaning data\n",
    "data_home_dir = \"C:\\\\Users\\\\kwhyu\\\\OneDrive - The University of Chicago\\\\2023-1 Winter\\\\FINM \" \\\n",
    "                \"33150\\\\FINM-33150-W23\\\\Data\\\\Crypto\\\\\"\n",
    "pairs = ['BTC-USD', 'ETH-USD', 'ETH-BTC']\n",
    "years = ['2021', '2022', '2023']\n",
    "# constants needed for trading simulation\n",
    "reaction_time = int(0.1 * (10 ** 9)) # in nano seconds\n",
    "currency_crypto_cost = 50 * (10 ** (-4))\n",
    "crypto_crypto_cost = 10 * (10 ** (-4))\n",
    "p = 0.05 # 5% participation rate\n",
    "one_bitcoin = 10**9"
   ],
   "metadata": {
    "collapsed": false
   }
  },
  {
   "cell_type": "markdown",
   "source": [
    "<h5> Helper Functions </h5>"
   ],
   "metadata": {
    "collapsed": false
   }
  },
  {
   "cell_type": "code",
   "execution_count": 4,
   "outputs": [],
   "source": [
    "class Order(Enum):\n",
    "    Sell = -1\n",
    "    Buy = 1"
   ],
   "metadata": {
    "collapsed": false
   }
  },
  {
   "cell_type": "code",
   "execution_count": 5,
   "outputs": [],
   "source": [
    "def read_data(pair, year):\n",
    "    global data_home_dir\n",
    "    # creating directory for the pair and year\n",
    "    book_dir = f'book_narrow_{pair}_{year}.delim.gz'\n",
    "    trades_dir = f'trades_narrow_{pair}_{year}.delim.gz'\n",
    "    # retrieving book data:\n",
    "    print(\">>> Retrieving Book data for \", pair, \" for the year \", year, \"...\")\n",
    "    try:\n",
    "        book = pd.read_table(os.path.join(data_home_dir, book_dir))\n",
    "        print(\">>> Success!\")\n",
    "    except:\n",
    "        print(\">>> Book data for \", pair, \" for the year \", year, \" does not exist\")\n",
    "        book = None\n",
    "    # retrieving trades data:\n",
    "    print(\">>> Retrieving Trades data for \", pair, \" for the year \", year, \"...\")\n",
    "    try:\n",
    "        trades = pd.read_table(os.path.join(data_home_dir, trades_dir))\n",
    "        print(\">>> Success!\")\n",
    "    except:\n",
    "        print(\">>> Trades data for \", pair, \" for the year \", year, \" does not exist\")\n",
    "        return book, None, pair, year, None\n",
    "    # indexing trades data by Time and Nano second\n",
    "    trades['Time'] = (trades['timestamp_utc_nanoseconds'] / 10**9).apply(int)\\\n",
    "        .apply(lambda x: datetime.datetime.fromtimestamp(x))\n",
    "    trades['Nano second'] = trades['timestamp_utc_nanoseconds'] % 10**9\n",
    "    trades = trades.set_index(['Time', 'Nano second']).sort_index().drop(columns = {'received_utc_nanoseconds'})\n",
    "    # sorting into buy and sell data\n",
    "    sell = trades[trades['Side'] < 0]\n",
    "    buy = trades[trades['Side'] > 0]\n",
    "\n",
    "    return book, buy, pair, year, sell"
   ],
   "metadata": {
    "collapsed": false
   }
  },
  {
   "cell_type": "code",
   "execution_count": 6,
   "outputs": [],
   "source": [
    "def clean_trading_data(raw_df, side, reaction_time):\n",
    "    df = raw_df[side.value].copy()\n",
    "    pair = raw_df[2]\n",
    "    year = raw_df[3]\n",
    "    if side == Order.Buy:\n",
    "        detail = \"Buy\"\n",
    "    else:\n",
    "        detail = \"Sell\"\n",
    "    print(\">>> Cleaning\", pair, \"for the year\", year, detail, \"Trades data for VWAP Algorithm based on reaction time\",\n",
    "          reaction_time/(10**9), \" seconds...\")\n",
    "    df['hold_time_nanoseconds'] = (df['timestamp_utc_nanoseconds'].shift(-1).fillna(method = 'ffill') -\n",
    "                                   df['timestamp_utc_nanoseconds']).apply(int)\n",
    "    df = df.drop(columns = {'timestamp_utc_nanoseconds', 'Side'})\n",
    "    df = df[df['hold_time_nanoseconds'] > 0]\n",
    "\n",
    "    temp_l = []\n",
    "    interval = int(0)\n",
    "    for trade in df.index:\n",
    "        interval += df.loc[trade, 'hold_time_nanoseconds']\n",
    "        if interval >= reaction_time:\n",
    "            temp_l.append(True)\n",
    "            interval = int(0)\n",
    "        else:\n",
    "            temp_l.append(False)\n",
    "    df['qualify'] = temp_l\n",
    "    print(\">>> Success!\")\n",
    "    return df"
   ],
   "metadata": {
    "collapsed": false
   }
  },
  {
   "cell_type": "code",
   "execution_count": 7,
   "outputs": [],
   "source": [
    "def data_factory(pairs, years, avoid_file_load = False):\n",
    "    if not avoid_file_load:\n",
    "        dir = r'./data/full_data.pkl'\n",
    "        with open(dir, 'rb') as f:\n",
    "            try:\n",
    "                ret_dict = pickle.load(f)\n",
    "                print(\">>> Found data...\")\n",
    "                return ret_dict\n",
    "            except:\n",
    "                print(\">>> No data found\")\n",
    "                print(\">>> Proceeding to compute the data...\")\n",
    "\n",
    "    global reaction_time\n",
    "    ret_dict = {}\n",
    "    for pair in pairs:\n",
    "        for year in years:\n",
    "            raw_df = read_data(pair, year)\n",
    "            if raw_df[1] is None:\n",
    "                buy = None\n",
    "                sell = None\n",
    "            else:\n",
    "                buy = clean_trading_data(raw_df, Order.Buy, reaction_time)\n",
    "                sell = clean_trading_data(raw_df, Order.Sell, reaction_time)\n",
    "\n",
    "            ret_dict[(pair, year)] = [raw_df[0], buy, sell]\n",
    "\n",
    "    if not avoid_file_load:\n",
    "        dir = r'./data/full_data.pkl'\n",
    "        with open(dir, 'wb') as f:\n",
    "            pickle.dump(ret_dict, f)\n",
    "\n",
    "    return ret_dict"
   ],
   "metadata": {
    "collapsed": false
   }
  },
  {
   "cell_type": "code",
   "execution_count": 8,
   "outputs": [],
   "source": [
    "def VWAP_participation(df_cleaned, Q, p, start_time,\n",
    "                       side, transaction_cost):\n",
    "    df = df_cleaned.loc[start_time:].copy()\n",
    "\n",
    "    if side == Order.Buy:\n",
    "        f = False\n",
    "    else:\n",
    "        f = True\n",
    "\n",
    "    accumulated = 0\n",
    "    indexes = df[df['qualify']].index\n",
    "    i = 0\n",
    "    ret_df = {'datetime': [],\n",
    "              'Nano seconds': [],\n",
    "              'PriceMillionths': [],\n",
    "              'SizeBillionths': []}\n",
    "\n",
    "    while(accumulated < Q and i < len(indexes)):\n",
    "        if i == 0:\n",
    "            temp = df.loc[:indexes[i]].sort_values(by = ['PriceMillionths'], ascending = f).iloc[0]\n",
    "        else:\n",
    "            temp = df.loc[indexes[i-1]:indexes[i]].iloc[1:].sort_values(by = ['PriceMillionths'], ascending = f).iloc[0]\n",
    "\n",
    "        ret_df['datetime'].append(temp.name[0])\n",
    "        ret_df['Nano seconds'].append(temp.name[1])\n",
    "        ret_df['PriceMillionths'].append(temp['PriceMillionths'])\n",
    "        ret_df['SizeBillionths'].append(temp['SizeBillionths'] * p)\n",
    "\n",
    "        accumulated += temp['SizeBillionths'] * p\n",
    "        i += 1\n",
    "\n",
    "    ret_df = pd.DataFrame(ret_df).set_index(['datetime', 'Nano seconds'])\n",
    "    ret_df['NotionalMillionths'] = ret_df['PriceMillionths'] * ret_df['SizeBillionths'] / (10**9)\n",
    "    ret_df['TradingCostsMillionths'] = ret_df['NotionalMillionths'] * transaction_cost\n",
    "    ret_df['VWAPMillionths'] = (ret_df['NotionalMillionths'].cumsum() / ret_df['SizeBillionths'].cumsum() * (10**9))\\\n",
    "        .apply(int)\n",
    "\n",
    "    return ret_df"
   ],
   "metadata": {
    "collapsed": false
   }
  },
  {
   "cell_type": "code",
   "execution_count": 9,
   "outputs": [],
   "source": [
    "def total_participation_opportunities(full_dict, p, currency_crypto_cost, crypto_crypto_cost):\n",
    "\n",
    "    for pair, year in full_dict.keys():\n",
    "        if pair == 'ETH-BTC':\n",
    "            transaction_cost = crypto_crypto_cost\n",
    "        else:\n",
    "            transaction_cost = currency_crypto_cost\n",
    "        df_Buy = full_dict[(pair, year)][Order.Buy.value]\n",
    "        dir = r'./data/' + pair + '_' + year + '_total_buy_opportunities.csv'\n",
    "        if os.path.exists(dir):\n",
    "            print('>>>', dir, 'in data file')\n",
    "        else:\n",
    "            print('>>>', dir, 'not in data file')\n",
    "            print('>>> Computing Data...')\n",
    "            VWAP_participation(df_Buy, np.infty, p, df_Buy.index[0][0], Order.Buy, transaction_cost).to_csv(dir)\n",
    "            print('>>> Success!')\n",
    "        df_Sell = full_dict[(pair, year)][Order.Sell.value]\n",
    "        dir = r'./data/' + pair + '_' + year + '_total_sell_opportunities.csv'\n",
    "        if os.path.exists(dir):\n",
    "            print(dir, 'in data file')\n",
    "        else:\n",
    "            print('>>>', dir, 'not in data file')\n",
    "            print('>>> Computing Data...')\n",
    "            VWAP_participation(df_Sell, np.infty, p, df_Sell.index[0][0], Order.Sell, transaction_cost).to_csv(dir)\n",
    "            print('>>> Success!')"
   ],
   "metadata": {
    "collapsed": false
   }
  },
  {
   "cell_type": "code",
   "execution_count": 10,
   "outputs": [],
   "source": [
    "def read_pair_data(pair, year):\n",
    "    # buy data\n",
    "    dir_buy = r'./data/' + pair + '_' + year + '_total_buy_opportunities.csv'\n",
    "    buy_df = pd.read_csv(dir_buy)\n",
    "    buy_df.datetime = pd.to_datetime(buy_df.datetime)\n",
    "    buy_df = buy_df.set_index(['datetime', 'Nano seconds'])\n",
    "    # sell data\n",
    "    dir_sell = r'./data/' + pair + '_' + year + '_total_sell_opportunities.csv'\n",
    "    sell_df = pd.read_csv(dir_sell)\n",
    "    sell_df.datetime = pd.to_datetime(sell_df.datetime)\n",
    "    sell_df = sell_df.set_index(['datetime', 'Nano seconds'])\n",
    "    return buy_df, sell_df"
   ],
   "metadata": {
    "collapsed": false
   }
  },
  {
   "cell_type": "code",
   "execution_count": 11,
   "outputs": [],
   "source": [
    "def accumulation_analytics(dfs, Q):\n",
    "    # copying original data\n",
    "    df = dfs.copy()\n",
    "    # creating cumulative sum data\n",
    "    df_cumulative = df.copy()\n",
    "    df_cumulative['SizeBillionths'] = df_cumulative['SizeBillionths'].cumsum().shift().fillna(0.0)\n",
    "    df_cumulative['NotionalMillionths'] = df_cumulative['NotionalMillionths'].cumsum().shift().fillna(0.0)\n",
    "    df_cumulative['TradingCostsMillionths'] = df_cumulative['TradingCostsMillionths'].cumsum().shift().fillna(0.0)\n",
    "    # Q based cutoffs\n",
    "    df_cumulative['Q_count'] = (df_cumulative['SizeBillionths'] / Q).apply(int) + 1\n",
    "    df_cumulative['Starters'] = df_cumulative['Q_count'] - df_cumulative['Q_count'].shift(2).fillna(0)\n",
    "    df_cumulative['Q_wise'] = df_cumulative['SizeBillionths'] - df_cumulative['Q_count'].shift().fillna(1) * Q\n",
    "    # arrival times data\n",
    "    df_arrivals = df_cumulative[(df_cumulative['Starters'] > 0) & (df_cumulative['Q_wise'] < 0)]\n",
    "    df_arrivals = df_arrivals.drop(df_arrivals.index[1], axis = 0).reset_index()\n",
    "    df_arrivals.rename(columns = {'datetime': 'Start Time',\n",
    "                                  'Nano seconds': 'Start Nano',\n",
    "                                  'PriceMillionths': 'Arrival Price Millionths',\n",
    "                                  'SizeBillionths': 'bought size',\n",
    "                                  'NotionalMillionths': 'bought notional',\n",
    "                                  'TradingCostsMillionths': 'bought costs',\n",
    "                                  'VWAPMillionths': 'Arrival VWAP'},\n",
    "                       inplace = True)\n",
    "    df_arrivals = df_arrivals.drop(columns = ['Q_count', 'Starters', 'Q_wise'])\n",
    "    # end points data\n",
    "    df_endpoints = df_cumulative[(df_cumulative['Starters'] > 0) & (df_cumulative['Q_wise'] > 0)].reset_index()\n",
    "    df_endpoints.rename(columns = {'datetime': 'End Time',\n",
    "                                  'Nano seconds': 'End Nano',\n",
    "                                  'SizeBillionths': 'Accumulated Billionth',\n",
    "                                  'NotionalMillionths': 'Notional Millionth',\n",
    "                                  'TradingCostsMillionths': 'Transaction Cost Millionth',\n",
    "                                  'VWAPMillionths': 'VWAP Millionths'},\n",
    "                       inplace = True)\n",
    "    df_endpoints = df_endpoints.drop(columns = ['Q_count', 'Starters', 'Q_wise'])\n",
    "    # merging for singular transaction\n",
    "    ret_df = df_arrivals.merge(df_endpoints, how = 'inner', left_index = True, right_index = True)\n",
    "    # calculating analytic statistics\n",
    "    ## Accumulated\n",
    "    ret_df['Accumulated Billionth'] = ret_df['Accumulated Billionth'] - ret_df['bought size']\n",
    "    ## Notional\n",
    "    ret_df['Notional Millionth'] = ret_df['Notional Millionth'] - ret_df['bought notional']\n",
    "    ## VWAP\n",
    "    ret_df['VWAP Millionths'] = ret_df['Notional Millionth'] / ret_df['Accumulated Billionth'] * (10**9)\n",
    "    ret_df['VWAP Millionths'] = ret_df['VWAP Millionths'].apply(int)\n",
    "    ## Transaction cost\n",
    "    ret_df['Transaction Cost Millionth'] = ret_df['Transaction Cost Millionth'] - ret_df['bought costs']\n",
    "    ## Duration\n",
    "    ret_df['Approximate Duration Time'] = ret_df['End Time'] - ret_df['Start Time']\n",
    "    ret_df['Duration Nano'] = ret_df['End Nano'] - ret_df['Start Nano']\n",
    "    ret_df['Duration Nano'] = (ret_df['Approximate Duration Time'].apply(datetime.timedelta.total_seconds)* 10**9 +\n",
    "                               ret_df['Duration Nano']).apply(int)\n",
    "    ## Ratios\n",
    "    ret_df[r'$\\frac{Notional}{Time}$'] = (ret_df['Notional Millionth']/ ret_df['Duration Nano']) * 10**3\n",
    "    ret_df[r'$\\frac{Accumulation}{Time}$'] = ret_df['Accumulated Billionth'] / ret_df['Duration Nano']\n",
    "    # dropping unnecessary columns\n",
    "    ret_df = ret_df.drop(columns = ['bought size', 'bought notional', 'bought costs', 'Arrival VWAP',\n",
    "                                    'PriceMillionths'])\n",
    "\n",
    "    return ret_df"
   ],
   "metadata": {
    "collapsed": false
   }
  },
  {
   "cell_type": "code",
   "execution_count": 12,
   "outputs": [],
   "source": [
    "def report_summary(df, side, year):\n",
    "    if side == Order.Buy:\n",
    "        phrase = [\"accumulated\", \"depletion\", \"accumulation\", \"accumulating\"]\n",
    "    else:\n",
    "        phrase = [\"liquidated\", \"accumulation\", \"liquidation\", \"liquidating\"]\n",
    "\n",
    "    mu = df[r'$\\frac{Accumulation}{Time}$'].mean()\n",
    "    sigma = df[r'$\\frac{Accumulation}{Time}$'].std()\n",
    "    stat = (1/(15*60) - mu)/sigma\n",
    "\n",
    "    print(\"There are total of\", len(df), \"transactions in the year\", year, \"data where 1 Bitcoin was\", phrase[0])\n",
    "    print(\"The average duration time was\", df['Duration Nano'].mean()/(60*10**9), \"minutes\")\n",
    "    print(\"The average VWAP for the transaction was\", df['VWAP Millionths'].mean()/(10**6), \"US Dollars\")\n",
    "    print(\"The average transaction cost was\", df['Transaction Cost Millionth'].mean()/(10**6), \"US Dollars\")\n",
    "    print(\"The average\", phrase[1], \"of capital for the transaction was\",\n",
    "          df[r'$\\frac{Notional}{Time}$'].mean(), \"US Dollars per second\")\n",
    "    print(\"The average\", phrase[2], \"rate was\", mu, \"Bitcoins per second\")\n",
    "    print(\"The standard deviation of\", phrase[2], \"rate was\", sigma, \"Bitcoins per second\")\n",
    "    print(\"Using Normal Approximation, the likelihood of\", phrase[3], \"1 Bitcoin under 15 minutes is approximately\",\n",
    "          ((1 - sp.stats.norm.cdf(stat)) * 100).round(4), \"%\")\n",
    "\n",
    "    return None"
   ],
   "metadata": {
    "collapsed": false
   }
  },
  {
   "cell_type": "markdown",
   "source": [
    "<h2> 2. Data </h2>"
   ],
   "metadata": {
    "collapsed": false
   }
  },
  {
   "cell_type": "markdown",
   "source": [
    "<h3> 2-1. Raw Data </h3>"
   ],
   "metadata": {
    "collapsed": false
   }
  },
  {
   "cell_type": "markdown",
   "source": [
    "The raw data for this analysis was given by Dr. Boonstra"
   ],
   "metadata": {
    "collapsed": false
   }
  },
  {
   "cell_type": "markdown",
   "source": [
    "<h3> 2-2. Data Processing </h3>"
   ],
   "metadata": {
    "collapsed": false
   }
  },
  {
   "cell_type": "code",
   "execution_count": 13,
   "outputs": [
    {
     "name": "stdout",
     "output_type": "stream",
     "text": [
      ">>> Found data...\n"
     ]
    }
   ],
   "source": [
    "# reading or computing qualifying trades from the raw data\n",
    "data_dict = data_factory(pairs, years)"
   ],
   "metadata": {
    "collapsed": false
   }
  },
  {
   "cell_type": "code",
   "execution_count": 14,
   "outputs": [
    {
     "name": "stdout",
     "output_type": "stream",
     "text": [
      ">>> ./data/BTC-USD_2021_total_buy_opportunities.csv in data file\n",
      "./data/BTC-USD_2021_total_sell_opportunities.csv in data file\n",
      ">>> ./data/BTC-USD_2022_total_buy_opportunities.csv in data file\n",
      "./data/BTC-USD_2022_total_sell_opportunities.csv in data file\n",
      ">>> ./data/BTC-USD_2023_total_buy_opportunities.csv in data file\n",
      "./data/BTC-USD_2023_total_sell_opportunities.csv in data file\n",
      ">>> ./data/ETH-USD_2021_total_buy_opportunities.csv in data file\n",
      "./data/ETH-USD_2021_total_sell_opportunities.csv in data file\n",
      ">>> ./data/ETH-USD_2022_total_buy_opportunities.csv in data file\n",
      "./data/ETH-USD_2022_total_sell_opportunities.csv in data file\n",
      ">>> ./data/ETH-USD_2023_total_buy_opportunities.csv in data file\n",
      "./data/ETH-USD_2023_total_sell_opportunities.csv in data file\n",
      ">>> ./data/ETH-BTC_2021_total_buy_opportunities.csv in data file\n",
      "./data/ETH-BTC_2021_total_sell_opportunities.csv in data file\n",
      ">>> ./data/ETH-BTC_2022_total_buy_opportunities.csv in data file\n",
      "./data/ETH-BTC_2022_total_sell_opportunities.csv in data file\n",
      ">>> ./data/ETH-BTC_2023_total_buy_opportunities.csv in data file\n",
      "./data/ETH-BTC_2023_total_sell_opportunities.csv in data file\n"
     ]
    }
   ],
   "source": [
    "# reading or computing and saving total accumulation opportunities data\n",
    "total_participation_opportunities(data_dict, p, currency_crypto_cost, crypto_crypto_cost)"
   ],
   "metadata": {
    "collapsed": false
   }
  },
  {
   "cell_type": "code",
   "execution_count": 15,
   "outputs": [],
   "source": [
    "BTC_USD_2021 = read_pair_data('BTC-USD', '2021')\n",
    "BTC_USD_2022 = read_pair_data('BTC-USD', '2022')\n",
    "BTC_USD_2023 = read_pair_data('BTC-USD', '2023')"
   ],
   "metadata": {
    "collapsed": false
   }
  },
  {
   "cell_type": "markdown",
   "source": [
    "The first step of data processing was to clean the raw data to identify qualifying orders.\n",
    "By qualifying orders, it refers to buy or sell orders that are not too big and orders that do not happen too fast.\n",
    "\n",
    "Orders that are too big would clear multiple levels on the other side (bid book for buy orders and ask book for sell\n",
    "orders). This could be identified in the raw data through transactions that are precisely 0 nano-seconds apart. The\n",
    "last orders of the series of orders that were 0 nano-seconds apart were identified as qualifying orders.\n",
    "\n",
    "Orders that are too fast would happen within the reaction time. If there are multiple orders happening within the\n",
    "reaction time, the conservative assumption was made such that one would have only been able to participate in the worst\n",
    "of those orders (i.e., highest price for buy and lowest price for sell). The worst orders in each series of orders that\n",
    "happened within the reaction time were identified as qualifying orders.\n",
    "\n",
    "The reaction time was set to 0.1 seconds and the raw data was initially cleaned for these qualifying orders.\n",
    "Qualifying orders were filtered for each of the buy and sell side of the 3 pairs across 3 years (2021 - 2023)\n",
    "Compiling the data took approximately 20 minutes.\n",
    "\n",
    "The second step of the data processing was to simulate the VWAP participation.\n",
    "For each qualifying orders, one was assumed to have participated with the participation rate ($p$) of the order's size.\n",
    "For the VWAP participation algorithm, the target quantity ($Q$), start time ($\\tau_s$), and participation rate ($p$)\n",
    "were set as parameters. The algorithm will return a dataframe of participated trades either until the target quantity\n",
    "($Q$) as been reached, or until the algorithm runs through all the qualifying orders.\n",
    "\n",
    "The last step of the data processing was to identify all the possible participation trades for a given year for both\n",
    "buy and sell sides across three different pairs. For each pair and year, the cleaned data (only including qualifying\n",
    "orders) was passed on to the VWAP participation algorithm with the target quantity set as infinity ($Q = \\infty$) so\n",
    "that the algorithm runs through all the qualifying orders.\n",
    "Compiling the data took approximately 4 hours.\n",
    "\n",
    "The transaction fees for each participation, in terms of the notional trade amount, were 50 basis points (0.5%) for\n",
    "transactions between crypto-tokens and traditional currencies; 10 basis points (0.1%) for transactions between\n",
    "crypto-tokens."
   ],
   "metadata": {
    "collapsed": false
   }
  },
  {
   "cell_type": "markdown",
   "source": [
    "<h3> 2-3. Data Description </h3>"
   ],
   "metadata": {
    "collapsed": false
   }
  },
  {
   "cell_type": "code",
   "execution_count": 16,
   "outputs": [
    {
     "data": {
      "text/plain": "                                  PriceMillionths  SizeBillionths  \\\ndatetime            Nano seconds                                    \n2021-04-10 16:28:53 470961000         59122080000        189904.5   \n                    596148000         59119960000        126228.5   \n2021-04-10 16:28:54 64537000          59119960000         27776.5   \n                    835128000         59123810000        984083.5   \n2021-04-10 16:28:55 30223000          59123810000         11798.0   \n                    577343000         59123810000       3785645.0   \n2021-04-10 16:29:00 30069000          59123580000      16450622.0   \n2021-04-10 16:29:02 519128000         59121540000         81632.0   \n                    810133000         59117620000          5060.5   \n2021-04-10 16:29:03 5146000           59117620000         81630.0   \n\n                                  NotionalMillionths  TradingCostsMillionths  \\\ndatetime            Nano seconds                                               \n2021-04-10 16:28:53 470961000           1.122755e+07            5.613775e+04   \n                    596148000           7.462624e+06            3.731312e+04   \n2021-04-10 16:28:54 64537000            1.642146e+06            8.210728e+03   \n                    835128000           5.818277e+07            2.909138e+05   \n2021-04-10 16:28:55 30223000            6.975427e+05            3.487714e+03   \n                    577343000           2.238218e+08            1.119109e+06   \n2021-04-10 16:29:00 30069000            9.726197e+08            4.863098e+06   \n2021-04-10 16:29:02 519128000           4.826210e+06            2.413105e+04   \n                    810133000           2.991647e+05            1.495824e+03   \n2021-04-10 16:29:03 5146000             4.825771e+06            2.412886e+04   \n\n                                  VWAPMillionths  \ndatetime            Nano seconds                  \n2021-04-10 16:28:53 470961000        59122080000  \n                    596148000        59121233506  \n2021-04-10 16:28:54 64537000         59121130649  \n                    835128000        59123116130  \n2021-04-10 16:28:55 30223000         59123122240  \n                    577343000        59123630219  \n2021-04-10 16:29:00 30069000         59123591929  \n2021-04-10 16:29:02 519128000        59123584195  \n                    810133000        59123582802  \n2021-04-10 16:29:03 5146000          59123560417  ",
      "text/html": "<div>\n<style scoped>\n    .dataframe tbody tr th:only-of-type {\n        vertical-align: middle;\n    }\n\n    .dataframe tbody tr th {\n        vertical-align: top;\n    }\n\n    .dataframe thead th {\n        text-align: right;\n    }\n</style>\n<table border=\"1\" class=\"dataframe\">\n  <thead>\n    <tr style=\"text-align: right;\">\n      <th></th>\n      <th></th>\n      <th>PriceMillionths</th>\n      <th>SizeBillionths</th>\n      <th>NotionalMillionths</th>\n      <th>TradingCostsMillionths</th>\n      <th>VWAPMillionths</th>\n    </tr>\n    <tr>\n      <th>datetime</th>\n      <th>Nano seconds</th>\n      <th></th>\n      <th></th>\n      <th></th>\n      <th></th>\n      <th></th>\n    </tr>\n  </thead>\n  <tbody>\n    <tr>\n      <th rowspan=\"2\" valign=\"top\">2021-04-10 16:28:53</th>\n      <th>470961000</th>\n      <td>59122080000</td>\n      <td>189904.5</td>\n      <td>1.122755e+07</td>\n      <td>5.613775e+04</td>\n      <td>59122080000</td>\n    </tr>\n    <tr>\n      <th>596148000</th>\n      <td>59119960000</td>\n      <td>126228.5</td>\n      <td>7.462624e+06</td>\n      <td>3.731312e+04</td>\n      <td>59121233506</td>\n    </tr>\n    <tr>\n      <th rowspan=\"2\" valign=\"top\">2021-04-10 16:28:54</th>\n      <th>64537000</th>\n      <td>59119960000</td>\n      <td>27776.5</td>\n      <td>1.642146e+06</td>\n      <td>8.210728e+03</td>\n      <td>59121130649</td>\n    </tr>\n    <tr>\n      <th>835128000</th>\n      <td>59123810000</td>\n      <td>984083.5</td>\n      <td>5.818277e+07</td>\n      <td>2.909138e+05</td>\n      <td>59123116130</td>\n    </tr>\n    <tr>\n      <th rowspan=\"2\" valign=\"top\">2021-04-10 16:28:55</th>\n      <th>30223000</th>\n      <td>59123810000</td>\n      <td>11798.0</td>\n      <td>6.975427e+05</td>\n      <td>3.487714e+03</td>\n      <td>59123122240</td>\n    </tr>\n    <tr>\n      <th>577343000</th>\n      <td>59123810000</td>\n      <td>3785645.0</td>\n      <td>2.238218e+08</td>\n      <td>1.119109e+06</td>\n      <td>59123630219</td>\n    </tr>\n    <tr>\n      <th>2021-04-10 16:29:00</th>\n      <th>30069000</th>\n      <td>59123580000</td>\n      <td>16450622.0</td>\n      <td>9.726197e+08</td>\n      <td>4.863098e+06</td>\n      <td>59123591929</td>\n    </tr>\n    <tr>\n      <th rowspan=\"2\" valign=\"top\">2021-04-10 16:29:02</th>\n      <th>519128000</th>\n      <td>59121540000</td>\n      <td>81632.0</td>\n      <td>4.826210e+06</td>\n      <td>2.413105e+04</td>\n      <td>59123584195</td>\n    </tr>\n    <tr>\n      <th>810133000</th>\n      <td>59117620000</td>\n      <td>5060.5</td>\n      <td>2.991647e+05</td>\n      <td>1.495824e+03</td>\n      <td>59123582802</td>\n    </tr>\n    <tr>\n      <th>2021-04-10 16:29:03</th>\n      <th>5146000</th>\n      <td>59117620000</td>\n      <td>81630.0</td>\n      <td>4.825771e+06</td>\n      <td>2.412886e+04</td>\n      <td>59123560417</td>\n    </tr>\n  </tbody>\n</table>\n</div>"
     },
     "execution_count": 16,
     "metadata": {},
     "output_type": "execute_result"
    }
   ],
   "source": [
    "BTC_USD_2021[Order.Buy.value - 1].head(10)"
   ],
   "metadata": {
    "collapsed": false
   }
  },
  {
   "cell_type": "code",
   "execution_count": 17,
   "outputs": [
    {
     "data": {
      "text/plain": "                                  PriceMillionths  SizeBillionths  \\\ndatetime            Nano seconds                                    \n2021-04-10 16:28:52 515484000         59125070000        406122.5   \n2021-04-10 16:28:53 74765000          59119950000        849794.5   \n                    613354000         59119950000        656146.5   \n2021-04-10 16:28:54 195667000         59119950000        891207.0   \n                    716996000         59119950000       1250000.0   \n2021-04-10 16:28:55 71608000          59119950000        132392.0   \n                    358280000         59119950000        891184.5   \n                    987817000         59121860000        891028.5   \n2021-04-10 16:28:56 830404000         59121860000        352749.0   \n2021-04-10 16:28:57 426911000         59119960000          9283.0   \n\n                                  NotionalMillionths  TradingCostsMillionths  \\\ndatetime            Nano seconds                                               \n2021-04-10 16:28:52 515484000           2.401202e+07           120060.106205   \n2021-04-10 16:28:53 74765000            5.023981e+07           251199.041751   \n                    613354000           3.879135e+07           193956.741363   \n2021-04-10 16:28:54 195667000           5.268811e+07           263440.566398   \n                    716996000           7.389994e+07           369499.687500   \n2021-04-10 16:28:55 71608000            7.827008e+06            39135.042102   \n                    358280000           5.268678e+07           263433.915404   \n                    987817000           5.267926e+07           263396.311165   \n2021-04-10 16:28:56 830404000           2.085518e+07           104275.884966   \n2021-04-10 16:28:57 426911000           5.488106e+05             2744.052943   \n\n                                  VWAPMillionths  \ndatetime            Nano seconds                  \n2021-04-10 16:28:52 515484000        59125070000  \n2021-04-10 16:28:53 74765000         59121605640  \n                    613354000        59121037488  \n2021-04-10 16:28:54 195667000        59120691757  \n                    716996000        59120463004  \n2021-04-10 16:28:55 71608000         59120446778  \n                    358280000        59120359574  \n                    987817000        59120583594  \n2021-04-10 16:28:56 830404000        59120654829  \n2021-04-10 16:28:57 426911000        59120653810  ",
      "text/html": "<div>\n<style scoped>\n    .dataframe tbody tr th:only-of-type {\n        vertical-align: middle;\n    }\n\n    .dataframe tbody tr th {\n        vertical-align: top;\n    }\n\n    .dataframe thead th {\n        text-align: right;\n    }\n</style>\n<table border=\"1\" class=\"dataframe\">\n  <thead>\n    <tr style=\"text-align: right;\">\n      <th></th>\n      <th></th>\n      <th>PriceMillionths</th>\n      <th>SizeBillionths</th>\n      <th>NotionalMillionths</th>\n      <th>TradingCostsMillionths</th>\n      <th>VWAPMillionths</th>\n    </tr>\n    <tr>\n      <th>datetime</th>\n      <th>Nano seconds</th>\n      <th></th>\n      <th></th>\n      <th></th>\n      <th></th>\n      <th></th>\n    </tr>\n  </thead>\n  <tbody>\n    <tr>\n      <th>2021-04-10 16:28:52</th>\n      <th>515484000</th>\n      <td>59125070000</td>\n      <td>406122.5</td>\n      <td>2.401202e+07</td>\n      <td>120060.106205</td>\n      <td>59125070000</td>\n    </tr>\n    <tr>\n      <th rowspan=\"2\" valign=\"top\">2021-04-10 16:28:53</th>\n      <th>74765000</th>\n      <td>59119950000</td>\n      <td>849794.5</td>\n      <td>5.023981e+07</td>\n      <td>251199.041751</td>\n      <td>59121605640</td>\n    </tr>\n    <tr>\n      <th>613354000</th>\n      <td>59119950000</td>\n      <td>656146.5</td>\n      <td>3.879135e+07</td>\n      <td>193956.741363</td>\n      <td>59121037488</td>\n    </tr>\n    <tr>\n      <th rowspan=\"2\" valign=\"top\">2021-04-10 16:28:54</th>\n      <th>195667000</th>\n      <td>59119950000</td>\n      <td>891207.0</td>\n      <td>5.268811e+07</td>\n      <td>263440.566398</td>\n      <td>59120691757</td>\n    </tr>\n    <tr>\n      <th>716996000</th>\n      <td>59119950000</td>\n      <td>1250000.0</td>\n      <td>7.389994e+07</td>\n      <td>369499.687500</td>\n      <td>59120463004</td>\n    </tr>\n    <tr>\n      <th rowspan=\"3\" valign=\"top\">2021-04-10 16:28:55</th>\n      <th>71608000</th>\n      <td>59119950000</td>\n      <td>132392.0</td>\n      <td>7.827008e+06</td>\n      <td>39135.042102</td>\n      <td>59120446778</td>\n    </tr>\n    <tr>\n      <th>358280000</th>\n      <td>59119950000</td>\n      <td>891184.5</td>\n      <td>5.268678e+07</td>\n      <td>263433.915404</td>\n      <td>59120359574</td>\n    </tr>\n    <tr>\n      <th>987817000</th>\n      <td>59121860000</td>\n      <td>891028.5</td>\n      <td>5.267926e+07</td>\n      <td>263396.311165</td>\n      <td>59120583594</td>\n    </tr>\n    <tr>\n      <th>2021-04-10 16:28:56</th>\n      <th>830404000</th>\n      <td>59121860000</td>\n      <td>352749.0</td>\n      <td>2.085518e+07</td>\n      <td>104275.884966</td>\n      <td>59120654829</td>\n    </tr>\n    <tr>\n      <th>2021-04-10 16:28:57</th>\n      <th>426911000</th>\n      <td>59119960000</td>\n      <td>9283.0</td>\n      <td>5.488106e+05</td>\n      <td>2744.052943</td>\n      <td>59120653810</td>\n    </tr>\n  </tbody>\n</table>\n</div>"
     },
     "execution_count": 17,
     "metadata": {},
     "output_type": "execute_result"
    }
   ],
   "source": [
    "BTC_USD_2021[Order.Sell.value].head(10)"
   ],
   "metadata": {
    "collapsed": false
   }
  },
  {
   "cell_type": "markdown",
   "source": [
    "The data above shows the first 10 rows of simulated Bitcoin and USD VWAP participation trade for the year 2021.\n",
    "Each dataset has 5 columns: price in millionths, size in billionths, notional trade amount in millionths, trading\n",
    "cost/transaction fee in millionths, and VWMAP in millionths.\n",
    "The time up to seconds and nano-seconds were separated but were both set as indexes\n",
    "\n",
    "The summary of Bitcoin-USD trade from the data is shown below."
   ],
   "metadata": {
    "collapsed": false
   }
  },
  {
   "cell_type": "code",
   "execution_count": 18,
   "outputs": [
    {
     "name": "stdout",
     "output_type": "stream",
     "text": [
      "There were a total of 2528704 buys simulated where 3238.9367822165 Bitcoins were accumulated\n"
     ]
    }
   ],
   "source": [
    "trades = BTC_USD_2021[Order.Buy.value - 1].shape[0]\n",
    "amount = BTC_USD_2021[Order.Buy.value - 1]['SizeBillionths'].sum() / 10**9\n",
    "print(\"There were a total of\", trades, \"buys simulated where\", amount, \"Bitcoins were accumulated\")"
   ],
   "metadata": {
    "collapsed": false
   }
  },
  {
   "cell_type": "code",
   "execution_count": 19,
   "outputs": [
    {
     "name": "stdout",
     "output_type": "stream",
     "text": [
      "There were a total of 1013182 sells simulated where 2302.6818329885 Bitcoins were liquidated\n"
     ]
    }
   ],
   "source": [
    "trades = BTC_USD_2021[Order.Sell.value].shape[0]\n",
    "amount = BTC_USD_2021[Order.Sell.value]['SizeBillionths'].sum() / 10**9\n",
    "print(\"There were a total of\", trades, \"sells simulated where\", amount, \"Bitcoins were liquidated\")"
   ],
   "metadata": {
    "collapsed": false
   }
  },
  {
   "cell_type": "markdown",
   "source": [],
   "metadata": {
    "collapsed": false
   }
  },
  {
   "cell_type": "markdown",
   "source": [
    "<h2> 3. Analysis </h2>"
   ],
   "metadata": {
    "collapsed": false
   }
  },
  {
   "cell_type": "markdown",
   "source": [
    "This analysis will focus on the trades between Bitcoin and USD.\n",
    "\n",
    "The standard for accumulation and liquidation would be 1 whole Bitcoin.\n",
    "\n",
    "The analysis will be comparing the price, cost, and rate of accumulation/liquidation of 1 Bitcoin across the years\n",
    "2021, 2022, and 2023.\n",
    "\n",
    "Lastly, with the standard time-limit set as 15 minutes, and using normal approximation, this analysis will try and\n",
    "quantify the likelihood of accumulating/liquidating 1 Bitcoin under the time-limit."
   ],
   "metadata": {
    "collapsed": false
   }
  },
  {
   "cell_type": "markdown",
   "source": [
    "<h3> 3-1. Year 2021 </h3>"
   ],
   "metadata": {
    "collapsed": false
   }
  },
  {
   "cell_type": "code",
   "execution_count": 20,
   "outputs": [],
   "source": [
    "# year 2021\n",
    "BTC_USD_2021_buys = accumulation_analytics(BTC_USD_2021[Order.Buy.value - 1], one_bitcoin)\n",
    "BTC_USD_2021_sells = accumulation_analytics(BTC_USD_2021[Order.Sell.value], one_bitcoin)"
   ],
   "metadata": {
    "collapsed": false
   }
  },
  {
   "cell_type": "code",
   "execution_count": 21,
   "outputs": [
    {
     "data": {
      "text/plain": "              Start Time  Start Nano  Arrival Price Millionths  \\\n0    2021-04-10 16:28:53   470961000               59122080000   \n1    2021-04-10 16:44:12   405529000               59118860000   \n2    2021-04-10 17:00:19   655691000               59150000000   \n3    2021-04-10 17:11:25   137427000               59300740000   \n4    2021-04-10 17:26:15   867456000               59280010000   \n...                  ...         ...                       ...   \n3233 2021-04-26 18:27:59   244732000               53870840000   \n3234 2021-04-26 18:39:21   843146000               53949080000   \n3235 2021-04-26 18:49:26   254940000               54009720000   \n3236 2021-04-26 18:59:54   830828000               54052500000   \n3237 2021-04-26 19:06:23   654578000               53951050000   \n\n                End Time   End Nano  Accumulated Billionth  \\\n0    2021-04-10 16:44:10  898341000           1.004903e+09   \n1    2021-04-10 17:00:19  446786000           9.957953e+08   \n2    2021-04-10 17:11:24  799235000           9.992604e+08   \n3    2021-04-10 17:26:14  852082000           9.929717e+08   \n4    2021-04-10 17:47:29  282792000           1.000570e+09   \n...                  ...        ...                    ...   \n3233 2021-04-26 18:39:20  494912000           1.025392e+09   \n3234 2021-04-26 18:49:25  658353000           9.836718e+08   \n3235 2021-04-26 18:59:54  249428000           9.966351e+08   \n3236 2021-04-26 19:06:23  472186000           9.968092e+08   \n3237 2021-04-26 19:11:13  309912000           1.026364e+09   \n\n      Notional Millionth  Transaction Cost Millionth  VWAP Millionths  \\\n0           5.940827e+10                2.970414e+08      59118394112   \n1           5.879374e+10                2.939687e+08      59041992013   \n2           5.920219e+10                2.960109e+08      59246006714   \n3           5.885975e+10                2.942987e+08      59276356748   \n4           5.932498e+10                2.966249e+08      59291210490   \n...                  ...                         ...              ...   \n3233        5.525500e+10                2.762750e+08      53886707803   \n3234        5.307102e+10                2.653551e+08      53951958118   \n3235        5.383769e+10                2.691884e+08      54019455294   \n3236        5.382492e+10                2.691246e+08      53997217869   \n3237        5.541661e+10                2.770831e+08      53993131794   \n\n     Approximate Duration Time  Duration Nano  $\\frac{Notional}{Time}$  \\\n0              0 days 00:15:17   917427380000                64.755284   \n1              0 days 00:16:07   967041257000                60.797551   \n2              0 days 00:11:05   665143544000                89.006634   \n3              0 days 00:14:49   889714655000                66.155757   \n4              0 days 00:21:14  1273415336000                46.587297   \n...                        ...            ...                      ...   \n3233           0 days 00:11:21   681250180000                81.108232   \n3234           0 days 00:10:04   603815207000                87.892820   \n3235           0 days 00:10:28   627994488000                85.729554   \n3236           0 days 00:06:29   388641358000               138.495097   \n3237           0 days 00:04:50   289655334000               191.319155   \n\n      $\\frac{Accumulation}{Time}$  \n0                        0.001095  \n1                        0.001030  \n2                        0.001502  \n3                        0.001116  \n4                        0.000786  \n...                           ...  \n3233                     0.001505  \n3234                     0.001629  \n3235                     0.001587  \n3236                     0.002565  \n3237                     0.003543  \n\n[3238 rows x 13 columns]",
      "text/html": "<div>\n<style scoped>\n    .dataframe tbody tr th:only-of-type {\n        vertical-align: middle;\n    }\n\n    .dataframe tbody tr th {\n        vertical-align: top;\n    }\n\n    .dataframe thead th {\n        text-align: right;\n    }\n</style>\n<table border=\"1\" class=\"dataframe\">\n  <thead>\n    <tr style=\"text-align: right;\">\n      <th></th>\n      <th>Start Time</th>\n      <th>Start Nano</th>\n      <th>Arrival Price Millionths</th>\n      <th>End Time</th>\n      <th>End Nano</th>\n      <th>Accumulated Billionth</th>\n      <th>Notional Millionth</th>\n      <th>Transaction Cost Millionth</th>\n      <th>VWAP Millionths</th>\n      <th>Approximate Duration Time</th>\n      <th>Duration Nano</th>\n      <th>$\\frac{Notional}{Time}$</th>\n      <th>$\\frac{Accumulation}{Time}$</th>\n    </tr>\n  </thead>\n  <tbody>\n    <tr>\n      <th>0</th>\n      <td>2021-04-10 16:28:53</td>\n      <td>470961000</td>\n      <td>59122080000</td>\n      <td>2021-04-10 16:44:10</td>\n      <td>898341000</td>\n      <td>1.004903e+09</td>\n      <td>5.940827e+10</td>\n      <td>2.970414e+08</td>\n      <td>59118394112</td>\n      <td>0 days 00:15:17</td>\n      <td>917427380000</td>\n      <td>64.755284</td>\n      <td>0.001095</td>\n    </tr>\n    <tr>\n      <th>1</th>\n      <td>2021-04-10 16:44:12</td>\n      <td>405529000</td>\n      <td>59118860000</td>\n      <td>2021-04-10 17:00:19</td>\n      <td>446786000</td>\n      <td>9.957953e+08</td>\n      <td>5.879374e+10</td>\n      <td>2.939687e+08</td>\n      <td>59041992013</td>\n      <td>0 days 00:16:07</td>\n      <td>967041257000</td>\n      <td>60.797551</td>\n      <td>0.001030</td>\n    </tr>\n    <tr>\n      <th>2</th>\n      <td>2021-04-10 17:00:19</td>\n      <td>655691000</td>\n      <td>59150000000</td>\n      <td>2021-04-10 17:11:24</td>\n      <td>799235000</td>\n      <td>9.992604e+08</td>\n      <td>5.920219e+10</td>\n      <td>2.960109e+08</td>\n      <td>59246006714</td>\n      <td>0 days 00:11:05</td>\n      <td>665143544000</td>\n      <td>89.006634</td>\n      <td>0.001502</td>\n    </tr>\n    <tr>\n      <th>3</th>\n      <td>2021-04-10 17:11:25</td>\n      <td>137427000</td>\n      <td>59300740000</td>\n      <td>2021-04-10 17:26:14</td>\n      <td>852082000</td>\n      <td>9.929717e+08</td>\n      <td>5.885975e+10</td>\n      <td>2.942987e+08</td>\n      <td>59276356748</td>\n      <td>0 days 00:14:49</td>\n      <td>889714655000</td>\n      <td>66.155757</td>\n      <td>0.001116</td>\n    </tr>\n    <tr>\n      <th>4</th>\n      <td>2021-04-10 17:26:15</td>\n      <td>867456000</td>\n      <td>59280010000</td>\n      <td>2021-04-10 17:47:29</td>\n      <td>282792000</td>\n      <td>1.000570e+09</td>\n      <td>5.932498e+10</td>\n      <td>2.966249e+08</td>\n      <td>59291210490</td>\n      <td>0 days 00:21:14</td>\n      <td>1273415336000</td>\n      <td>46.587297</td>\n      <td>0.000786</td>\n    </tr>\n    <tr>\n      <th>...</th>\n      <td>...</td>\n      <td>...</td>\n      <td>...</td>\n      <td>...</td>\n      <td>...</td>\n      <td>...</td>\n      <td>...</td>\n      <td>...</td>\n      <td>...</td>\n      <td>...</td>\n      <td>...</td>\n      <td>...</td>\n      <td>...</td>\n    </tr>\n    <tr>\n      <th>3233</th>\n      <td>2021-04-26 18:27:59</td>\n      <td>244732000</td>\n      <td>53870840000</td>\n      <td>2021-04-26 18:39:20</td>\n      <td>494912000</td>\n      <td>1.025392e+09</td>\n      <td>5.525500e+10</td>\n      <td>2.762750e+08</td>\n      <td>53886707803</td>\n      <td>0 days 00:11:21</td>\n      <td>681250180000</td>\n      <td>81.108232</td>\n      <td>0.001505</td>\n    </tr>\n    <tr>\n      <th>3234</th>\n      <td>2021-04-26 18:39:21</td>\n      <td>843146000</td>\n      <td>53949080000</td>\n      <td>2021-04-26 18:49:25</td>\n      <td>658353000</td>\n      <td>9.836718e+08</td>\n      <td>5.307102e+10</td>\n      <td>2.653551e+08</td>\n      <td>53951958118</td>\n      <td>0 days 00:10:04</td>\n      <td>603815207000</td>\n      <td>87.892820</td>\n      <td>0.001629</td>\n    </tr>\n    <tr>\n      <th>3235</th>\n      <td>2021-04-26 18:49:26</td>\n      <td>254940000</td>\n      <td>54009720000</td>\n      <td>2021-04-26 18:59:54</td>\n      <td>249428000</td>\n      <td>9.966351e+08</td>\n      <td>5.383769e+10</td>\n      <td>2.691884e+08</td>\n      <td>54019455294</td>\n      <td>0 days 00:10:28</td>\n      <td>627994488000</td>\n      <td>85.729554</td>\n      <td>0.001587</td>\n    </tr>\n    <tr>\n      <th>3236</th>\n      <td>2021-04-26 18:59:54</td>\n      <td>830828000</td>\n      <td>54052500000</td>\n      <td>2021-04-26 19:06:23</td>\n      <td>472186000</td>\n      <td>9.968092e+08</td>\n      <td>5.382492e+10</td>\n      <td>2.691246e+08</td>\n      <td>53997217869</td>\n      <td>0 days 00:06:29</td>\n      <td>388641358000</td>\n      <td>138.495097</td>\n      <td>0.002565</td>\n    </tr>\n    <tr>\n      <th>3237</th>\n      <td>2021-04-26 19:06:23</td>\n      <td>654578000</td>\n      <td>53951050000</td>\n      <td>2021-04-26 19:11:13</td>\n      <td>309912000</td>\n      <td>1.026364e+09</td>\n      <td>5.541661e+10</td>\n      <td>2.770831e+08</td>\n      <td>53993131794</td>\n      <td>0 days 00:04:50</td>\n      <td>289655334000</td>\n      <td>191.319155</td>\n      <td>0.003543</td>\n    </tr>\n  </tbody>\n</table>\n<p>3238 rows × 13 columns</p>\n</div>"
     },
     "execution_count": 21,
     "metadata": {},
     "output_type": "execute_result"
    }
   ],
   "source": [
    "BTC_USD_2021_buys"
   ],
   "metadata": {
    "collapsed": false
   }
  },
  {
   "cell_type": "code",
   "execution_count": 22,
   "outputs": [
    {
     "name": "stdout",
     "output_type": "stream",
     "text": [
      "There are total of 3238 transactions in the year 2021 data where 1 Bitcoin was accumulated\n",
      "The average duration time was 7.157292011730492 minutes\n",
      "The average VWAP for the transaction was 56384.77303944101 US Dollars\n",
      "The average transaction cost was 280.7801770154955 US Dollars\n",
      "The average depletion of capital for the transaction was 252.98246606986964 US Dollars per second\n",
      "The average accumulation rate was 0.004509354725195056 Bitcoins per second\n",
      "The standard deviation of accumulation rate was 0.013588551402010625 Bitcoins per second\n",
      "Using Normal Approximation, the likelihood of accumulating 1 Bitcoin under 15 minutes is approximately 59.8738 %\n"
     ]
    }
   ],
   "source": [
    "report_summary(BTC_USD_2021_buys, Order.Buy, 2021)"
   ],
   "metadata": {
    "collapsed": false
   }
  },
  {
   "cell_type": "code",
   "execution_count": 23,
   "outputs": [
    {
     "data": {
      "text/plain": "              Start Time  Start Nano  Arrival Price Millionths  \\\n0    2021-04-10 16:28:52   515484000               59125070000   \n1    2021-04-10 16:45:55   582597000               59020970000   \n2    2021-04-10 17:05:15   495187000               59235090000   \n3    2021-04-10 17:19:02   962543000               59273080000   \n4    2021-04-10 17:41:13   942379000               59234570000   \n...                  ...         ...                       ...   \n2297 2021-04-26 17:35:04    40099000               53840720000   \n2298 2021-04-26 18:01:09   247929000               53530040000   \n2299 2021-04-26 18:21:26   198188000               53902960000   \n2300 2021-04-26 18:45:12   716958000               53900000000   \n2301 2021-04-26 19:01:35   538615000               54023610000   \n\n                End Time   End Nano  Accumulated Billionth  \\\n0    2021-04-10 16:45:53  173188000           1.004897e+09   \n1    2021-04-10 17:05:14  434361000           1.061033e+09   \n2    2021-04-10 17:19:00  275746000           9.259411e+08   \n3    2021-04-10 17:41:12   52492000           1.013241e+09   \n4    2021-04-10 17:53:45  345825000           9.858224e+08   \n...                  ...        ...                    ...   \n2297 2021-04-26 18:01:08  815840000           9.987363e+08   \n2298 2021-04-26 18:21:22  733919000           1.006636e+09   \n2299 2021-04-26 18:45:11  723306000           9.965551e+08   \n2300 2021-04-26 19:01:35  216487000           1.001876e+09   \n2301 2021-04-26 19:12:49  288057000           9.981658e+08   \n\n      Notional Millionth  Transaction Cost Millionth  VWAP Millionths  \\\n0           5.939299e+10                2.969649e+08      59103585579   \n1           6.269823e+10                3.134911e+08      59091676152   \n2           5.490359e+10                2.745180e+08      59294907665   \n3           6.006940e+10                3.003470e+08      59284405397   \n4           5.842456e+10                2.921228e+08      59264792327   \n...                  ...                         ...              ...   \n2297        5.354971e+10                2.677485e+08      53617464467   \n2298        5.409822e+10                2.704911e+08      53741588140   \n2299        5.372972e+10                2.686486e+08      53915449591   \n2300        5.411851e+10                2.705926e+08      54017175323   \n2301        5.390993e+10                2.695496e+08      54008986054   \n\n     Approximate Duration Time  Duration Nano  $\\frac{Notional}{Time}$  \\\n0              0 days 00:17:01  1020657704000                58.190899   \n1              0 days 00:19:19  1158851764000                54.103753   \n2              0 days 00:13:45   824780559000                66.567512   \n3              0 days 00:22:10  1329089949000                45.195885   \n4              0 days 00:12:32   751403446000                77.753917   \n...                        ...            ...                      ...   \n2297           0 days 00:26:04  1564775741000                34.221971   \n2298           0 days 00:20:13  1213485990000                44.580839   \n2299           0 days 00:23:45  1425525118000                37.691176   \n2300           0 days 00:16:23   982499529000                55.082480   \n2301           0 days 00:11:14   673749442000                80.014798   \n\n      $\\frac{Accumulation}{Time}$  \n0                        0.000985  \n1                        0.000916  \n2                        0.001123  \n3                        0.000762  \n4                        0.001312  \n...                           ...  \n2297                     0.000638  \n2298                     0.000830  \n2299                     0.000699  \n2300                     0.001020  \n2301                     0.001482  \n\n[2302 rows x 13 columns]",
      "text/html": "<div>\n<style scoped>\n    .dataframe tbody tr th:only-of-type {\n        vertical-align: middle;\n    }\n\n    .dataframe tbody tr th {\n        vertical-align: top;\n    }\n\n    .dataframe thead th {\n        text-align: right;\n    }\n</style>\n<table border=\"1\" class=\"dataframe\">\n  <thead>\n    <tr style=\"text-align: right;\">\n      <th></th>\n      <th>Start Time</th>\n      <th>Start Nano</th>\n      <th>Arrival Price Millionths</th>\n      <th>End Time</th>\n      <th>End Nano</th>\n      <th>Accumulated Billionth</th>\n      <th>Notional Millionth</th>\n      <th>Transaction Cost Millionth</th>\n      <th>VWAP Millionths</th>\n      <th>Approximate Duration Time</th>\n      <th>Duration Nano</th>\n      <th>$\\frac{Notional}{Time}$</th>\n      <th>$\\frac{Accumulation}{Time}$</th>\n    </tr>\n  </thead>\n  <tbody>\n    <tr>\n      <th>0</th>\n      <td>2021-04-10 16:28:52</td>\n      <td>515484000</td>\n      <td>59125070000</td>\n      <td>2021-04-10 16:45:53</td>\n      <td>173188000</td>\n      <td>1.004897e+09</td>\n      <td>5.939299e+10</td>\n      <td>2.969649e+08</td>\n      <td>59103585579</td>\n      <td>0 days 00:17:01</td>\n      <td>1020657704000</td>\n      <td>58.190899</td>\n      <td>0.000985</td>\n    </tr>\n    <tr>\n      <th>1</th>\n      <td>2021-04-10 16:45:55</td>\n      <td>582597000</td>\n      <td>59020970000</td>\n      <td>2021-04-10 17:05:14</td>\n      <td>434361000</td>\n      <td>1.061033e+09</td>\n      <td>6.269823e+10</td>\n      <td>3.134911e+08</td>\n      <td>59091676152</td>\n      <td>0 days 00:19:19</td>\n      <td>1158851764000</td>\n      <td>54.103753</td>\n      <td>0.000916</td>\n    </tr>\n    <tr>\n      <th>2</th>\n      <td>2021-04-10 17:05:15</td>\n      <td>495187000</td>\n      <td>59235090000</td>\n      <td>2021-04-10 17:19:00</td>\n      <td>275746000</td>\n      <td>9.259411e+08</td>\n      <td>5.490359e+10</td>\n      <td>2.745180e+08</td>\n      <td>59294907665</td>\n      <td>0 days 00:13:45</td>\n      <td>824780559000</td>\n      <td>66.567512</td>\n      <td>0.001123</td>\n    </tr>\n    <tr>\n      <th>3</th>\n      <td>2021-04-10 17:19:02</td>\n      <td>962543000</td>\n      <td>59273080000</td>\n      <td>2021-04-10 17:41:12</td>\n      <td>52492000</td>\n      <td>1.013241e+09</td>\n      <td>6.006940e+10</td>\n      <td>3.003470e+08</td>\n      <td>59284405397</td>\n      <td>0 days 00:22:10</td>\n      <td>1329089949000</td>\n      <td>45.195885</td>\n      <td>0.000762</td>\n    </tr>\n    <tr>\n      <th>4</th>\n      <td>2021-04-10 17:41:13</td>\n      <td>942379000</td>\n      <td>59234570000</td>\n      <td>2021-04-10 17:53:45</td>\n      <td>345825000</td>\n      <td>9.858224e+08</td>\n      <td>5.842456e+10</td>\n      <td>2.921228e+08</td>\n      <td>59264792327</td>\n      <td>0 days 00:12:32</td>\n      <td>751403446000</td>\n      <td>77.753917</td>\n      <td>0.001312</td>\n    </tr>\n    <tr>\n      <th>...</th>\n      <td>...</td>\n      <td>...</td>\n      <td>...</td>\n      <td>...</td>\n      <td>...</td>\n      <td>...</td>\n      <td>...</td>\n      <td>...</td>\n      <td>...</td>\n      <td>...</td>\n      <td>...</td>\n      <td>...</td>\n      <td>...</td>\n    </tr>\n    <tr>\n      <th>2297</th>\n      <td>2021-04-26 17:35:04</td>\n      <td>40099000</td>\n      <td>53840720000</td>\n      <td>2021-04-26 18:01:08</td>\n      <td>815840000</td>\n      <td>9.987363e+08</td>\n      <td>5.354971e+10</td>\n      <td>2.677485e+08</td>\n      <td>53617464467</td>\n      <td>0 days 00:26:04</td>\n      <td>1564775741000</td>\n      <td>34.221971</td>\n      <td>0.000638</td>\n    </tr>\n    <tr>\n      <th>2298</th>\n      <td>2021-04-26 18:01:09</td>\n      <td>247929000</td>\n      <td>53530040000</td>\n      <td>2021-04-26 18:21:22</td>\n      <td>733919000</td>\n      <td>1.006636e+09</td>\n      <td>5.409822e+10</td>\n      <td>2.704911e+08</td>\n      <td>53741588140</td>\n      <td>0 days 00:20:13</td>\n      <td>1213485990000</td>\n      <td>44.580839</td>\n      <td>0.000830</td>\n    </tr>\n    <tr>\n      <th>2299</th>\n      <td>2021-04-26 18:21:26</td>\n      <td>198188000</td>\n      <td>53902960000</td>\n      <td>2021-04-26 18:45:11</td>\n      <td>723306000</td>\n      <td>9.965551e+08</td>\n      <td>5.372972e+10</td>\n      <td>2.686486e+08</td>\n      <td>53915449591</td>\n      <td>0 days 00:23:45</td>\n      <td>1425525118000</td>\n      <td>37.691176</td>\n      <td>0.000699</td>\n    </tr>\n    <tr>\n      <th>2300</th>\n      <td>2021-04-26 18:45:12</td>\n      <td>716958000</td>\n      <td>53900000000</td>\n      <td>2021-04-26 19:01:35</td>\n      <td>216487000</td>\n      <td>1.001876e+09</td>\n      <td>5.411851e+10</td>\n      <td>2.705926e+08</td>\n      <td>54017175323</td>\n      <td>0 days 00:16:23</td>\n      <td>982499529000</td>\n      <td>55.082480</td>\n      <td>0.001020</td>\n    </tr>\n    <tr>\n      <th>2301</th>\n      <td>2021-04-26 19:01:35</td>\n      <td>538615000</td>\n      <td>54023610000</td>\n      <td>2021-04-26 19:12:49</td>\n      <td>288057000</td>\n      <td>9.981658e+08</td>\n      <td>5.390993e+10</td>\n      <td>2.695496e+08</td>\n      <td>54008986054</td>\n      <td>0 days 00:11:14</td>\n      <td>673749442000</td>\n      <td>80.014798</td>\n      <td>0.001482</td>\n    </tr>\n  </tbody>\n</table>\n<p>2302 rows × 13 columns</p>\n</div>"
     },
     "execution_count": 23,
     "metadata": {},
     "output_type": "execute_result"
    }
   ],
   "source": [
    "BTC_USD_2021_sells"
   ],
   "metadata": {
    "collapsed": false
   }
  },
  {
   "cell_type": "code",
   "execution_count": 24,
   "outputs": [
    {
     "name": "stdout",
     "output_type": "stream",
     "text": [
      "There are total of 2302 transactions in the year 2021 data where 1 Bitcoin was liquidated\n",
      "The average duration time was 10.06131454360701 minutes\n",
      "The average VWAP for the transaction was 56553.42043320765 US Dollars\n",
      "The average transaction cost was 281.0282778970983 US Dollars\n",
      "The average accumulation of capital for the transaction was 241.12108330467686 US Dollars per second\n",
      "The average liquidation rate was 0.004341547618099131 Bitcoins per second\n",
      "The standard deviation of liquidation rate was 0.021182895115809928 Bitcoins per second\n",
      "Using Normal Approximation, the likelihood of liquidating 1 Bitcoin under 15 minutes is approximately 56.0605 %\n"
     ]
    }
   ],
   "source": [
    "report_summary(BTC_USD_2021_sells, Order.Sell, 2021)"
   ],
   "metadata": {
    "collapsed": false
   }
  },
  {
   "cell_type": "markdown",
   "source": [
    "<h3> 3-2. Year 2022 </h3>"
   ],
   "metadata": {
    "collapsed": false
   }
  },
  {
   "cell_type": "code",
   "execution_count": 25,
   "outputs": [],
   "source": [
    "# year 2022\n",
    "BTC_USD_2022_buys = accumulation_analytics(BTC_USD_2022[Order.Buy.value - 1], one_bitcoin)\n",
    "BTC_USD_2022_sells = accumulation_analytics(BTC_USD_2022[Order.Sell.value], one_bitcoin)"
   ],
   "metadata": {
    "collapsed": false
   }
  },
  {
   "cell_type": "code",
   "execution_count": 26,
   "outputs": [
    {
     "data": {
      "text/plain": "             Start Time  Start Nano  Arrival Price Millionths  \\\n0   2022-01-29 15:02:49   574850000               38391040000   \n1   2022-01-29 15:06:14   885727000               38586660000   \n2   2022-01-29 15:16:27   471207000               38506860000   \n3   2022-01-29 15:25:51   346320000               38610940000   \n4   2022-01-29 15:40:54   211425000               38460440000   \n..                  ...         ...                       ...   \n828 2022-02-04 18:36:24   495985000               41808960000   \n829 2022-02-04 18:42:46   398025000               41861460000   \n830 2022-02-04 18:49:19   960055000               41746660000   \n831 2022-02-04 18:57:11   608690000               41553660000   \n832 2022-02-04 19:08:33   985358000               41470000000   \n\n               End Time   End Nano  Accumulated Billionth  Notional Millionth  \\\n0   2022-01-29 15:06:14  421260000           1.001364e+09        3.864137e+10   \n1   2022-01-29 15:16:27  240142000           1.010339e+09        3.898322e+10   \n2   2022-01-29 15:25:49  749557000           9.911882e+08        3.823859e+10   \n3   2022-01-29 15:40:53  719469000           9.960615e+08        3.839438e+10   \n4   2022-01-29 15:54:41  355155000           1.014694e+09        3.902484e+10   \n..                  ...        ...                    ...                 ...   \n828 2022-02-04 18:42:46  134060000           9.911342e+08        4.143378e+10   \n829 2022-02-04 18:49:19  687273000           1.000655e+09        4.177980e+10   \n830 2022-02-04 18:57:10  640402000           9.996713e+08        4.157378e+10   \n831 2022-02-04 19:08:32  530073000           1.012165e+09        4.203851e+10   \n832 2022-02-04 19:21:24  241664000           9.925066e+08        4.114136e+10   \n\n     Transaction Cost Millionth  VWAP Millionths Approximate Duration Time  \\\n0                  1.932069e+08      38588744458           0 days 00:03:25   \n1                  1.949161e+08      38584300240           0 days 00:10:13   \n2                  1.911929e+08      38578534579           0 days 00:09:22   \n3                  1.919719e+08      38546193231           0 days 00:15:02   \n4                  1.951242e+08      38459697612           0 days 00:13:47   \n..                          ...              ...                       ...   \n828                2.071689e+08      41804410311           0 days 00:06:22   \n829                2.088990e+08      41752447135           0 days 00:06:33   \n830                2.078689e+08      41587450976           0 days 00:07:51   \n831                2.101925e+08      41533247225           0 days 00:11:21   \n832                2.057068e+08      41451976760           0 days 00:12:51   \n\n     Duration Nano  $\\frac{Notional}{Time}$  $\\frac{Accumulation}{Time}$  \n0     204846410000               188.635835                     0.004888  \n1     612354415000                63.661203                     0.001650  \n2     562278350000                68.006510                     0.001763  \n3     902373149000                42.548229                     0.001104  \n4     827143730000                47.180238                     0.001227  \n..             ...                      ...                          ...  \n828   381638075000               108.568257                     0.002597  \n829   393289248000               106.231745                     0.002544  \n830   470680347000                88.326997                     0.002124  \n831   680921383000                61.737685                     0.001486  \n832   770256306000                53.412561                     0.001289  \n\n[833 rows x 13 columns]",
      "text/html": "<div>\n<style scoped>\n    .dataframe tbody tr th:only-of-type {\n        vertical-align: middle;\n    }\n\n    .dataframe tbody tr th {\n        vertical-align: top;\n    }\n\n    .dataframe thead th {\n        text-align: right;\n    }\n</style>\n<table border=\"1\" class=\"dataframe\">\n  <thead>\n    <tr style=\"text-align: right;\">\n      <th></th>\n      <th>Start Time</th>\n      <th>Start Nano</th>\n      <th>Arrival Price Millionths</th>\n      <th>End Time</th>\n      <th>End Nano</th>\n      <th>Accumulated Billionth</th>\n      <th>Notional Millionth</th>\n      <th>Transaction Cost Millionth</th>\n      <th>VWAP Millionths</th>\n      <th>Approximate Duration Time</th>\n      <th>Duration Nano</th>\n      <th>$\\frac{Notional}{Time}$</th>\n      <th>$\\frac{Accumulation}{Time}$</th>\n    </tr>\n  </thead>\n  <tbody>\n    <tr>\n      <th>0</th>\n      <td>2022-01-29 15:02:49</td>\n      <td>574850000</td>\n      <td>38391040000</td>\n      <td>2022-01-29 15:06:14</td>\n      <td>421260000</td>\n      <td>1.001364e+09</td>\n      <td>3.864137e+10</td>\n      <td>1.932069e+08</td>\n      <td>38588744458</td>\n      <td>0 days 00:03:25</td>\n      <td>204846410000</td>\n      <td>188.635835</td>\n      <td>0.004888</td>\n    </tr>\n    <tr>\n      <th>1</th>\n      <td>2022-01-29 15:06:14</td>\n      <td>885727000</td>\n      <td>38586660000</td>\n      <td>2022-01-29 15:16:27</td>\n      <td>240142000</td>\n      <td>1.010339e+09</td>\n      <td>3.898322e+10</td>\n      <td>1.949161e+08</td>\n      <td>38584300240</td>\n      <td>0 days 00:10:13</td>\n      <td>612354415000</td>\n      <td>63.661203</td>\n      <td>0.001650</td>\n    </tr>\n    <tr>\n      <th>2</th>\n      <td>2022-01-29 15:16:27</td>\n      <td>471207000</td>\n      <td>38506860000</td>\n      <td>2022-01-29 15:25:49</td>\n      <td>749557000</td>\n      <td>9.911882e+08</td>\n      <td>3.823859e+10</td>\n      <td>1.911929e+08</td>\n      <td>38578534579</td>\n      <td>0 days 00:09:22</td>\n      <td>562278350000</td>\n      <td>68.006510</td>\n      <td>0.001763</td>\n    </tr>\n    <tr>\n      <th>3</th>\n      <td>2022-01-29 15:25:51</td>\n      <td>346320000</td>\n      <td>38610940000</td>\n      <td>2022-01-29 15:40:53</td>\n      <td>719469000</td>\n      <td>9.960615e+08</td>\n      <td>3.839438e+10</td>\n      <td>1.919719e+08</td>\n      <td>38546193231</td>\n      <td>0 days 00:15:02</td>\n      <td>902373149000</td>\n      <td>42.548229</td>\n      <td>0.001104</td>\n    </tr>\n    <tr>\n      <th>4</th>\n      <td>2022-01-29 15:40:54</td>\n      <td>211425000</td>\n      <td>38460440000</td>\n      <td>2022-01-29 15:54:41</td>\n      <td>355155000</td>\n      <td>1.014694e+09</td>\n      <td>3.902484e+10</td>\n      <td>1.951242e+08</td>\n      <td>38459697612</td>\n      <td>0 days 00:13:47</td>\n      <td>827143730000</td>\n      <td>47.180238</td>\n      <td>0.001227</td>\n    </tr>\n    <tr>\n      <th>...</th>\n      <td>...</td>\n      <td>...</td>\n      <td>...</td>\n      <td>...</td>\n      <td>...</td>\n      <td>...</td>\n      <td>...</td>\n      <td>...</td>\n      <td>...</td>\n      <td>...</td>\n      <td>...</td>\n      <td>...</td>\n      <td>...</td>\n    </tr>\n    <tr>\n      <th>828</th>\n      <td>2022-02-04 18:36:24</td>\n      <td>495985000</td>\n      <td>41808960000</td>\n      <td>2022-02-04 18:42:46</td>\n      <td>134060000</td>\n      <td>9.911342e+08</td>\n      <td>4.143378e+10</td>\n      <td>2.071689e+08</td>\n      <td>41804410311</td>\n      <td>0 days 00:06:22</td>\n      <td>381638075000</td>\n      <td>108.568257</td>\n      <td>0.002597</td>\n    </tr>\n    <tr>\n      <th>829</th>\n      <td>2022-02-04 18:42:46</td>\n      <td>398025000</td>\n      <td>41861460000</td>\n      <td>2022-02-04 18:49:19</td>\n      <td>687273000</td>\n      <td>1.000655e+09</td>\n      <td>4.177980e+10</td>\n      <td>2.088990e+08</td>\n      <td>41752447135</td>\n      <td>0 days 00:06:33</td>\n      <td>393289248000</td>\n      <td>106.231745</td>\n      <td>0.002544</td>\n    </tr>\n    <tr>\n      <th>830</th>\n      <td>2022-02-04 18:49:19</td>\n      <td>960055000</td>\n      <td>41746660000</td>\n      <td>2022-02-04 18:57:10</td>\n      <td>640402000</td>\n      <td>9.996713e+08</td>\n      <td>4.157378e+10</td>\n      <td>2.078689e+08</td>\n      <td>41587450976</td>\n      <td>0 days 00:07:51</td>\n      <td>470680347000</td>\n      <td>88.326997</td>\n      <td>0.002124</td>\n    </tr>\n    <tr>\n      <th>831</th>\n      <td>2022-02-04 18:57:11</td>\n      <td>608690000</td>\n      <td>41553660000</td>\n      <td>2022-02-04 19:08:32</td>\n      <td>530073000</td>\n      <td>1.012165e+09</td>\n      <td>4.203851e+10</td>\n      <td>2.101925e+08</td>\n      <td>41533247225</td>\n      <td>0 days 00:11:21</td>\n      <td>680921383000</td>\n      <td>61.737685</td>\n      <td>0.001486</td>\n    </tr>\n    <tr>\n      <th>832</th>\n      <td>2022-02-04 19:08:33</td>\n      <td>985358000</td>\n      <td>41470000000</td>\n      <td>2022-02-04 19:21:24</td>\n      <td>241664000</td>\n      <td>9.925066e+08</td>\n      <td>4.114136e+10</td>\n      <td>2.057068e+08</td>\n      <td>41451976760</td>\n      <td>0 days 00:12:51</td>\n      <td>770256306000</td>\n      <td>53.412561</td>\n      <td>0.001289</td>\n    </tr>\n  </tbody>\n</table>\n<p>833 rows × 13 columns</p>\n</div>"
     },
     "execution_count": 26,
     "metadata": {},
     "output_type": "execute_result"
    }
   ],
   "source": [
    "BTC_USD_2022_buys"
   ],
   "metadata": {
    "collapsed": false
   }
  },
  {
   "cell_type": "code",
   "execution_count": 27,
   "outputs": [
    {
     "name": "stdout",
     "output_type": "stream",
     "text": [
      "There are total of 833 transactions in the year 2022 data where 1 Bitcoin was accumulated\n",
      "The average duration time was 10.674146916606643 minutes\n",
      "The average VWAP for the transaction was 38164.794522929165 US Dollars\n",
      "The average transaction cost was 190.75887853153023 US Dollars\n",
      "The average depletion of capital for the transaction was 171.43638318598474 US Dollars per second\n",
      "The average accumulation rate was 0.004452669968552648 Bitcoins per second\n",
      "The standard deviation of accumulation rate was 0.014987281475721186 Bitcoins per second\n",
      "Using Normal Approximation, the likelihood of accumulating 1 Bitcoin under 15 minutes is approximately 58.8217 %\n"
     ]
    }
   ],
   "source": [
    "report_summary(BTC_USD_2022_buys, Order.Buy, 2022)"
   ],
   "metadata": {
    "collapsed": false
   }
  },
  {
   "cell_type": "code",
   "execution_count": 28,
   "outputs": [
    {
     "data": {
      "text/plain": "             Start Time  Start Nano  Arrival Price Millionths  \\\n0   2022-01-29 15:02:50    23283000               38388540000   \n1   2022-01-29 15:14:52   775836000               38582030000   \n2   2022-01-29 15:37:27   209172000               38449930000   \n3   2022-01-29 16:11:00   844807000               38217750000   \n4   2022-01-29 16:30:56   418648000               38093810000   \n..                  ...         ...                       ...   \n595 2022-02-04 18:49:58   850958000               41711000000   \n596 2022-02-04 18:52:19   224701000               41581490000   \n597 2022-02-04 18:58:20   767974000               41560430000   \n598 2022-02-04 19:02:31   874681000               41514000000   \n599 2022-02-04 19:14:25   477515000               41400000000   \n\n               End Time   End Nano  Accumulated Billionth  Notional Millionth  \\\n0   2022-01-29 15:14:51  140329000           1.000280e+09        3.858904e+10   \n1   2022-01-29 15:37:26  729526000           1.001022e+09        3.862117e+10   \n2   2022-01-29 16:11:00  678797000           9.969107e+08        3.826433e+10   \n3   2022-01-29 16:30:56  294873000           9.996020e+08        3.817602e+10   \n4   2022-01-29 16:52:59  586721000           1.021489e+09        3.895059e+10   \n..                  ...        ...                    ...                 ...   \n595 2022-02-04 18:52:18  613637000           9.793125e+08        4.077917e+10   \n596 2022-02-04 18:58:20  588169000           9.979174e+08        4.144640e+10   \n597 2022-02-04 19:02:31  559243000           9.659841e+08        4.011982e+10   \n598 2022-02-04 19:14:25   93772000           1.022984e+09        4.243142e+10   \n599 2022-02-04 19:22:23  882531000           9.057738e+08        3.752688e+10   \n\n     Transaction Cost Millionth  VWAP Millionths Approximate Duration Time  \\\n0                  1.929452e+08      38578239020           0 days 00:12:01   \n1                  1.931058e+08      38581751631           0 days 00:22:34   \n2                  1.913216e+08      38382905212           0 days 00:33:33   \n3                  1.908801e+08      38191223102           0 days 00:19:56   \n4                  1.947530e+08      38131190664           0 days 00:22:03   \n..                          ...              ...                       ...   \n595                2.038959e+08      41640615962           0 days 00:02:20   \n596                2.072320e+08      41532898226           0 days 00:06:01   \n597                2.005991e+08      41532590241           0 days 00:04:11   \n598                2.121571e+08      41478068179           0 days 00:11:54   \n599                1.876344e+08      41430736377           0 days 00:07:58   \n\n     Duration Nano  $\\frac{Notional}{Time}$  $\\frac{Accumulation}{Time}$  \n0     721117046000                53.512862                     0.001387  \n1    1353953690000                28.524731                     0.000739  \n2    2013469625000                19.004174                     0.000495  \n3    1195450066000                31.934434                     0.000836  \n4    1323168073000                29.437374                     0.000772  \n..             ...                      ...                          ...  \n595   139762679000               291.774419                     0.007007  \n596   361363468000               114.694495                     0.002762  \n597   250791269000               159.972964                     0.003852  \n598   713219091000                59.492824                     0.001434  \n599   478405016000                78.441644                     0.001893  \n\n[600 rows x 13 columns]",
      "text/html": "<div>\n<style scoped>\n    .dataframe tbody tr th:only-of-type {\n        vertical-align: middle;\n    }\n\n    .dataframe tbody tr th {\n        vertical-align: top;\n    }\n\n    .dataframe thead th {\n        text-align: right;\n    }\n</style>\n<table border=\"1\" class=\"dataframe\">\n  <thead>\n    <tr style=\"text-align: right;\">\n      <th></th>\n      <th>Start Time</th>\n      <th>Start Nano</th>\n      <th>Arrival Price Millionths</th>\n      <th>End Time</th>\n      <th>End Nano</th>\n      <th>Accumulated Billionth</th>\n      <th>Notional Millionth</th>\n      <th>Transaction Cost Millionth</th>\n      <th>VWAP Millionths</th>\n      <th>Approximate Duration Time</th>\n      <th>Duration Nano</th>\n      <th>$\\frac{Notional}{Time}$</th>\n      <th>$\\frac{Accumulation}{Time}$</th>\n    </tr>\n  </thead>\n  <tbody>\n    <tr>\n      <th>0</th>\n      <td>2022-01-29 15:02:50</td>\n      <td>23283000</td>\n      <td>38388540000</td>\n      <td>2022-01-29 15:14:51</td>\n      <td>140329000</td>\n      <td>1.000280e+09</td>\n      <td>3.858904e+10</td>\n      <td>1.929452e+08</td>\n      <td>38578239020</td>\n      <td>0 days 00:12:01</td>\n      <td>721117046000</td>\n      <td>53.512862</td>\n      <td>0.001387</td>\n    </tr>\n    <tr>\n      <th>1</th>\n      <td>2022-01-29 15:14:52</td>\n      <td>775836000</td>\n      <td>38582030000</td>\n      <td>2022-01-29 15:37:26</td>\n      <td>729526000</td>\n      <td>1.001022e+09</td>\n      <td>3.862117e+10</td>\n      <td>1.931058e+08</td>\n      <td>38581751631</td>\n      <td>0 days 00:22:34</td>\n      <td>1353953690000</td>\n      <td>28.524731</td>\n      <td>0.000739</td>\n    </tr>\n    <tr>\n      <th>2</th>\n      <td>2022-01-29 15:37:27</td>\n      <td>209172000</td>\n      <td>38449930000</td>\n      <td>2022-01-29 16:11:00</td>\n      <td>678797000</td>\n      <td>9.969107e+08</td>\n      <td>3.826433e+10</td>\n      <td>1.913216e+08</td>\n      <td>38382905212</td>\n      <td>0 days 00:33:33</td>\n      <td>2013469625000</td>\n      <td>19.004174</td>\n      <td>0.000495</td>\n    </tr>\n    <tr>\n      <th>3</th>\n      <td>2022-01-29 16:11:00</td>\n      <td>844807000</td>\n      <td>38217750000</td>\n      <td>2022-01-29 16:30:56</td>\n      <td>294873000</td>\n      <td>9.996020e+08</td>\n      <td>3.817602e+10</td>\n      <td>1.908801e+08</td>\n      <td>38191223102</td>\n      <td>0 days 00:19:56</td>\n      <td>1195450066000</td>\n      <td>31.934434</td>\n      <td>0.000836</td>\n    </tr>\n    <tr>\n      <th>4</th>\n      <td>2022-01-29 16:30:56</td>\n      <td>418648000</td>\n      <td>38093810000</td>\n      <td>2022-01-29 16:52:59</td>\n      <td>586721000</td>\n      <td>1.021489e+09</td>\n      <td>3.895059e+10</td>\n      <td>1.947530e+08</td>\n      <td>38131190664</td>\n      <td>0 days 00:22:03</td>\n      <td>1323168073000</td>\n      <td>29.437374</td>\n      <td>0.000772</td>\n    </tr>\n    <tr>\n      <th>...</th>\n      <td>...</td>\n      <td>...</td>\n      <td>...</td>\n      <td>...</td>\n      <td>...</td>\n      <td>...</td>\n      <td>...</td>\n      <td>...</td>\n      <td>...</td>\n      <td>...</td>\n      <td>...</td>\n      <td>...</td>\n      <td>...</td>\n    </tr>\n    <tr>\n      <th>595</th>\n      <td>2022-02-04 18:49:58</td>\n      <td>850958000</td>\n      <td>41711000000</td>\n      <td>2022-02-04 18:52:18</td>\n      <td>613637000</td>\n      <td>9.793125e+08</td>\n      <td>4.077917e+10</td>\n      <td>2.038959e+08</td>\n      <td>41640615962</td>\n      <td>0 days 00:02:20</td>\n      <td>139762679000</td>\n      <td>291.774419</td>\n      <td>0.007007</td>\n    </tr>\n    <tr>\n      <th>596</th>\n      <td>2022-02-04 18:52:19</td>\n      <td>224701000</td>\n      <td>41581490000</td>\n      <td>2022-02-04 18:58:20</td>\n      <td>588169000</td>\n      <td>9.979174e+08</td>\n      <td>4.144640e+10</td>\n      <td>2.072320e+08</td>\n      <td>41532898226</td>\n      <td>0 days 00:06:01</td>\n      <td>361363468000</td>\n      <td>114.694495</td>\n      <td>0.002762</td>\n    </tr>\n    <tr>\n      <th>597</th>\n      <td>2022-02-04 18:58:20</td>\n      <td>767974000</td>\n      <td>41560430000</td>\n      <td>2022-02-04 19:02:31</td>\n      <td>559243000</td>\n      <td>9.659841e+08</td>\n      <td>4.011982e+10</td>\n      <td>2.005991e+08</td>\n      <td>41532590241</td>\n      <td>0 days 00:04:11</td>\n      <td>250791269000</td>\n      <td>159.972964</td>\n      <td>0.003852</td>\n    </tr>\n    <tr>\n      <th>598</th>\n      <td>2022-02-04 19:02:31</td>\n      <td>874681000</td>\n      <td>41514000000</td>\n      <td>2022-02-04 19:14:25</td>\n      <td>93772000</td>\n      <td>1.022984e+09</td>\n      <td>4.243142e+10</td>\n      <td>2.121571e+08</td>\n      <td>41478068179</td>\n      <td>0 days 00:11:54</td>\n      <td>713219091000</td>\n      <td>59.492824</td>\n      <td>0.001434</td>\n    </tr>\n    <tr>\n      <th>599</th>\n      <td>2022-02-04 19:14:25</td>\n      <td>477515000</td>\n      <td>41400000000</td>\n      <td>2022-02-04 19:22:23</td>\n      <td>882531000</td>\n      <td>9.057738e+08</td>\n      <td>3.752688e+10</td>\n      <td>1.876344e+08</td>\n      <td>41430736377</td>\n      <td>0 days 00:07:58</td>\n      <td>478405016000</td>\n      <td>78.441644</td>\n      <td>0.001893</td>\n    </tr>\n  </tbody>\n</table>\n<p>600 rows × 13 columns</p>\n</div>"
     },
     "execution_count": 28,
     "metadata": {},
     "output_type": "execute_result"
    }
   ],
   "source": [
    "BTC_USD_2022_sells"
   ],
   "metadata": {
    "collapsed": false
   }
  },
  {
   "cell_type": "code",
   "execution_count": 29,
   "outputs": [
    {
     "name": "stdout",
     "output_type": "stream",
     "text": [
      "There are total of 600 transactions in the year 2022 data where 1 Bitcoin was liquidated\n",
      "The average duration time was 14.815869459916666 minutes\n",
      "The average VWAP for the transaction was 38238.969786935 US Dollars\n",
      "The average transaction cost was 190.41803526407372 US Dollars\n",
      "The average accumulation of capital for the transaction was 131.10868776570805 US Dollars per second\n",
      "The average liquidation rate was 0.0034124438806649718 Bitcoins per second\n",
      "The standard deviation of liquidation rate was 0.014735070174793268 Bitcoins per second\n",
      "Using Normal Approximation, the likelihood of liquidating 1 Bitcoin under 15 minutes is approximately 56.2055 %\n"
     ]
    }
   ],
   "source": [
    "report_summary(BTC_USD_2022_sells, Order.Sell, 2022)"
   ],
   "metadata": {
    "collapsed": false
   }
  },
  {
   "cell_type": "markdown",
   "source": [
    "<h3> 3-3. Year 2023 </h3>"
   ],
   "metadata": {
    "collapsed": false
   }
  },
  {
   "cell_type": "code",
   "execution_count": 30,
   "outputs": [],
   "source": [
    "# year 2023\n",
    "BTC_USD_2023_buys = accumulation_analytics(BTC_USD_2023[Order.Buy.value - 1], one_bitcoin)\n",
    "BTC_USD_2023_sells = accumulation_analytics(BTC_USD_2023[Order.Sell.value], one_bitcoin)"
   ],
   "metadata": {
    "collapsed": false
   }
  },
  {
   "cell_type": "code",
   "execution_count": 31,
   "outputs": [
    {
     "data": {
      "text/plain": "             Start Time  Start Nano  Arrival Price Millionths  \\\n0   2023-01-23 18:47:48   676444000               22969900000   \n1   2023-01-23 18:54:35   506670000               22965760000   \n2   2023-01-23 19:01:56   168026000               23014310000   \n3   2023-01-23 19:08:28   855920000               23020000000   \n4   2023-01-23 19:16:12   223761000               22999840000   \n..                  ...         ...                       ...   \n282 2023-01-25 09:26:08   617279000               22495780000   \n283 2023-01-25 09:30:52   726143000               22543310000   \n284 2023-01-25 09:34:42   388759000               22547450000   \n285 2023-01-25 09:37:54    87111000               22494070000   \n286 2023-01-25 09:41:53   681528000               22530580000   \n\n               End Time   End Nano  Accumulated Billionth  Notional Millionth  \\\n0   2023-01-23 18:54:34  953146000           1.022598e+09        2.348069e+10   \n1   2023-01-23 19:01:55  974552000           9.777328e+08        2.247199e+10   \n2   2023-01-23 19:08:28  649956000           1.169159e+09        2.690842e+10   \n3   2023-01-23 19:16:11  386215000           8.333199e+08        1.917026e+10   \n4   2023-01-23 19:25:51  628767000           1.003375e+09        2.306826e+10   \n..                  ...        ...                    ...                 ...   \n282 2023-01-25 09:30:52  602429000           1.002703e+09        2.258872e+10   \n283 2023-01-25 09:34:41  966620000           1.000977e+09        2.258594e+10   \n284 2023-01-25 09:37:53  457134000           9.935272e+08        2.238985e+10   \n285 2023-01-25 09:41:53  319708000           1.003530e+09        2.258377e+10   \n286 2023-01-25 09:45:41  470120000           9.955753e+08        2.243659e+10   \n\n     Transaction Cost Millionth  VWAP Millionths Approximate Duration Time  \\\n0                  1.174035e+08      22961794100           0 days 00:06:46   \n1                  1.123599e+08      22983770961           0 days 00:07:20   \n2                  1.345421e+08      23015193816           0 days 00:06:32   \n3                  9.585131e+07      23004685185           0 days 00:07:43   \n4                  1.153413e+08      22990666097           0 days 00:09:39   \n..                          ...              ...                       ...   \n282                1.129436e+08      22527828004           0 days 00:04:44   \n283                1.129297e+08      22563887412           0 days 00:03:49   \n284                1.119493e+08      22535719182           0 days 00:03:11   \n285                1.129188e+08      22504328833           0 days 00:03:59   \n286                1.121829e+08      22536304558           0 days 00:03:48   \n\n     Duration Nano  $\\frac{Notional}{Time}$  $\\frac{Accumulation}{Time}$  \n0     406276702000                57.794824                     0.002517  \n1     440467882000                51.018444                     0.002220  \n2     392481930000                68.559638                     0.002979  \n3     462530295000                41.446500                     0.001802  \n4     579405006000                39.813711                     0.001732  \n..             ...                      ...                          ...  \n282   283985150000                79.541906                     0.003531  \n283   229240477000                98.525108                     0.004366  \n284   191068375000               117.182397                     0.005200  \n285   239232597000                94.400884                     0.004195  \n286   227788592000                98.497417                     0.004371  \n\n[287 rows x 13 columns]",
      "text/html": "<div>\n<style scoped>\n    .dataframe tbody tr th:only-of-type {\n        vertical-align: middle;\n    }\n\n    .dataframe tbody tr th {\n        vertical-align: top;\n    }\n\n    .dataframe thead th {\n        text-align: right;\n    }\n</style>\n<table border=\"1\" class=\"dataframe\">\n  <thead>\n    <tr style=\"text-align: right;\">\n      <th></th>\n      <th>Start Time</th>\n      <th>Start Nano</th>\n      <th>Arrival Price Millionths</th>\n      <th>End Time</th>\n      <th>End Nano</th>\n      <th>Accumulated Billionth</th>\n      <th>Notional Millionth</th>\n      <th>Transaction Cost Millionth</th>\n      <th>VWAP Millionths</th>\n      <th>Approximate Duration Time</th>\n      <th>Duration Nano</th>\n      <th>$\\frac{Notional}{Time}$</th>\n      <th>$\\frac{Accumulation}{Time}$</th>\n    </tr>\n  </thead>\n  <tbody>\n    <tr>\n      <th>0</th>\n      <td>2023-01-23 18:47:48</td>\n      <td>676444000</td>\n      <td>22969900000</td>\n      <td>2023-01-23 18:54:34</td>\n      <td>953146000</td>\n      <td>1.022598e+09</td>\n      <td>2.348069e+10</td>\n      <td>1.174035e+08</td>\n      <td>22961794100</td>\n      <td>0 days 00:06:46</td>\n      <td>406276702000</td>\n      <td>57.794824</td>\n      <td>0.002517</td>\n    </tr>\n    <tr>\n      <th>1</th>\n      <td>2023-01-23 18:54:35</td>\n      <td>506670000</td>\n      <td>22965760000</td>\n      <td>2023-01-23 19:01:55</td>\n      <td>974552000</td>\n      <td>9.777328e+08</td>\n      <td>2.247199e+10</td>\n      <td>1.123599e+08</td>\n      <td>22983770961</td>\n      <td>0 days 00:07:20</td>\n      <td>440467882000</td>\n      <td>51.018444</td>\n      <td>0.002220</td>\n    </tr>\n    <tr>\n      <th>2</th>\n      <td>2023-01-23 19:01:56</td>\n      <td>168026000</td>\n      <td>23014310000</td>\n      <td>2023-01-23 19:08:28</td>\n      <td>649956000</td>\n      <td>1.169159e+09</td>\n      <td>2.690842e+10</td>\n      <td>1.345421e+08</td>\n      <td>23015193816</td>\n      <td>0 days 00:06:32</td>\n      <td>392481930000</td>\n      <td>68.559638</td>\n      <td>0.002979</td>\n    </tr>\n    <tr>\n      <th>3</th>\n      <td>2023-01-23 19:08:28</td>\n      <td>855920000</td>\n      <td>23020000000</td>\n      <td>2023-01-23 19:16:11</td>\n      <td>386215000</td>\n      <td>8.333199e+08</td>\n      <td>1.917026e+10</td>\n      <td>9.585131e+07</td>\n      <td>23004685185</td>\n      <td>0 days 00:07:43</td>\n      <td>462530295000</td>\n      <td>41.446500</td>\n      <td>0.001802</td>\n    </tr>\n    <tr>\n      <th>4</th>\n      <td>2023-01-23 19:16:12</td>\n      <td>223761000</td>\n      <td>22999840000</td>\n      <td>2023-01-23 19:25:51</td>\n      <td>628767000</td>\n      <td>1.003375e+09</td>\n      <td>2.306826e+10</td>\n      <td>1.153413e+08</td>\n      <td>22990666097</td>\n      <td>0 days 00:09:39</td>\n      <td>579405006000</td>\n      <td>39.813711</td>\n      <td>0.001732</td>\n    </tr>\n    <tr>\n      <th>...</th>\n      <td>...</td>\n      <td>...</td>\n      <td>...</td>\n      <td>...</td>\n      <td>...</td>\n      <td>...</td>\n      <td>...</td>\n      <td>...</td>\n      <td>...</td>\n      <td>...</td>\n      <td>...</td>\n      <td>...</td>\n      <td>...</td>\n    </tr>\n    <tr>\n      <th>282</th>\n      <td>2023-01-25 09:26:08</td>\n      <td>617279000</td>\n      <td>22495780000</td>\n      <td>2023-01-25 09:30:52</td>\n      <td>602429000</td>\n      <td>1.002703e+09</td>\n      <td>2.258872e+10</td>\n      <td>1.129436e+08</td>\n      <td>22527828004</td>\n      <td>0 days 00:04:44</td>\n      <td>283985150000</td>\n      <td>79.541906</td>\n      <td>0.003531</td>\n    </tr>\n    <tr>\n      <th>283</th>\n      <td>2023-01-25 09:30:52</td>\n      <td>726143000</td>\n      <td>22543310000</td>\n      <td>2023-01-25 09:34:41</td>\n      <td>966620000</td>\n      <td>1.000977e+09</td>\n      <td>2.258594e+10</td>\n      <td>1.129297e+08</td>\n      <td>22563887412</td>\n      <td>0 days 00:03:49</td>\n      <td>229240477000</td>\n      <td>98.525108</td>\n      <td>0.004366</td>\n    </tr>\n    <tr>\n      <th>284</th>\n      <td>2023-01-25 09:34:42</td>\n      <td>388759000</td>\n      <td>22547450000</td>\n      <td>2023-01-25 09:37:53</td>\n      <td>457134000</td>\n      <td>9.935272e+08</td>\n      <td>2.238985e+10</td>\n      <td>1.119493e+08</td>\n      <td>22535719182</td>\n      <td>0 days 00:03:11</td>\n      <td>191068375000</td>\n      <td>117.182397</td>\n      <td>0.005200</td>\n    </tr>\n    <tr>\n      <th>285</th>\n      <td>2023-01-25 09:37:54</td>\n      <td>87111000</td>\n      <td>22494070000</td>\n      <td>2023-01-25 09:41:53</td>\n      <td>319708000</td>\n      <td>1.003530e+09</td>\n      <td>2.258377e+10</td>\n      <td>1.129188e+08</td>\n      <td>22504328833</td>\n      <td>0 days 00:03:59</td>\n      <td>239232597000</td>\n      <td>94.400884</td>\n      <td>0.004195</td>\n    </tr>\n    <tr>\n      <th>286</th>\n      <td>2023-01-25 09:41:53</td>\n      <td>681528000</td>\n      <td>22530580000</td>\n      <td>2023-01-25 09:45:41</td>\n      <td>470120000</td>\n      <td>9.955753e+08</td>\n      <td>2.243659e+10</td>\n      <td>1.121829e+08</td>\n      <td>22536304558</td>\n      <td>0 days 00:03:48</td>\n      <td>227788592000</td>\n      <td>98.497417</td>\n      <td>0.004371</td>\n    </tr>\n  </tbody>\n</table>\n<p>287 rows × 13 columns</p>\n</div>"
     },
     "execution_count": 31,
     "metadata": {},
     "output_type": "execute_result"
    }
   ],
   "source": [
    "BTC_USD_2023_buys"
   ],
   "metadata": {
    "collapsed": false
   }
  },
  {
   "cell_type": "code",
   "execution_count": 32,
   "outputs": [
    {
     "name": "stdout",
     "output_type": "stream",
     "text": [
      "There are total of 287 transactions in the year 2023 data where 1 Bitcoin was accumulated\n",
      "The average duration time was 8.135263784552846 minutes\n",
      "The average VWAP for the transaction was 22837.169702756095 US Dollars\n",
      "The average transaction cost was 113.55669873796411 US Dollars\n",
      "The average depletion of capital for the transaction was 96.75292864217708 US Dollars per second\n",
      "The average accumulation rate was 0.004239074791192558 Bitcoins per second\n",
      "The standard deviation of accumulation rate was 0.005208402480579953 Bitcoins per second\n",
      "Using Normal Approximation, the likelihood of accumulating 1 Bitcoin under 15 minutes is approximately 72.5934 %\n"
     ]
    }
   ],
   "source": [
    "report_summary(BTC_USD_2023_buys, Order.Buy, 2023)"
   ],
   "metadata": {
    "collapsed": false
   }
  },
  {
   "cell_type": "code",
   "execution_count": 33,
   "outputs": [
    {
     "data": {
      "text/plain": "             Start Time  Start Nano  Arrival Price Millionths  \\\n0   2023-01-23 18:47:47   886114000               22969160000   \n1   2023-01-23 18:58:49   744602000               22974230000   \n2   2023-01-23 19:08:46   937856000               23020440000   \n3   2023-01-23 19:22:52   745524000               22997820000   \n4   2023-01-23 19:37:18    76147000               22976420000   \n..                  ...         ...                       ...   \n215 2023-01-25 09:23:26   950269000               22486580000   \n216 2023-01-25 09:29:11   147611000               22527560000   \n217 2023-01-25 09:33:51   611808000               22567310000   \n218 2023-01-25 09:37:06   932345000               22512230000   \n219 2023-01-25 09:41:45   632971000               22524730000   \n\n               End Time   End Nano  Accumulated Billionth  Notional Millionth  \\\n0   2023-01-23 18:58:46  578432000           1.006825e+09        2.312179e+10   \n1   2023-01-23 19:08:46  716977000           9.938607e+08        2.286332e+10   \n2   2023-01-23 19:22:49  544896000           9.997368e+08        2.299001e+10   \n3   2023-01-23 19:37:17  896920000           1.007367e+09        2.313348e+10   \n4   2023-01-23 19:49:20  169860000           1.011425e+09        2.325001e+10   \n..                  ...        ...                    ...                 ...   \n215 2023-01-25 09:29:06  997550000           9.643343e+08        2.169945e+10   \n216 2023-01-25 09:33:50  495670000           1.009225e+09        2.276106e+10   \n217 2023-01-25 09:37:06  742254000           9.762767e+08        2.201547e+10   \n218 2023-01-25 09:41:44  992813000           9.590422e+08        2.157875e+10   \n219 2023-01-25 09:47:09  130103000           1.073284e+09        2.420625e+10   \n\n     Transaction Cost Millionth  VWAP Millionths Approximate Duration Time  \\\n0                  1.156089e+08      22965056486           0 days 00:10:59   \n1                  1.143166e+08      23004554372           0 days 00:09:57   \n2                  1.149500e+08      22996061094           0 days 00:14:03   \n3                  1.156674e+08      22964302150           0 days 00:14:25   \n4                  1.162500e+08      22987385888           0 days 00:12:02   \n..                          ...              ...                       ...   \n215                1.084972e+08      22501996698           0 days 00:05:40   \n216                1.138053e+08      22552997762           0 days 00:04:39   \n217                1.100774e+08      22550445881           0 days 00:03:15   \n218                1.078937e+08      22500313271           0 days 00:04:38   \n219                1.210313e+08      22553446231           0 days 00:05:24   \n\n     Duration Nano  $\\frac{Notional}{Time}$  $\\frac{Accumulation}{Time}$  \n0     658692318000                35.102564                     0.001529  \n1     596972375000                38.298793                     0.001665  \n2     842607040000                27.284378                     0.001186  \n3     865151396000                26.739230                     0.001164  \n4     722093713000                32.198050                     0.001401  \n..             ...                      ...                          ...  \n215   340047281000                63.813029                     0.002836  \n216   279348059000                81.479212                     0.003613  \n217   195130446000               112.824397                     0.005003  \n218   278060468000                77.604521                     0.003449  \n219   323497132000                74.826798                     0.003318  \n\n[220 rows x 13 columns]",
      "text/html": "<div>\n<style scoped>\n    .dataframe tbody tr th:only-of-type {\n        vertical-align: middle;\n    }\n\n    .dataframe tbody tr th {\n        vertical-align: top;\n    }\n\n    .dataframe thead th {\n        text-align: right;\n    }\n</style>\n<table border=\"1\" class=\"dataframe\">\n  <thead>\n    <tr style=\"text-align: right;\">\n      <th></th>\n      <th>Start Time</th>\n      <th>Start Nano</th>\n      <th>Arrival Price Millionths</th>\n      <th>End Time</th>\n      <th>End Nano</th>\n      <th>Accumulated Billionth</th>\n      <th>Notional Millionth</th>\n      <th>Transaction Cost Millionth</th>\n      <th>VWAP Millionths</th>\n      <th>Approximate Duration Time</th>\n      <th>Duration Nano</th>\n      <th>$\\frac{Notional}{Time}$</th>\n      <th>$\\frac{Accumulation}{Time}$</th>\n    </tr>\n  </thead>\n  <tbody>\n    <tr>\n      <th>0</th>\n      <td>2023-01-23 18:47:47</td>\n      <td>886114000</td>\n      <td>22969160000</td>\n      <td>2023-01-23 18:58:46</td>\n      <td>578432000</td>\n      <td>1.006825e+09</td>\n      <td>2.312179e+10</td>\n      <td>1.156089e+08</td>\n      <td>22965056486</td>\n      <td>0 days 00:10:59</td>\n      <td>658692318000</td>\n      <td>35.102564</td>\n      <td>0.001529</td>\n    </tr>\n    <tr>\n      <th>1</th>\n      <td>2023-01-23 18:58:49</td>\n      <td>744602000</td>\n      <td>22974230000</td>\n      <td>2023-01-23 19:08:46</td>\n      <td>716977000</td>\n      <td>9.938607e+08</td>\n      <td>2.286332e+10</td>\n      <td>1.143166e+08</td>\n      <td>23004554372</td>\n      <td>0 days 00:09:57</td>\n      <td>596972375000</td>\n      <td>38.298793</td>\n      <td>0.001665</td>\n    </tr>\n    <tr>\n      <th>2</th>\n      <td>2023-01-23 19:08:46</td>\n      <td>937856000</td>\n      <td>23020440000</td>\n      <td>2023-01-23 19:22:49</td>\n      <td>544896000</td>\n      <td>9.997368e+08</td>\n      <td>2.299001e+10</td>\n      <td>1.149500e+08</td>\n      <td>22996061094</td>\n      <td>0 days 00:14:03</td>\n      <td>842607040000</td>\n      <td>27.284378</td>\n      <td>0.001186</td>\n    </tr>\n    <tr>\n      <th>3</th>\n      <td>2023-01-23 19:22:52</td>\n      <td>745524000</td>\n      <td>22997820000</td>\n      <td>2023-01-23 19:37:17</td>\n      <td>896920000</td>\n      <td>1.007367e+09</td>\n      <td>2.313348e+10</td>\n      <td>1.156674e+08</td>\n      <td>22964302150</td>\n      <td>0 days 00:14:25</td>\n      <td>865151396000</td>\n      <td>26.739230</td>\n      <td>0.001164</td>\n    </tr>\n    <tr>\n      <th>4</th>\n      <td>2023-01-23 19:37:18</td>\n      <td>76147000</td>\n      <td>22976420000</td>\n      <td>2023-01-23 19:49:20</td>\n      <td>169860000</td>\n      <td>1.011425e+09</td>\n      <td>2.325001e+10</td>\n      <td>1.162500e+08</td>\n      <td>22987385888</td>\n      <td>0 days 00:12:02</td>\n      <td>722093713000</td>\n      <td>32.198050</td>\n      <td>0.001401</td>\n    </tr>\n    <tr>\n      <th>...</th>\n      <td>...</td>\n      <td>...</td>\n      <td>...</td>\n      <td>...</td>\n      <td>...</td>\n      <td>...</td>\n      <td>...</td>\n      <td>...</td>\n      <td>...</td>\n      <td>...</td>\n      <td>...</td>\n      <td>...</td>\n      <td>...</td>\n    </tr>\n    <tr>\n      <th>215</th>\n      <td>2023-01-25 09:23:26</td>\n      <td>950269000</td>\n      <td>22486580000</td>\n      <td>2023-01-25 09:29:06</td>\n      <td>997550000</td>\n      <td>9.643343e+08</td>\n      <td>2.169945e+10</td>\n      <td>1.084972e+08</td>\n      <td>22501996698</td>\n      <td>0 days 00:05:40</td>\n      <td>340047281000</td>\n      <td>63.813029</td>\n      <td>0.002836</td>\n    </tr>\n    <tr>\n      <th>216</th>\n      <td>2023-01-25 09:29:11</td>\n      <td>147611000</td>\n      <td>22527560000</td>\n      <td>2023-01-25 09:33:50</td>\n      <td>495670000</td>\n      <td>1.009225e+09</td>\n      <td>2.276106e+10</td>\n      <td>1.138053e+08</td>\n      <td>22552997762</td>\n      <td>0 days 00:04:39</td>\n      <td>279348059000</td>\n      <td>81.479212</td>\n      <td>0.003613</td>\n    </tr>\n    <tr>\n      <th>217</th>\n      <td>2023-01-25 09:33:51</td>\n      <td>611808000</td>\n      <td>22567310000</td>\n      <td>2023-01-25 09:37:06</td>\n      <td>742254000</td>\n      <td>9.762767e+08</td>\n      <td>2.201547e+10</td>\n      <td>1.100774e+08</td>\n      <td>22550445881</td>\n      <td>0 days 00:03:15</td>\n      <td>195130446000</td>\n      <td>112.824397</td>\n      <td>0.005003</td>\n    </tr>\n    <tr>\n      <th>218</th>\n      <td>2023-01-25 09:37:06</td>\n      <td>932345000</td>\n      <td>22512230000</td>\n      <td>2023-01-25 09:41:44</td>\n      <td>992813000</td>\n      <td>9.590422e+08</td>\n      <td>2.157875e+10</td>\n      <td>1.078937e+08</td>\n      <td>22500313271</td>\n      <td>0 days 00:04:38</td>\n      <td>278060468000</td>\n      <td>77.604521</td>\n      <td>0.003449</td>\n    </tr>\n    <tr>\n      <th>219</th>\n      <td>2023-01-25 09:41:45</td>\n      <td>632971000</td>\n      <td>22524730000</td>\n      <td>2023-01-25 09:47:09</td>\n      <td>130103000</td>\n      <td>1.073284e+09</td>\n      <td>2.420625e+10</td>\n      <td>1.210313e+08</td>\n      <td>22553446231</td>\n      <td>0 days 00:05:24</td>\n      <td>323497132000</td>\n      <td>74.826798</td>\n      <td>0.003318</td>\n    </tr>\n  </tbody>\n</table>\n<p>220 rows × 13 columns</p>\n</div>"
     },
     "execution_count": 33,
     "metadata": {},
     "output_type": "execute_result"
    }
   ],
   "source": [
    "BTC_USD_2023_sells"
   ],
   "metadata": {
    "collapsed": false
   }
  },
  {
   "cell_type": "code",
   "execution_count": 34,
   "outputs": [
    {
     "name": "stdout",
     "output_type": "stream",
     "text": [
      "There are total of 220 transactions in the year 2023 data where 1 Bitcoin was liquidated\n",
      "The average duration time was 10.615273405151516 minutes\n",
      "The average VWAP for the transaction was 22822.278964013636 US Dollars\n",
      "The average transaction cost was 114.25935418048329 US Dollars\n",
      "The average accumulation of capital for the transaction was 104.01968790776594 US Dollars per second\n",
      "The average liquidation rate was 0.004560536891532884 Bitcoins per second\n",
      "The standard deviation of liquidation rate was 0.01813937669805956 Bitcoins per second\n",
      "Using Normal Approximation, the likelihood of liquidating 1 Bitcoin under 15 minutes is approximately 57.5409 %\n"
     ]
    }
   ],
   "source": [
    "report_summary(BTC_USD_2023_sells, Order.Sell, 2023)"
   ],
   "metadata": {
    "collapsed": false
   }
  },
  {
   "cell_type": "markdown",
   "source": [],
   "metadata": {
    "collapsed": false
   }
  }
 ],
 "metadata": {
  "kernelspec": {
   "display_name": "Python 3",
   "language": "python",
   "name": "python3"
  },
  "language_info": {
   "codemirror_mode": {
    "name": "ipython",
    "version": 2
   },
   "file_extension": ".py",
   "mimetype": "text/x-python",
   "name": "python",
   "nbconvert_exporter": "python",
   "pygments_lexer": "ipython2",
   "version": "2.7.6"
  }
 },
 "nbformat": 4,
 "nbformat_minor": 0
}
