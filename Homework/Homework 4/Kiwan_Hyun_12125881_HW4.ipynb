{
 "cells": [
  {
   "cell_type": "markdown",
   "source": [
    "<left>FINM 33150 - Quantitative Trading Strategies</left>\n",
    "<left>Winter 2023</left>\n",
    "<br>\n",
    "<h1><center> Homework 4: Accumulation Opportunity </center></h1>\n",
    "<center>Due - 23:00 [CST] February 2nd, 2023</center>\n",
    "<br>\n",
    "<h3>Ki Hyun</h3>\n",
    "<h3>Student ID: 12125881</h3>"
   ],
   "metadata": {
    "collapsed": false
   }
  },
  {
   "cell_type": "markdown",
   "source": [
    "<h5> Imports </h5>"
   ],
   "metadata": {
    "collapsed": false
   }
  },
  {
   "cell_type": "code",
   "execution_count": 1,
   "outputs": [],
   "source": [
    "%matplotlib inline"
   ],
   "metadata": {
    "collapsed": false
   }
  },
  {
   "cell_type": "code",
   "execution_count": 14,
   "metadata": {
    "collapsed": true
   },
   "outputs": [],
   "source": [
    "import os\n",
    "import datetime\n",
    "import pickle\n",
    "import matplotlib.pyplot as plt\n",
    "import matplotlib.dates as mdates\n",
    "import pandas as pd\n",
    "import numpy as np\n",
    "import scipy as sp\n",
    "import seaborn as sns\n",
    "from enum import Enum"
   ]
  },
  {
   "cell_type": "markdown",
   "source": [
    "<h5> Constants </h5>"
   ],
   "metadata": {
    "collapsed": false
   }
  },
  {
   "cell_type": "code",
   "execution_count": 3,
   "outputs": [],
   "source": [
    "# constants needed for grabbing and cleaning data\n",
    "data_home_dir = \"C:\\\\Users\\\\kwhyu\\\\OneDrive - The University of Chicago\\\\2023-1 Winter\\\\FINM \" \\\n",
    "                \"33150\\\\FINM-33150-W23\\\\Data\\\\Crypto\\\\\"\n",
    "pairs = ['BTC-USD', 'ETH-USD', 'ETH-BTC']\n",
    "years = ['2021', '2022', '2023']\n",
    "# constants needed for trading simulation\n",
    "reaction_time = int(0.1 * (10 ** 9)) # in nano seconds\n",
    "currency_crypto_cost = 50 * (10 ** (-4))\n",
    "crypto_crypto_cost = 10 * (10 ** (-4))"
   ],
   "metadata": {
    "collapsed": false
   }
  },
  {
   "cell_type": "markdown",
   "source": [
    "<h5> Helper Functions </h5>"
   ],
   "metadata": {
    "collapsed": false
   }
  },
  {
   "cell_type": "code",
   "execution_count": 4,
   "outputs": [],
   "source": [
    "class Order(Enum):\n",
    "    Sell = -1\n",
    "    Buy = 1"
   ],
   "metadata": {
    "collapsed": false
   }
  },
  {
   "cell_type": "code",
   "execution_count": 5,
   "outputs": [],
   "source": [
    "def read_data(pair, year):\n",
    "    global data_home_dir\n",
    "    # creating directory for the pair and year\n",
    "    book_dir = f'book_narrow_{pair}_{year}.delim.gz'\n",
    "    trades_dir = f'trades_narrow_{pair}_{year}.delim.gz'\n",
    "    # retrieving book data:\n",
    "    print(\">>> Retrieving Book data for \", pair, \" for the year \", year, \"...\")\n",
    "    try:\n",
    "        book = pd.read_table(os.path.join(data_home_dir, book_dir))\n",
    "        print(\">>> Success!\")\n",
    "    except:\n",
    "        print(\">>> Book data for \", pair, \" for the year \", year, \" does not exist\")\n",
    "        book = None\n",
    "    # retrieving trades data:\n",
    "    print(\">>> Retrieving Trades data for \", pair, \" for the year \", year, \"...\")\n",
    "    try:\n",
    "        trades = pd.read_table(os.path.join(data_home_dir, trades_dir))\n",
    "        print(\">>> Success!\")\n",
    "    except:\n",
    "        print(\">>> Trades data for \", pair, \" for the year \", year, \" does not exist\")\n",
    "        return book, None, pair, year, None\n",
    "    # indexing trades data by Time and Nano second\n",
    "    trades['Time'] = (trades['timestamp_utc_nanoseconds'] / 10**9).apply(int)\\\n",
    "        .apply(lambda x: datetime.datetime.fromtimestamp(x))\n",
    "    trades['Nano second'] = trades['timestamp_utc_nanoseconds'] % 10**9\n",
    "    trades = trades.set_index(['Time', 'Nano second']).sort_index().drop(columns = {'received_utc_nanoseconds'})\n",
    "    # sorting into buy and sell data\n",
    "    sell = trades[trades['Side'] < 0]\n",
    "    buy = trades[trades['Side'] > 0]\n",
    "\n",
    "    return book, buy, pair, year, sell"
   ],
   "metadata": {
    "collapsed": false
   }
  },
  {
   "cell_type": "code",
   "execution_count": 6,
   "outputs": [],
   "source": [
    "def clean_trading_data(raw_df, side, reaction_time):\n",
    "    df = raw_df[side.value].copy()\n",
    "    pair = raw_df[2]\n",
    "    year = raw_df[3]\n",
    "    if side == Order.Buy:\n",
    "        detail = \"Buy\"\n",
    "    else:\n",
    "        detail = \"Sell\"\n",
    "    print(\">>> Cleaning\", pair, \"for the year\", year, detail, \"Trades data for VWAP Algorithm based on reaction time\",\n",
    "          reaction_time/(10**9), \" seconds...\")\n",
    "    df['hold_time_nanoseconds'] = (df['timestamp_utc_nanoseconds'].shift(-1).fillna(method = 'ffill') -\n",
    "                                   df['timestamp_utc_nanoseconds']).apply(int)\n",
    "    df = df.drop(columns = {'timestamp_utc_nanoseconds', 'Side'})\n",
    "    df = df[df['hold_time_nanoseconds'] > 0]\n",
    "\n",
    "    temp_l = []\n",
    "    interval = int(0)\n",
    "    for trade in df.index:\n",
    "        interval += df.loc[trade, 'hold_time_nanoseconds']\n",
    "        if interval >= reaction_time:\n",
    "            temp_l.append(True)\n",
    "            interval = int(0)\n",
    "        else:\n",
    "            temp_l.append(False)\n",
    "    df['qualify'] = temp_l\n",
    "    print(\">>> Success!\")\n",
    "    return df"
   ],
   "metadata": {
    "collapsed": false
   }
  },
  {
   "cell_type": "code",
   "execution_count": 17,
   "outputs": [],
   "source": [
    "def data_factory(pairs, years, avoid_file_load = False):\n",
    "    if not avoid_file_load:\n",
    "        dir = r'./data/full_data.pkl'\n",
    "        with open(dir, 'rb') as f:\n",
    "            try:\n",
    "                ret_dict = pickle.load(f)\n",
    "                print(\">>> Found data...\")\n",
    "                return ret_dict\n",
    "            except:\n",
    "                print(\">>> No data found\")\n",
    "                print(\">>> Proceeding to compute the data...\")\n",
    "\n",
    "    global reaction_time\n",
    "    ret_dict = {}\n",
    "    for pair in pairs:\n",
    "        for year in years:\n",
    "            raw_df = read_data(pair, year)\n",
    "            if raw_df[1] is None:\n",
    "                buy = None\n",
    "                sell = None\n",
    "            else:\n",
    "                buy = clean_trading_data(raw_df, Order.Buy, reaction_time)\n",
    "                sell = clean_trading_data(raw_df, Order.Sell, reaction_time)\n",
    "\n",
    "            ret_dict[(pair, year)] = [raw_df[0], buy, sell]\n",
    "\n",
    "    if not avoid_file_load:\n",
    "        dir = r'./data/full_data.pkl'\n",
    "        with open(dir, 'wb') as f:\n",
    "            pickle.dump(ret_dict, f)\n",
    "\n",
    "    return ret_dict"
   ],
   "metadata": {
    "collapsed": false
   }
  },
  {
   "cell_type": "code",
   "execution_count": 8,
   "outputs": [],
   "source": [
    "def VWAP_participation(df_cleaned, Q, p, start_time,\n",
    "                       side, transaction_cost):\n",
    "    df = df_cleaned.loc[start_time:].copy()\n",
    "\n",
    "    if side == Order.Buy:\n",
    "        f = False\n",
    "    else:\n",
    "        f = True\n",
    "\n",
    "    accumulated = 0\n",
    "    indexes = df[df['qualify']].index\n",
    "    i = 0\n",
    "    ret_df = {'datetime': [],\n",
    "              'Nano seconds': [],\n",
    "              'PriceMillionths': [],\n",
    "              'SizeBillionths': []}\n",
    "\n",
    "    while(accumulated < Q and i < len(indexes)):\n",
    "        if i == 0:\n",
    "            temp = df.loc[:indexes[i]].sort_values(by = ['PriceMillionths'], ascending = f).iloc[0]\n",
    "        else:\n",
    "            temp = df.loc[indexes[i-1]:indexes[i]].iloc[1:].sort_values(by = ['PriceMillionths'], ascending = f).iloc[0]\n",
    "\n",
    "        ret_df['datetime'].append(temp.name[0])\n",
    "        ret_df['Nano seconds'].append(temp.name[1])\n",
    "        ret_df['PriceMillionths'].append(temp['PriceMillionths'])\n",
    "        ret_df['SizeBillionths'].append(temp['SizeBillionths'] * p)\n",
    "\n",
    "        accumulated += temp['SizeBillionths'] * p\n",
    "        i += 1\n",
    "\n",
    "    ret_df = pd.DataFrame(ret_df).set_index(['datetime', 'Nano seconds'])\n",
    "    ret_df['NotionalMillionths'] = ret_df['PriceMillionths'] * ret_df['SizeBillionths'] / (10**9)\n",
    "    ret_df['TradingCostsMillionths'] = ret_df['NotionalMillionths'] * transaction_cost\n",
    "    ret_df['VWAPMillionths'] = (ret_df['NotionalMillionths'].cumsum() / ret_df['SizeBillionths'].cumsum() * (10**9))\\\n",
    "        .apply(int)\n",
    "\n",
    "    return ret_df"
   ],
   "metadata": {
    "collapsed": false
   }
  },
  {
   "cell_type": "code",
   "execution_count": null,
   "outputs": [],
   "source": [
    "def total_participation_opportunities(full_dict, p):\n",
    "    global currency_crypto_cost\n",
    "    global crypto_crypto_cost\n",
    "\n",
    "    for pair, year in full_dict.keys():\n",
    "        if pair == 'ETH-BTC':\n",
    "            transaction_cost = crypto_crypto_cost\n",
    "        else:\n",
    "            transaction_cost = currency_crypto_cost\n",
    "        df_Buy = full_dict[(pair, year)][Order.Buy.value]\n",
    "        dir = r'./data/' + pair + '_' + year + '_total_buy_opportunities.csv'\n",
    "        VWAP_participation(df_Buy, np.infty, p, df_Buy.index[0][0], Order.Buy, transaction_cost).to_csv(dir)\n",
    "        df_Sell = full_dict[(pair, year)][Order.Sell.value]\n",
    "        dir = r'./data/' + pair + '_' + year + '_total_sell_opportunities.csv'\n",
    "        VWAP_participation(df_Sell, np.infty, p, df_Sell.index[0][0], Order.Sell, transaction_cost).to_csv(dir)"
   ],
   "metadata": {
    "collapsed": false
   }
  },
  {
   "cell_type": "markdown",
   "source": [
    "<h2> 2. Data </h2>"
   ],
   "metadata": {
    "collapsed": false
   }
  },
  {
   "cell_type": "markdown",
   "source": [
    "<h3> 2-1. Raw Data </h3>"
   ],
   "metadata": {
    "collapsed": false
   }
  },
  {
   "cell_type": "markdown",
   "source": [],
   "metadata": {
    "collapsed": false
   }
  },
  {
   "cell_type": "markdown",
   "source": [
    "<h3> 2-2. Data Processing </h3>"
   ],
   "metadata": {
    "collapsed": false
   }
  },
  {
   "cell_type": "code",
   "execution_count": 18,
   "outputs": [
    {
     "name": "stdout",
     "output_type": "stream",
     "text": [
      ">>> Found data...\n"
     ]
    }
   ],
   "source": [
    "data_dict = data_factory(pairs, years)"
   ],
   "metadata": {
    "collapsed": false
   }
  },
  {
   "cell_type": "code",
   "execution_count": 19,
   "outputs": [],
   "source": [
    "BTC_USD_2021_Buy = data_dict[('BTC-USD', '2021')][Order.Buy.value]"
   ],
   "metadata": {
    "collapsed": false
   }
  },
  {
   "cell_type": "code",
   "execution_count": 23,
   "outputs": [
    {
     "data": {
      "text/plain": "                                  PriceMillionths  SizeBillionths  \\\ndatetime            Nano seconds                                    \n2021-04-10 16:28:53 470961000         59122080000        189904.5   \n                    596148000         59119960000        126228.5   \n2021-04-10 16:28:54 64537000          59119960000         27776.5   \n                    835128000         59123810000        984083.5   \n2021-04-10 16:28:55 30223000          59123810000         11798.0   \n...                                           ...             ...   \n2021-04-10 16:44:06 398627000         59120480000          8427.5   \n2021-04-10 16:44:07 19364000          59120480000         23597.0   \n                    361807000         59120480000        174320.0   \n2021-04-10 16:44:09 243497000         59120480000         21101.0   \n2021-04-10 16:44:10 753411000         59120120000       8302977.5   \n\n                                  NotionalMillionths  TradingCostsMillionths  \\\ndatetime            Nano seconds                                               \n2021-04-10 16:28:53 470961000           1.122755e+07            5.613775e+04   \n                    596148000           7.462624e+06            3.731312e+04   \n2021-04-10 16:28:54 64537000            1.642146e+06            8.210728e+03   \n                    835128000           5.818277e+07            2.909138e+05   \n2021-04-10 16:28:55 30223000            6.975427e+05            3.487714e+03   \n...                                              ...                     ...   \n2021-04-10 16:44:06 398627000           4.982378e+05            2.491189e+03   \n2021-04-10 16:44:07 19364000            1.395066e+06            6.975330e+03   \n                    361807000           1.030588e+07            5.152941e+04   \n2021-04-10 16:44:09 243497000           1.247501e+06            6.237506e+03   \n2021-04-10 16:44:10 753411000           4.908730e+08            2.454365e+06   \n\n                                  VWAPMillionths  \ndatetime            Nano seconds                  \n2021-04-10 16:28:53 470961000        59122080000  \n                    596148000        59121233506  \n2021-04-10 16:28:54 64537000         59121130649  \n                    835128000        59123116130  \n2021-04-10 16:28:55 30223000         59123122240  \n...                                          ...  \n2021-04-10 16:44:06 398627000        59118379271  \n2021-04-10 16:44:07 19364000         59118379321  \n                    361807000        59118379688  \n2021-04-10 16:44:09 243497000        59118379733  \n2021-04-10 16:44:10 753411000        59118394112  \n\n[1201 rows x 5 columns]",
      "text/html": "<div>\n<style scoped>\n    .dataframe tbody tr th:only-of-type {\n        vertical-align: middle;\n    }\n\n    .dataframe tbody tr th {\n        vertical-align: top;\n    }\n\n    .dataframe thead th {\n        text-align: right;\n    }\n</style>\n<table border=\"1\" class=\"dataframe\">\n  <thead>\n    <tr style=\"text-align: right;\">\n      <th></th>\n      <th></th>\n      <th>PriceMillionths</th>\n      <th>SizeBillionths</th>\n      <th>NotionalMillionths</th>\n      <th>TradingCostsMillionths</th>\n      <th>VWAPMillionths</th>\n    </tr>\n    <tr>\n      <th>datetime</th>\n      <th>Nano seconds</th>\n      <th></th>\n      <th></th>\n      <th></th>\n      <th></th>\n      <th></th>\n    </tr>\n  </thead>\n  <tbody>\n    <tr>\n      <th rowspan=\"2\" valign=\"top\">2021-04-10 16:28:53</th>\n      <th>470961000</th>\n      <td>59122080000</td>\n      <td>189904.5</td>\n      <td>1.122755e+07</td>\n      <td>5.613775e+04</td>\n      <td>59122080000</td>\n    </tr>\n    <tr>\n      <th>596148000</th>\n      <td>59119960000</td>\n      <td>126228.5</td>\n      <td>7.462624e+06</td>\n      <td>3.731312e+04</td>\n      <td>59121233506</td>\n    </tr>\n    <tr>\n      <th rowspan=\"2\" valign=\"top\">2021-04-10 16:28:54</th>\n      <th>64537000</th>\n      <td>59119960000</td>\n      <td>27776.5</td>\n      <td>1.642146e+06</td>\n      <td>8.210728e+03</td>\n      <td>59121130649</td>\n    </tr>\n    <tr>\n      <th>835128000</th>\n      <td>59123810000</td>\n      <td>984083.5</td>\n      <td>5.818277e+07</td>\n      <td>2.909138e+05</td>\n      <td>59123116130</td>\n    </tr>\n    <tr>\n      <th>2021-04-10 16:28:55</th>\n      <th>30223000</th>\n      <td>59123810000</td>\n      <td>11798.0</td>\n      <td>6.975427e+05</td>\n      <td>3.487714e+03</td>\n      <td>59123122240</td>\n    </tr>\n    <tr>\n      <th>...</th>\n      <th>...</th>\n      <td>...</td>\n      <td>...</td>\n      <td>...</td>\n      <td>...</td>\n      <td>...</td>\n    </tr>\n    <tr>\n      <th>2021-04-10 16:44:06</th>\n      <th>398627000</th>\n      <td>59120480000</td>\n      <td>8427.5</td>\n      <td>4.982378e+05</td>\n      <td>2.491189e+03</td>\n      <td>59118379271</td>\n    </tr>\n    <tr>\n      <th rowspan=\"2\" valign=\"top\">2021-04-10 16:44:07</th>\n      <th>19364000</th>\n      <td>59120480000</td>\n      <td>23597.0</td>\n      <td>1.395066e+06</td>\n      <td>6.975330e+03</td>\n      <td>59118379321</td>\n    </tr>\n    <tr>\n      <th>361807000</th>\n      <td>59120480000</td>\n      <td>174320.0</td>\n      <td>1.030588e+07</td>\n      <td>5.152941e+04</td>\n      <td>59118379688</td>\n    </tr>\n    <tr>\n      <th>2021-04-10 16:44:09</th>\n      <th>243497000</th>\n      <td>59120480000</td>\n      <td>21101.0</td>\n      <td>1.247501e+06</td>\n      <td>6.237506e+03</td>\n      <td>59118379733</td>\n    </tr>\n    <tr>\n      <th>2021-04-10 16:44:10</th>\n      <th>753411000</th>\n      <td>59120120000</td>\n      <td>8302977.5</td>\n      <td>4.908730e+08</td>\n      <td>2.454365e+06</td>\n      <td>59118394112</td>\n    </tr>\n  </tbody>\n</table>\n<p>1201 rows × 5 columns</p>\n</div>"
     },
     "execution_count": 23,
     "metadata": {},
     "output_type": "execute_result"
    }
   ],
   "source": [
    "VWAP_participation(BTC_USD_2021_Buy, 1000000000, 0.05, BTC_USD_2021_Buy.index[0][0], Order.Buy, currency_crypto_cost)"
   ],
   "metadata": {
    "collapsed": false
   }
  },
  {
   "cell_type": "markdown",
   "source": [],
   "metadata": {
    "collapsed": false
   }
  },
  {
   "cell_type": "markdown",
   "source": [
    "<h3> 2-3. Data Description </h3>"
   ],
   "metadata": {
    "collapsed": false
   }
  },
  {
   "cell_type": "code",
   "execution_count": 9,
   "outputs": [],
   "source": [],
   "metadata": {
    "collapsed": false
   }
  },
  {
   "cell_type": "markdown",
   "source": [],
   "metadata": {
    "collapsed": false
   }
  },
  {
   "cell_type": "markdown",
   "source": [
    "<h2> 3. Analysis </h2>"
   ],
   "metadata": {
    "collapsed": false
   }
  },
  {
   "cell_type": "code",
   "execution_count": 9,
   "outputs": [],
   "source": [],
   "metadata": {
    "collapsed": false
   }
  },
  {
   "cell_type": "markdown",
   "source": [],
   "metadata": {
    "collapsed": false
   }
  }
 ],
 "metadata": {
  "kernelspec": {
   "display_name": "Python 3",
   "language": "python",
   "name": "python3"
  },
  "language_info": {
   "codemirror_mode": {
    "name": "ipython",
    "version": 2
   },
   "file_extension": ".py",
   "mimetype": "text/x-python",
   "name": "python",
   "nbconvert_exporter": "python",
   "pygments_lexer": "ipython2",
   "version": "2.7.6"
  }
 },
 "nbformat": 4,
 "nbformat_minor": 0
}
