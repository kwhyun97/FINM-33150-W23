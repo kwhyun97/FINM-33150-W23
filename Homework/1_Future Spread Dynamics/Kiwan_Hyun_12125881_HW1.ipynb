{
 "cells": [
  {
   "cell_type": "markdown",
   "source": [],
   "metadata": {
    "collapsed": false
   }
  },
  {
   "cell_type": "markdown",
   "source": [
    "## Imports"
   ],
   "metadata": {
    "collapsed": false
   }
  },
  {
   "cell_type": "code",
   "execution_count": 1,
   "outputs": [],
   "source": [
    "import matplotlib.pyplot as plt\n",
    "import pandas as pd\n",
    "import numpy as np\n",
    "import scipy as sp\n",
    "import quandl\n",
    "import functools\n",
    "import seaborn as sns"
   ],
   "metadata": {
    "collapsed": false
   }
  },
  {
   "cell_type": "markdown",
   "source": [
    "## Functions"
   ],
   "metadata": {
    "collapsed": false
   }
  },
  {
   "cell_type": "code",
   "execution_count": 2,
   "outputs": [],
   "source": [
    "# API Key\n",
    "PersonalApiKey = \"JbMPn9bSpFPNS7Z7PcZy\"\n",
    "# Pairs\n",
    "W_contract = 'OWF/NYM_RB_RB_3M_IVM'\n",
    "X_contract = 'OWF/ICE_G_G_3M_IVM'\n",
    "Y_contract = 'OWF/ICE_B_B_3M_IVM'\n",
    "Z_contract = 'OWF/NYM_NG_NG_3M_IVM'\n",
    "# start and stop dates\n",
    "start_date = \"2020-12-03\"\n",
    "end_date = \"2022-08-31\""
   ],
   "metadata": {
    "collapsed": false
   }
  },
  {
   "cell_type": "code",
   "execution_count": 3,
   "outputs": [],
   "source": [
    "@functools.lru_cache(maxsize=1600)\n",
    "def fetch_quandl(my_data_items, trim_start=None, trim_end=None):\n",
    "    qdata = quandl.get(list(my_data_items), returns=\"pandas\",\n",
    "                      trim_start=trim_start, trim_end=trim_end,\n",
    "                      api_key=PersonalApiKey)\n",
    "    return qdata"
   ],
   "metadata": {
    "collapsed": false
   }
  },
  {
   "cell_type": "code",
   "execution_count": 4,
   "outputs": [],
   "source": [
    "def clean_quandl_columns(dataframe):\n",
    "    replacement_columns = {}\n",
    "    for c in dataframe.columns:\n",
    "        series_name, variable = c.split(' - ')\n",
    "        source_name, asset = series_name.split('/')\n",
    "        replacement_columns[c] = variable\n",
    "    renamed_data = dataframe.rename(columns=replacement_columns)\n",
    "    return renamed_data"
   ],
   "metadata": {
    "collapsed": false
   }
  },
  {
   "cell_type": "code",
   "execution_count": 5,
   "outputs": [
    {
     "ename": "ForbiddenError",
     "evalue": "(Status 403) (Quandl Error QEPx04) You do not have permission to view this dataset. Please subscribe to this database to get access.",
     "output_type": "error",
     "traceback": [
      "\u001B[0;31m---------------------------------------------------------------------------\u001B[0m",
      "\u001B[0;31mForbiddenError\u001B[0m                            Traceback (most recent call last)",
      "Input \u001B[0;32mIn [5]\u001B[0m, in \u001B[0;36m<cell line: 1>\u001B[0;34m()\u001B[0m\n\u001B[0;32m----> 1\u001B[0m W_data \u001B[38;5;241m=\u001B[39m clean_quandl_columns(\u001B[43mfetch_quandl\u001B[49m\u001B[43m(\u001B[49m\u001B[43m(\u001B[49m\u001B[43mW_contract\u001B[49m\u001B[43m,\u001B[49m\u001B[43m)\u001B[49m\u001B[43m,\u001B[49m\n\u001B[1;32m      2\u001B[0m \u001B[43m                                           \u001B[49m\u001B[43mtrim_start\u001B[49m\u001B[38;5;241;43m=\u001B[39;49m\u001B[43mstart_date\u001B[49m\u001B[43m,\u001B[49m\n\u001B[1;32m      3\u001B[0m \u001B[43m                                           \u001B[49m\u001B[43mtrim_end\u001B[49m\u001B[38;5;241;43m=\u001B[39;49m\u001B[43mend_date\u001B[49m\u001B[43m)\u001B[49m\n\u001B[1;32m      4\u001B[0m                               )\n\u001B[1;32m      6\u001B[0m X_data \u001B[38;5;241m=\u001B[39m clean_quandl_columns(fetch_quandl((X_contract,),\n\u001B[1;32m      7\u001B[0m                                            trim_start\u001B[38;5;241m=\u001B[39mstart_date,\n\u001B[1;32m      8\u001B[0m                                            trim_end\u001B[38;5;241m=\u001B[39mend_date)\n\u001B[1;32m      9\u001B[0m                               )\n\u001B[1;32m     11\u001B[0m Y_data \u001B[38;5;241m=\u001B[39m clean_quandl_columns(fetch_quandl((Y_contract,),\n\u001B[1;32m     12\u001B[0m                                            trim_start\u001B[38;5;241m=\u001B[39mstart_date,\n\u001B[1;32m     13\u001B[0m                                            trim_end\u001B[38;5;241m=\u001B[39mend_date)\n\u001B[1;32m     14\u001B[0m                               )\n",
      "Input \u001B[0;32mIn [3]\u001B[0m, in \u001B[0;36mfetch_quandl\u001B[0;34m(my_data_items, trim_start, trim_end)\u001B[0m\n\u001B[1;32m      1\u001B[0m \u001B[38;5;129m@functools\u001B[39m\u001B[38;5;241m.\u001B[39mlru_cache(maxsize\u001B[38;5;241m=\u001B[39m\u001B[38;5;241m1600\u001B[39m)\n\u001B[1;32m      2\u001B[0m \u001B[38;5;28;01mdef\u001B[39;00m \u001B[38;5;21mfetch_quandl\u001B[39m(my_data_items, trim_start\u001B[38;5;241m=\u001B[39m\u001B[38;5;28;01mNone\u001B[39;00m, trim_end\u001B[38;5;241m=\u001B[39m\u001B[38;5;28;01mNone\u001B[39;00m):\n\u001B[0;32m----> 3\u001B[0m     qdata \u001B[38;5;241m=\u001B[39m \u001B[43mquandl\u001B[49m\u001B[38;5;241;43m.\u001B[39;49m\u001B[43mget\u001B[49m\u001B[43m(\u001B[49m\u001B[38;5;28;43mlist\u001B[39;49m\u001B[43m(\u001B[49m\u001B[43mmy_data_items\u001B[49m\u001B[43m)\u001B[49m\u001B[43m,\u001B[49m\u001B[43m \u001B[49m\u001B[43mreturns\u001B[49m\u001B[38;5;241;43m=\u001B[39;49m\u001B[38;5;124;43m\"\u001B[39;49m\u001B[38;5;124;43mpandas\u001B[39;49m\u001B[38;5;124;43m\"\u001B[39;49m\u001B[43m,\u001B[49m\n\u001B[1;32m      4\u001B[0m \u001B[43m                      \u001B[49m\u001B[43mtrim_start\u001B[49m\u001B[38;5;241;43m=\u001B[39;49m\u001B[43mtrim_start\u001B[49m\u001B[43m,\u001B[49m\u001B[43m \u001B[49m\u001B[43mtrim_end\u001B[49m\u001B[38;5;241;43m=\u001B[39;49m\u001B[43mtrim_end\u001B[49m\u001B[43m,\u001B[49m\n\u001B[1;32m      5\u001B[0m \u001B[43m                      \u001B[49m\u001B[43mapi_key\u001B[49m\u001B[38;5;241;43m=\u001B[39;49m\u001B[43mPersonalApiKey\u001B[49m\u001B[43m)\u001B[49m\n\u001B[1;32m      6\u001B[0m     \u001B[38;5;28;01mreturn\u001B[39;00m qdata\n",
      "File \u001B[0;32m/Library/Frameworks/Python.framework/Versions/3.10/lib/python3.10/site-packages/quandl/get.py:54\u001B[0m, in \u001B[0;36mget\u001B[0;34m(dataset, **kwargs)\u001B[0m\n\u001B[1;32m     51\u001B[0m     args \u001B[38;5;241m=\u001B[39m _build_merged_dataset_args(dataset)\n\u001B[1;32m     52\u001B[0m     \u001B[38;5;66;03m# handle_not_found_error if set to True will add an empty DataFrame\u001B[39;00m\n\u001B[1;32m     53\u001B[0m     \u001B[38;5;66;03m# for a non-existent dataset instead of raising an error\u001B[39;00m\n\u001B[0;32m---> 54\u001B[0m     data \u001B[38;5;241m=\u001B[39m \u001B[43mMergedDataset\u001B[49m\u001B[43m(\u001B[49m\u001B[43margs\u001B[49m\u001B[43m)\u001B[49m\u001B[38;5;241;43m.\u001B[39;49m\u001B[43mdata\u001B[49m\u001B[43m(\u001B[49m\u001B[43mparams\u001B[49m\u001B[38;5;241;43m=\u001B[39;49m\u001B[43mkwargs\u001B[49m\u001B[43m,\u001B[49m\n\u001B[1;32m     55\u001B[0m \u001B[43m                                    \u001B[49m\u001B[43mhandle_not_found_error\u001B[49m\u001B[38;5;241;43m=\u001B[39;49m\u001B[38;5;28;43;01mTrue\u001B[39;49;00m\u001B[43m,\u001B[49m\n\u001B[1;32m     56\u001B[0m \u001B[43m                                    \u001B[49m\u001B[43mhandle_column_not_found\u001B[49m\u001B[38;5;241;43m=\u001B[39;49m\u001B[38;5;28;43;01mTrue\u001B[39;49;00m\u001B[43m)\u001B[49m\n\u001B[1;32m     57\u001B[0m \u001B[38;5;66;03m# If wrong format\u001B[39;00m\n\u001B[1;32m     58\u001B[0m \u001B[38;5;28;01melse\u001B[39;00m:\n\u001B[1;32m     59\u001B[0m     \u001B[38;5;28;01mraise\u001B[39;00m InvalidRequestError(Message\u001B[38;5;241m.\u001B[39mERROR_DATASET_FORMAT)\n",
      "File \u001B[0;32m/Library/Frameworks/Python.framework/Versions/3.10/lib/python3.10/site-packages/quandl/model/merged_dataset.py:35\u001B[0m, in \u001B[0;36mMergedDataset.data\u001B[0;34m(self, **options)\u001B[0m\n\u001B[1;32m     32\u001B[0m \u001B[38;5;28;01mdef\u001B[39;00m \u001B[38;5;21mdata\u001B[39m(\u001B[38;5;28mself\u001B[39m, \u001B[38;5;241m*\u001B[39m\u001B[38;5;241m*\u001B[39moptions):\n\u001B[1;32m     33\u001B[0m     \u001B[38;5;66;03m# if there is only one column_index, use the api to fetch\u001B[39;00m\n\u001B[1;32m     34\u001B[0m     \u001B[38;5;66;03m# else fetch all the data and filter column indexes requested locally\u001B[39;00m\n\u001B[0;32m---> 35\u001B[0m     dataset_data_list \u001B[38;5;241m=\u001B[39m [\u001B[38;5;28mself\u001B[39m\u001B[38;5;241m.\u001B[39m_get_dataset_data(dataset, \u001B[38;5;241m*\u001B[39m\u001B[38;5;241m*\u001B[39moptions)\n\u001B[1;32m     36\u001B[0m                          \u001B[38;5;28;01mfor\u001B[39;00m dataset \u001B[38;5;129;01min\u001B[39;00m \u001B[38;5;28mself\u001B[39m\u001B[38;5;241m.\u001B[39m__dataset_objects__()]\n\u001B[1;32m     38\u001B[0m     \u001B[38;5;66;03m# build data frames and filter locally when necessary\u001B[39;00m\n\u001B[1;32m     39\u001B[0m     data_frames \u001B[38;5;241m=\u001B[39m [dataset_data\u001B[38;5;241m.\u001B[39mto_pandas(\n\u001B[1;32m     40\u001B[0m         keep_column_indexes\u001B[38;5;241m=\u001B[39m\u001B[38;5;28mself\u001B[39m\u001B[38;5;241m.\u001B[39m_keep_column_indexes(index))\n\u001B[1;32m     41\u001B[0m         \u001B[38;5;28;01mfor\u001B[39;00m index, dataset_data \u001B[38;5;129;01min\u001B[39;00m \u001B[38;5;28menumerate\u001B[39m(dataset_data_list)]\n",
      "File \u001B[0;32m/Library/Frameworks/Python.framework/Versions/3.10/lib/python3.10/site-packages/quandl/model/merged_dataset.py:35\u001B[0m, in \u001B[0;36m<listcomp>\u001B[0;34m(.0)\u001B[0m\n\u001B[1;32m     32\u001B[0m \u001B[38;5;28;01mdef\u001B[39;00m \u001B[38;5;21mdata\u001B[39m(\u001B[38;5;28mself\u001B[39m, \u001B[38;5;241m*\u001B[39m\u001B[38;5;241m*\u001B[39moptions):\n\u001B[1;32m     33\u001B[0m     \u001B[38;5;66;03m# if there is only one column_index, use the api to fetch\u001B[39;00m\n\u001B[1;32m     34\u001B[0m     \u001B[38;5;66;03m# else fetch all the data and filter column indexes requested locally\u001B[39;00m\n\u001B[0;32m---> 35\u001B[0m     dataset_data_list \u001B[38;5;241m=\u001B[39m [\u001B[38;5;28;43mself\u001B[39;49m\u001B[38;5;241;43m.\u001B[39;49m\u001B[43m_get_dataset_data\u001B[49m\u001B[43m(\u001B[49m\u001B[43mdataset\u001B[49m\u001B[43m,\u001B[49m\u001B[43m \u001B[49m\u001B[38;5;241;43m*\u001B[39;49m\u001B[38;5;241;43m*\u001B[39;49m\u001B[43moptions\u001B[49m\u001B[43m)\u001B[49m\n\u001B[1;32m     36\u001B[0m                          \u001B[38;5;28;01mfor\u001B[39;00m dataset \u001B[38;5;129;01min\u001B[39;00m \u001B[38;5;28mself\u001B[39m\u001B[38;5;241m.\u001B[39m__dataset_objects__()]\n\u001B[1;32m     38\u001B[0m     \u001B[38;5;66;03m# build data frames and filter locally when necessary\u001B[39;00m\n\u001B[1;32m     39\u001B[0m     data_frames \u001B[38;5;241m=\u001B[39m [dataset_data\u001B[38;5;241m.\u001B[39mto_pandas(\n\u001B[1;32m     40\u001B[0m         keep_column_indexes\u001B[38;5;241m=\u001B[39m\u001B[38;5;28mself\u001B[39m\u001B[38;5;241m.\u001B[39m_keep_column_indexes(index))\n\u001B[1;32m     41\u001B[0m         \u001B[38;5;28;01mfor\u001B[39;00m index, dataset_data \u001B[38;5;129;01min\u001B[39;00m \u001B[38;5;28menumerate\u001B[39m(dataset_data_list)]\n",
      "File \u001B[0;32m/Library/Frameworks/Python.framework/Versions/3.10/lib/python3.10/site-packages/quandl/model/merged_dataset.py:73\u001B[0m, in \u001B[0;36mMergedDataset._get_dataset_data\u001B[0;34m(self, dataset, **options)\u001B[0m\n\u001B[1;32m     71\u001B[0m     updated_options \u001B[38;5;241m=\u001B[39m options\u001B[38;5;241m.\u001B[39mcopy()\n\u001B[1;32m     72\u001B[0m     updated_options \u001B[38;5;241m=\u001B[39m Util\u001B[38;5;241m.\u001B[39mmerge_options(\u001B[38;5;124m'\u001B[39m\u001B[38;5;124mparams\u001B[39m\u001B[38;5;124m'\u001B[39m, params, \u001B[38;5;241m*\u001B[39m\u001B[38;5;241m*\u001B[39mupdated_options)\n\u001B[0;32m---> 73\u001B[0m \u001B[38;5;28;01mreturn\u001B[39;00m \u001B[43mdataset\u001B[49m\u001B[38;5;241;43m.\u001B[39;49m\u001B[43mdata\u001B[49m\u001B[43m(\u001B[49m\u001B[38;5;241;43m*\u001B[39;49m\u001B[38;5;241;43m*\u001B[39;49m\u001B[43mupdated_options\u001B[49m\u001B[43m)\u001B[49m\n",
      "File \u001B[0;32m/Library/Frameworks/Python.framework/Versions/3.10/lib/python3.10/site-packages/quandl/model/dataset.py:47\u001B[0m, in \u001B[0;36mDataset.data\u001B[0;34m(self, **options)\u001B[0m\n\u001B[1;32m     45\u001B[0m updated_options \u001B[38;5;241m=\u001B[39m Util\u001B[38;5;241m.\u001B[39mmerge_options(\u001B[38;5;124m'\u001B[39m\u001B[38;5;124mparams\u001B[39m\u001B[38;5;124m'\u001B[39m, params, \u001B[38;5;241m*\u001B[39m\u001B[38;5;241m*\u001B[39moptions)\n\u001B[1;32m     46\u001B[0m \u001B[38;5;28;01mtry\u001B[39;00m:\n\u001B[0;32m---> 47\u001B[0m     \u001B[38;5;28;01mreturn\u001B[39;00m \u001B[43mData\u001B[49m\u001B[38;5;241;43m.\u001B[39;49m\u001B[43mall\u001B[49m\u001B[43m(\u001B[49m\u001B[38;5;241;43m*\u001B[39;49m\u001B[38;5;241;43m*\u001B[39;49m\u001B[43mupdated_options\u001B[49m\u001B[43m)\u001B[49m\n\u001B[1;32m     48\u001B[0m \u001B[38;5;28;01mexcept\u001B[39;00m NotFoundError:\n\u001B[1;32m     49\u001B[0m     \u001B[38;5;28;01mif\u001B[39;00m handle_not_found_error:\n",
      "File \u001B[0;32m/Library/Frameworks/Python.framework/Versions/3.10/lib/python3.10/site-packages/quandl/operations/list.py:15\u001B[0m, in \u001B[0;36mListOperation.all\u001B[0;34m(cls, **options)\u001B[0m\n\u001B[1;32m     13\u001B[0m     options[\u001B[38;5;124m'\u001B[39m\u001B[38;5;124mparams\u001B[39m\u001B[38;5;124m'\u001B[39m] \u001B[38;5;241m=\u001B[39m {}\n\u001B[1;32m     14\u001B[0m path \u001B[38;5;241m=\u001B[39m Util\u001B[38;5;241m.\u001B[39mconstructed_path(\u001B[38;5;28mcls\u001B[39m\u001B[38;5;241m.\u001B[39mlist_path(), options[\u001B[38;5;124m'\u001B[39m\u001B[38;5;124mparams\u001B[39m\u001B[38;5;124m'\u001B[39m])\n\u001B[0;32m---> 15\u001B[0m r \u001B[38;5;241m=\u001B[39m \u001B[43mConnection\u001B[49m\u001B[38;5;241;43m.\u001B[39;49m\u001B[43mrequest\u001B[49m\u001B[43m(\u001B[49m\u001B[38;5;124;43m'\u001B[39;49m\u001B[38;5;124;43mget\u001B[39;49m\u001B[38;5;124;43m'\u001B[39;49m\u001B[43m,\u001B[49m\u001B[43m \u001B[49m\u001B[43mpath\u001B[49m\u001B[43m,\u001B[49m\u001B[43m \u001B[49m\u001B[38;5;241;43m*\u001B[39;49m\u001B[38;5;241;43m*\u001B[39;49m\u001B[43moptions\u001B[49m\u001B[43m)\u001B[49m\n\u001B[1;32m     16\u001B[0m response_data \u001B[38;5;241m=\u001B[39m r\u001B[38;5;241m.\u001B[39mjson()\n\u001B[1;32m     17\u001B[0m Util\u001B[38;5;241m.\u001B[39mconvert_to_dates(response_data)\n",
      "File \u001B[0;32m/Library/Frameworks/Python.framework/Versions/3.10/lib/python3.10/site-packages/quandl/connection.py:38\u001B[0m, in \u001B[0;36mConnection.request\u001B[0;34m(cls, http_verb, url, **options)\u001B[0m\n\u001B[1;32m     34\u001B[0m options[\u001B[38;5;124m'\u001B[39m\u001B[38;5;124mheaders\u001B[39m\u001B[38;5;124m'\u001B[39m] \u001B[38;5;241m=\u001B[39m headers\n\u001B[1;32m     36\u001B[0m abs_url \u001B[38;5;241m=\u001B[39m \u001B[38;5;124m'\u001B[39m\u001B[38;5;132;01m%s\u001B[39;00m\u001B[38;5;124m/\u001B[39m\u001B[38;5;132;01m%s\u001B[39;00m\u001B[38;5;124m'\u001B[39m \u001B[38;5;241m%\u001B[39m (ApiConfig\u001B[38;5;241m.\u001B[39mapi_base, url)\n\u001B[0;32m---> 38\u001B[0m \u001B[38;5;28;01mreturn\u001B[39;00m \u001B[38;5;28;43mcls\u001B[39;49m\u001B[38;5;241;43m.\u001B[39;49m\u001B[43mexecute_request\u001B[49m\u001B[43m(\u001B[49m\u001B[43mhttp_verb\u001B[49m\u001B[43m,\u001B[49m\u001B[43m \u001B[49m\u001B[43mabs_url\u001B[49m\u001B[43m,\u001B[49m\u001B[43m \u001B[49m\u001B[38;5;241;43m*\u001B[39;49m\u001B[38;5;241;43m*\u001B[39;49m\u001B[43moptions\u001B[49m\u001B[43m)\u001B[49m\n",
      "File \u001B[0;32m/Library/Frameworks/Python.framework/Versions/3.10/lib/python3.10/site-packages/quandl/connection.py:50\u001B[0m, in \u001B[0;36mConnection.execute_request\u001B[0;34m(cls, http_verb, url, **options)\u001B[0m\n\u001B[1;32m     45\u001B[0m response \u001B[38;5;241m=\u001B[39m session\u001B[38;5;241m.\u001B[39mrequest(method\u001B[38;5;241m=\u001B[39mhttp_verb,\n\u001B[1;32m     46\u001B[0m                            url\u001B[38;5;241m=\u001B[39murl,\n\u001B[1;32m     47\u001B[0m                            verify\u001B[38;5;241m=\u001B[39mApiConfig\u001B[38;5;241m.\u001B[39mverify_ssl,\n\u001B[1;32m     48\u001B[0m                            \u001B[38;5;241m*\u001B[39m\u001B[38;5;241m*\u001B[39moptions)\n\u001B[1;32m     49\u001B[0m \u001B[38;5;28;01mif\u001B[39;00m response\u001B[38;5;241m.\u001B[39mstatus_code \u001B[38;5;241m<\u001B[39m \u001B[38;5;241m200\u001B[39m \u001B[38;5;129;01mor\u001B[39;00m response\u001B[38;5;241m.\u001B[39mstatus_code \u001B[38;5;241m>\u001B[39m\u001B[38;5;241m=\u001B[39m \u001B[38;5;241m300\u001B[39m:\n\u001B[0;32m---> 50\u001B[0m     \u001B[38;5;28;43mcls\u001B[39;49m\u001B[38;5;241;43m.\u001B[39;49m\u001B[43mhandle_api_error\u001B[49m\u001B[43m(\u001B[49m\u001B[43mresponse\u001B[49m\u001B[43m)\u001B[49m\n\u001B[1;32m     51\u001B[0m \u001B[38;5;28;01melse\u001B[39;00m:\n\u001B[1;32m     52\u001B[0m     \u001B[38;5;28;01mreturn\u001B[39;00m response\n",
      "File \u001B[0;32m/Library/Frameworks/Python.framework/Versions/3.10/lib/python3.10/site-packages/quandl/connection.py:114\u001B[0m, in \u001B[0;36mConnection.handle_api_error\u001B[0;34m(cls, resp)\u001B[0m\n\u001B[1;32m    103\u001B[0m d_klass \u001B[38;5;241m=\u001B[39m {\n\u001B[1;32m    104\u001B[0m     \u001B[38;5;124m'\u001B[39m\u001B[38;5;124mL\u001B[39m\u001B[38;5;124m'\u001B[39m: LimitExceededError,\n\u001B[1;32m    105\u001B[0m     \u001B[38;5;124m'\u001B[39m\u001B[38;5;124mM\u001B[39m\u001B[38;5;124m'\u001B[39m: InternalServerError,\n\u001B[0;32m   (...)\u001B[0m\n\u001B[1;32m    110\u001B[0m     \u001B[38;5;124m'\u001B[39m\u001B[38;5;124mX\u001B[39m\u001B[38;5;124m'\u001B[39m: ServiceUnavailableError\n\u001B[1;32m    111\u001B[0m }\n\u001B[1;32m    112\u001B[0m klass \u001B[38;5;241m=\u001B[39m d_klass\u001B[38;5;241m.\u001B[39mget(code_letter, QuandlError)\n\u001B[0;32m--> 114\u001B[0m \u001B[38;5;28;01mraise\u001B[39;00m klass(message, resp\u001B[38;5;241m.\u001B[39mstatus_code, resp\u001B[38;5;241m.\u001B[39mtext, resp\u001B[38;5;241m.\u001B[39mheaders, code)\n",
      "\u001B[0;31mForbiddenError\u001B[0m: (Status 403) (Quandl Error QEPx04) You do not have permission to view this dataset. Please subscribe to this database to get access."
     ]
    }
   ],
   "source": [
    "W_data = clean_quandl_columns(fetch_quandl((W_contract,),\n",
    "                                           trim_start=start_date,\n",
    "                                           trim_end=end_date)\n",
    "                              )\n",
    "\n",
    "X_data = clean_quandl_columns(fetch_quandl((X_contract,),\n",
    "                                           trim_start=start_date,\n",
    "                                           trim_end=end_date)\n",
    "                              )\n",
    "\n",
    "Y_data = clean_quandl_columns(fetch_quandl((Y_contract,),\n",
    "                                           trim_start=start_date,\n",
    "                                           trim_end=end_date)\n",
    "                              )\n",
    "\n",
    "Z_data = clean_quandl_columns(fetch_quandl((Z_contract,),\n",
    "                                           trim_start=start_date,\n",
    "                                           trim_end=end_date)\n",
    "                              )"
   ],
   "metadata": {
    "collapsed": false
   }
  },
  {
   "cell_type": "markdown",
   "source": [
    "## Introduction"
   ],
   "metadata": {
    "collapsed": false
   }
  },
  {
   "cell_type": "markdown",
   "source": [],
   "metadata": {
    "collapsed": false
   }
  },
  {
   "cell_type": "markdown",
   "source": [
    "## Data"
   ],
   "metadata": {
    "collapsed": false
   }
  },
  {
   "cell_type": "markdown",
   "source": [],
   "metadata": {
    "collapsed": false
   }
  },
  {
   "cell_type": "markdown",
   "source": [
    "## Analysis"
   ],
   "metadata": {
    "collapsed": false
   }
  },
  {
   "cell_type": "markdown",
   "source": [],
   "metadata": {
    "collapsed": false
   }
  },
  {
   "cell_type": "markdown",
   "source": [
    "## Conclusion"
   ],
   "metadata": {
    "collapsed": false
   }
  },
  {
   "cell_type": "markdown",
   "source": [],
   "metadata": {
    "collapsed": false
   }
  },
  {
   "cell_type": "code",
   "execution_count": null,
   "outputs": [],
   "source": [],
   "metadata": {
    "collapsed": false
   }
  },
  {
   "cell_type": "markdown",
   "source": [
    "## Strengths and Limitations"
   ],
   "metadata": {
    "collapsed": false
   }
  },
  {
   "cell_type": "code",
   "execution_count": null,
   "outputs": [],
   "source": [],
   "metadata": {
    "collapsed": false
   }
  }
 ],
 "metadata": {
  "kernelspec": {
   "display_name": "Python 3",
   "language": "python",
   "name": "python3"
  },
  "language_info": {
   "codemirror_mode": {
    "name": "ipython",
    "version": 2
   },
   "file_extension": ".py",
   "mimetype": "text/x-python",
   "name": "python",
   "nbconvert_exporter": "python",
   "pygments_lexer": "ipython2",
   "version": "2.7.6"
  }
 },
 "nbformat": 4,
 "nbformat_minor": 0
}
