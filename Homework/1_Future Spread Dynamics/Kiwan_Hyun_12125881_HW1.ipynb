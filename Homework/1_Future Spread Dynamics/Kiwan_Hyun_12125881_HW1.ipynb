{
 "cells": [
  {
   "cell_type": "markdown",
   "source": [],
   "metadata": {
    "collapsed": false
   }
  },
  {
   "cell_type": "markdown",
   "source": [
    "## Imports"
   ],
   "metadata": {
    "collapsed": false
   }
  },
  {
   "cell_type": "code",
   "execution_count": 35,
   "outputs": [],
   "source": [
    "import matplotlib.pyplot as plt\n",
    "import pandas as pd\n",
    "import numpy as np\n",
    "import scipy as sp\n",
    "import quandl\n",
    "import functools\n",
    "import seaborn as sns\n",
    "from datetime import datetime, timedelta"
   ],
   "metadata": {
    "collapsed": false
   }
  },
  {
   "cell_type": "markdown",
   "source": [
    "## Constants"
   ],
   "metadata": {
    "collapsed": false
   }
  },
  {
   "cell_type": "code",
   "execution_count": 80,
   "outputs": [],
   "source": [
    "# API Key\n",
    "PersonalApiKey = \"JbMPn9bSpFPNS7Z7PcZy\"\n",
    "# Pairs\n",
    "pairs1 = {\"W\": ['OWF/NYM_RB_RB', 1.0], \"X\": ['OWF/ICE_G_G', 0.0033]}\n",
    "pairs2 = {\"Y\": ['OWF/ICE_B_B', 1.0], \"Z\": ['OWF/ICE_G_G', 0.1147]}\n",
    "# start and stop dates\n",
    "start_date = \"2020-12-03\"\n",
    "end_date = \"2022-08-31\""
   ],
   "metadata": {
    "collapsed": false
   }
  },
  {
   "cell_type": "code",
   "execution_count": 81,
   "outputs": [],
   "source": [
    "# possible quarters\n",
    "class quarters:\n",
    "    def __init__(self, start_date):\n",
    "        self.quarters = ['H', 'M', 'U', 'Z']\n",
    "        self.year = int(start_date.split(\"-\")[0])\n",
    "        month = int(start_date.split(\"-\")[1])\n",
    "        if month < 3:\n",
    "            self.index = 0\n",
    "        elif month < 6:\n",
    "            self.index = 1\n",
    "        elif month < 9:\n",
    "            self.index = 2\n",
    "        elif month < 12:\n",
    "            self.index = 3\n",
    "        else:\n",
    "            self.year += 1\n",
    "            self.index = 0\n",
    "\n",
    "        self.label = \"_\" + self.quarters[self.index] + str(self.year) + \"_IVM\"\n",
    "\n",
    "    def next(self):\n",
    "        if self.index == 3:\n",
    "            self.year += 1\n",
    "            self.index = 0\n",
    "        else:\n",
    "            self.index += 1\n",
    "\n",
    "        self.label = \"_\" + self.quarters[self.index] + str(self.year) + \"_IVM\""
   ],
   "metadata": {
    "collapsed": false
   }
  },
  {
   "cell_type": "markdown",
   "source": [
    "## Functions"
   ],
   "metadata": {
    "collapsed": false
   }
  },
  {
   "cell_type": "code",
   "execution_count": 82,
   "outputs": [],
   "source": [
    "\"\"\"\n",
    "This code was given by Dr. Boonstra, B., Ph.D. for\n",
    "University of Chicago FINM 33150 Quandl Options Data Fetching guidelines\n",
    "\"\"\"\n",
    "@functools.lru_cache(maxsize=1600)\n",
    "def fetch_quandl(my_data_items, trim_start=None, trim_end=None):\n",
    "    qdata = quandl.get(list(my_data_items), returns=\"pandas\",\n",
    "                      trim_start=trim_start, trim_end=trim_end,\n",
    "                      api_key=PersonalApiKey)\n",
    "    return qdata"
   ],
   "metadata": {
    "collapsed": false
   }
  },
  {
   "cell_type": "code",
   "execution_count": 83,
   "outputs": [],
   "source": [
    "\"\"\"\n",
    "This code was given by Dr. Boonstra, B., Ph.D. for\n",
    "University of Chicago FINM 33150 Quandl Options Data Fetching guidelines\n",
    "and was modified for futures contract analysis\n",
    "\"\"\"\n",
    "def clean_quandl_future_columns(dataframe, pair):\n",
    "    replacement_columns = {}\n",
    "    for c in dataframe.columns:\n",
    "        series_name, variable = c.split(' - ')\n",
    "        source_name, asset = series_name.split('/')\n",
    "        replacement_columns[c] = pair + \"_\" + variable\n",
    "    renamed_data = dataframe.rename(columns=replacement_columns)\n",
    "    return renamed_data[[pair + \"_\" + 'Future', pair + \"_\" + 'DtT']]"
   ],
   "metadata": {
    "collapsed": false
   }
  },
  {
   "cell_type": "code",
   "execution_count": 84,
   "outputs": [],
   "source": [
    "def fetch_second_month_futures(contract_label, pair, start_date, end_date):\n",
    "    data= clean_quandl_future_columns(fetch_quandl((contract_label,),\n",
    "                                                   start_date, end_date),\n",
    "                                      pair)\n",
    "\n",
    "    return data[data[pair + \"_\" + 'DtT'] > 30][pair + \"_\" + 'Future']\n",
    "    #only returning future prices that expires in more than 30 days"
   ],
   "metadata": {
    "collapsed": false
   }
  },
  {
   "cell_type": "code",
   "execution_count": 111,
   "outputs": [],
   "source": [
    "def compile_data(pairs, start_date, end_date):\n",
    "    ret_list = []\n",
    "    for pair, detail in pairs.items():\n",
    "        df = pd.DataFrame(dtype = float)\n",
    "        start = start_date\n",
    "        heading = detail[0]\n",
    "        multiplier = detail[1]\n",
    "        tail = quarters(start_date)\n",
    "        while(start < end_date):\n",
    "            temp = fetch_second_month_futures(heading + tail.label, pair, start, end_date)\n",
    "            df = pd.concat([df, temp])\n",
    "            start = (temp.index[-1] + timedelta(days = 1)).strftime(\"%Y-%m-%d\")\n",
    "            tail.next()\n",
    "        df = df.rename(columns = {0:pair + '_Future'})\n",
    "        df[pair + '_Future'] *= multiplier\n",
    "        ret_list.append(df)\n",
    "    return pd.concat(ret_list, axis = 1, join = 'inner')"
   ],
   "metadata": {
    "collapsed": false
   }
  },
  {
   "cell_type": "code",
   "execution_count": 114,
   "outputs": [
    {
     "data": {
      "text/plain": "            W_Future  X_Future    Spread\n2020-12-03    1.2867  1.335675  0.048975\n2020-12-04    1.2951  1.339800  0.044700\n2020-12-07    1.2850  1.353000  0.068000\n2020-12-08    1.2851  1.352175  0.067075\n2020-12-09    1.2983  1.342275  0.043975\n...              ...       ...       ...\n2022-08-25    2.5303  3.566475  1.036175\n2022-08-26    2.5483  3.573900  1.025600\n2022-08-29    2.6100  3.569775  0.959775\n2022-08-30    2.4482  3.366825  0.918625\n2022-08-31    2.3580  3.314850  0.956850\n\n[450 rows x 3 columns]",
      "text/html": "<div>\n<style scoped>\n    .dataframe tbody tr th:only-of-type {\n        vertical-align: middle;\n    }\n\n    .dataframe tbody tr th {\n        vertical-align: top;\n    }\n\n    .dataframe thead th {\n        text-align: right;\n    }\n</style>\n<table border=\"1\" class=\"dataframe\">\n  <thead>\n    <tr style=\"text-align: right;\">\n      <th></th>\n      <th>W_Future</th>\n      <th>X_Future</th>\n      <th>Spread</th>\n    </tr>\n  </thead>\n  <tbody>\n    <tr>\n      <th>2020-12-03</th>\n      <td>1.2867</td>\n      <td>1.335675</td>\n      <td>0.048975</td>\n    </tr>\n    <tr>\n      <th>2020-12-04</th>\n      <td>1.2951</td>\n      <td>1.339800</td>\n      <td>0.044700</td>\n    </tr>\n    <tr>\n      <th>2020-12-07</th>\n      <td>1.2850</td>\n      <td>1.353000</td>\n      <td>0.068000</td>\n    </tr>\n    <tr>\n      <th>2020-12-08</th>\n      <td>1.2851</td>\n      <td>1.352175</td>\n      <td>0.067075</td>\n    </tr>\n    <tr>\n      <th>2020-12-09</th>\n      <td>1.2983</td>\n      <td>1.342275</td>\n      <td>0.043975</td>\n    </tr>\n    <tr>\n      <th>...</th>\n      <td>...</td>\n      <td>...</td>\n      <td>...</td>\n    </tr>\n    <tr>\n      <th>2022-08-25</th>\n      <td>2.5303</td>\n      <td>3.566475</td>\n      <td>1.036175</td>\n    </tr>\n    <tr>\n      <th>2022-08-26</th>\n      <td>2.5483</td>\n      <td>3.573900</td>\n      <td>1.025600</td>\n    </tr>\n    <tr>\n      <th>2022-08-29</th>\n      <td>2.6100</td>\n      <td>3.569775</td>\n      <td>0.959775</td>\n    </tr>\n    <tr>\n      <th>2022-08-30</th>\n      <td>2.4482</td>\n      <td>3.366825</td>\n      <td>0.918625</td>\n    </tr>\n    <tr>\n      <th>2022-08-31</th>\n      <td>2.3580</td>\n      <td>3.314850</td>\n      <td>0.956850</td>\n    </tr>\n  </tbody>\n</table>\n<p>450 rows × 3 columns</p>\n</div>"
     },
     "execution_count": 114,
     "metadata": {},
     "output_type": "execute_result"
    }
   ],
   "source": [
    "df = compile_data(pairs1, start_date, end_date)\n",
    "df['Spread'] = df['X_Future'] - df['W_Future']\n",
    "df"
   ],
   "metadata": {
    "collapsed": false
   }
  },
  {
   "cell_type": "markdown",
   "source": [
    "## Introduction"
   ],
   "metadata": {
    "collapsed": false
   }
  },
  {
   "cell_type": "markdown",
   "source": [],
   "metadata": {
    "collapsed": false
   }
  },
  {
   "cell_type": "code",
   "execution_count": 72,
   "outputs": [
    {
     "data": {
      "text/plain": "True"
     },
     "execution_count": 72,
     "metadata": {},
     "output_type": "execute_result"
    }
   ],
   "source": [],
   "metadata": {
    "collapsed": false
   }
  },
  {
   "cell_type": "markdown",
   "source": [
    "## Data"
   ],
   "metadata": {
    "collapsed": false
   }
  },
  {
   "cell_type": "markdown",
   "source": [],
   "metadata": {
    "collapsed": false
   }
  },
  {
   "cell_type": "code",
   "execution_count": null,
   "outputs": [],
   "source": [],
   "metadata": {
    "collapsed": false
   }
  },
  {
   "cell_type": "markdown",
   "source": [
    "## Analysis"
   ],
   "metadata": {
    "collapsed": false
   }
  },
  {
   "cell_type": "markdown",
   "source": [],
   "metadata": {
    "collapsed": false
   }
  },
  {
   "cell_type": "code",
   "execution_count": null,
   "outputs": [],
   "source": [],
   "metadata": {
    "collapsed": false
   }
  },
  {
   "cell_type": "markdown",
   "source": [
    "## Conclusion"
   ],
   "metadata": {
    "collapsed": false
   }
  },
  {
   "cell_type": "markdown",
   "source": [],
   "metadata": {
    "collapsed": false
   }
  },
  {
   "cell_type": "code",
   "execution_count": null,
   "outputs": [],
   "source": [],
   "metadata": {
    "collapsed": false
   }
  },
  {
   "cell_type": "markdown",
   "source": [
    "## Strengths and Limitations"
   ],
   "metadata": {
    "collapsed": false
   }
  },
  {
   "cell_type": "code",
   "execution_count": null,
   "outputs": [],
   "source": [],
   "metadata": {
    "collapsed": false
   }
  }
 ],
 "metadata": {
  "kernelspec": {
   "display_name": "Python 3",
   "language": "python",
   "name": "python3"
  },
  "language_info": {
   "codemirror_mode": {
    "name": "ipython",
    "version": 2
   },
   "file_extension": ".py",
   "mimetype": "text/x-python",
   "name": "python",
   "nbconvert_exporter": "python",
   "pygments_lexer": "ipython2",
   "version": "2.7.6"
  }
 },
 "nbformat": 4,
 "nbformat_minor": 0
}
